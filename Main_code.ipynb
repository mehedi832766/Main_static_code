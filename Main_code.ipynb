{
  "cells": [
    {
      "cell_type": "markdown",
      "metadata": {
        "id": "view-in-github",
        "colab_type": "text"
      },
      "source": [
        "<a href=\"https://colab.research.google.com/github/mehedi832766/Main_static_code/blob/main/Main_code.ipynb\" target=\"_parent\"><img src=\"https://colab.research.google.com/assets/colab-badge.svg\" alt=\"Open In Colab\"/></a>"
      ]
    },
    {
      "cell_type": "markdown",
      "source": [
        "#pre-requisite"
      ],
      "metadata": {
        "id": "cnlllm2nhGJe"
      }
    },
    {
      "cell_type": "code",
      "execution_count": null,
      "metadata": {
        "colab": {
          "base_uri": "https://localhost:8080/"
        },
        "id": "NkwPWznWC7YA",
        "outputId": "a816224f-a873-42d0-ccd9-d1222365f41f"
      },
      "outputs": [
        {
          "output_type": "stream",
          "name": "stdout",
          "text": [
            "Drive already mounted at /content/drive; to attempt to forcibly remount, call drive.mount(\"/content/drive\", force_remount=True).\n"
          ]
        }
      ],
      "source": [
        "from google.colab import drive\n",
        "drive.mount('/content/drive')"
      ]
    },
    {
      "cell_type": "code",
      "execution_count": null,
      "metadata": {
        "colab": {
          "base_uri": "https://localhost:8080/"
        },
        "id": "1sCanjcRt98Q",
        "outputId": "79464e82-6d38-4274-e536-b1958efc2d24"
      },
      "outputs": [
        {
          "output_type": "stream",
          "name": "stdout",
          "text": [
            "Mon Apr  3 20:19:56 2023       \n",
            "+-----------------------------------------------------------------------------+\n",
            "| NVIDIA-SMI 525.85.12    Driver Version: 525.85.12    CUDA Version: 12.0     |\n",
            "|-------------------------------+----------------------+----------------------+\n",
            "| GPU  Name        Persistence-M| Bus-Id        Disp.A | Volatile Uncorr. ECC |\n",
            "| Fan  Temp  Perf  Pwr:Usage/Cap|         Memory-Usage | GPU-Util  Compute M. |\n",
            "|                               |                      |               MIG M. |\n",
            "|===============================+======================+======================|\n",
            "|   0  Tesla T4            Off  | 00000000:00:04.0 Off |                    0 |\n",
            "| N/A   65C    P8    11W /  70W |      0MiB / 15360MiB |      0%      Default |\n",
            "|                               |                      |                  N/A |\n",
            "+-------------------------------+----------------------+----------------------+\n",
            "                                                                               \n",
            "+-----------------------------------------------------------------------------+\n",
            "| Processes:                                                                  |\n",
            "|  GPU   GI   CI        PID   Type   Process name                  GPU Memory |\n",
            "|        ID   ID                                                   Usage      |\n",
            "|=============================================================================|\n",
            "|  No running processes found                                                 |\n",
            "+-----------------------------------------------------------------------------+\n"
          ]
        }
      ],
      "source": [
        "!nvidia-smi"
      ]
    },
    {
      "cell_type": "code",
      "execution_count": null,
      "metadata": {
        "id": "655YJ3o5KJSM"
      },
      "outputs": [],
      "source": [
        "# pip install split-folders"
      ]
    },
    {
      "cell_type": "code",
      "execution_count": null,
      "metadata": {
        "id": "14tSdq9Zo5ry"
      },
      "outputs": [],
      "source": [
        "# import splitfolders"
      ]
    },
    {
      "cell_type": "code",
      "execution_count": null,
      "metadata": {
        "id": "SVat5t96pHe3"
      },
      "outputs": [],
      "source": [
        "# input_folder = '/content/drive/MyDrive/DATASets/Cropped_data'"
      ]
    },
    {
      "cell_type": "code",
      "execution_count": null,
      "metadata": {
        "id": "MzJBRBhFpW34"
      },
      "outputs": [],
      "source": [
        "# splitfolders.ratio(input_folder, output=\"/content/drive/MyDrive/DATASets/crop_Split_data\",\n",
        "#                    seed=42,ratio=(.7,.2,.1))"
      ]
    },
    {
      "cell_type": "code",
      "execution_count": null,
      "metadata": {
        "id": "lbWp0LRIqICC"
      },
      "outputs": [],
      "source": [
        "from tensorflow.keras.layers import Input, Lambda, Dense, Flatten\n",
        "\n",
        "from tensorflow.keras.layers import Convolution2D\n",
        "from tensorflow.keras.layers import MaxPooling2D\n",
        "from tensorflow.keras.models import Model\n",
        "from tensorflow.keras.applications.resnet50 import ResNet50\n",
        "from tensorflow.keras.applications.vgg16 import VGG16\n",
        "from tensorflow.keras.applications.vgg19 import VGG19\n",
        "from tensorflow.keras.preprocessing import image\n",
        "from tensorflow.keras.preprocessing.image import ImageDataGenerator,load_img\n",
        "from tensorflow.keras.models import Sequential\n",
        "from tensorflow.keras.layers import Dropout\n",
        "from tensorflow.keras.layers import BatchNormalization\n",
        "import numpy as np\n",
        "import pandas as pd\n",
        "from glob import glob\n",
        "from tensorflow.keras.models import load_model\n",
        "import matplotlib.pyplot as plt"
      ]
    },
    {
      "cell_type": "code",
      "execution_count": null,
      "metadata": {
        "id": "2apX092vGMKb"
      },
      "outputs": [],
      "source": [
        "# re-size all the images to this\n",
        "IMAGE_SIZE = [224, 224]\n",
        "\n",
        "train_path = '/content/drive/MyDrive/DATASets/crop_Split_data/train'\n",
        "valid_path = '/content/drive/MyDrive/DATASets/crop_Split_data/val'\n",
        "test_path='/content/drive/MyDrive/DATASets/crop_Split_data/test'\n"
      ]
    },
    {
      "cell_type": "code",
      "execution_count": null,
      "metadata": {
        "id": "L7ksbsOnvnKf"
      },
      "outputs": [],
      "source": [
        "  # useful for getting number of output classes\n",
        "folders = sorted(glob('/content/drive/MyDrive/DATASets/crop_Split_data/train/*'))"
      ]
    },
    {
      "cell_type": "code",
      "execution_count": null,
      "metadata": {
        "id": "TDdyKD5zxq45",
        "colab": {
          "base_uri": "https://localhost:8080/"
        },
        "outputId": "e2775537-603f-43c3-d2b4-67e22abb981f"
      },
      "outputs": [
        {
          "output_type": "execute_result",
          "data": {
            "text/plain": [
              "['/content/drive/MyDrive/DATASets/crop_Split_data/train/A',\n",
              " '/content/drive/MyDrive/DATASets/crop_Split_data/train/AA',\n",
              " '/content/drive/MyDrive/DATASets/crop_Split_data/train/BA',\n",
              " '/content/drive/MyDrive/DATASets/crop_Split_data/train/BHA',\n",
              " '/content/drive/MyDrive/DATASets/crop_Split_data/train/BI',\n",
              " '/content/drive/MyDrive/DATASets/crop_Split_data/train/CHA',\n",
              " '/content/drive/MyDrive/DATASets/crop_Split_data/train/DA',\n",
              " '/content/drive/MyDrive/DATASets/crop_Split_data/train/DHA',\n",
              " '/content/drive/MyDrive/DATASets/crop_Split_data/train/DHO',\n",
              " '/content/drive/MyDrive/DATASets/crop_Split_data/train/DO',\n",
              " '/content/drive/MyDrive/DATASets/crop_Split_data/train/E',\n",
              " '/content/drive/MyDrive/DATASets/crop_Split_data/train/GA',\n",
              " '/content/drive/MyDrive/DATASets/crop_Split_data/train/GHA',\n",
              " '/content/drive/MyDrive/DATASets/crop_Split_data/train/HA',\n",
              " '/content/drive/MyDrive/DATASets/crop_Split_data/train/JA',\n",
              " '/content/drive/MyDrive/DATASets/crop_Split_data/train/JHA',\n",
              " '/content/drive/MyDrive/DATASets/crop_Split_data/train/KA',\n",
              " '/content/drive/MyDrive/DATASets/crop_Split_data/train/KHA',\n",
              " '/content/drive/MyDrive/DATASets/crop_Split_data/train/LA',\n",
              " '/content/drive/MyDrive/DATASets/crop_Split_data/train/MA',\n",
              " '/content/drive/MyDrive/DATASets/crop_Split_data/train/NA',\n",
              " '/content/drive/MyDrive/DATASets/crop_Split_data/train/O',\n",
              " '/content/drive/MyDrive/DATASets/crop_Split_data/train/PA',\n",
              " '/content/drive/MyDrive/DATASets/crop_Split_data/train/PHA',\n",
              " '/content/drive/MyDrive/DATASets/crop_Split_data/train/RA',\n",
              " '/content/drive/MyDrive/DATASets/crop_Split_data/train/RHA',\n",
              " '/content/drive/MyDrive/DATASets/crop_Split_data/train/SA',\n",
              " '/content/drive/MyDrive/DATASets/crop_Split_data/train/SCHA',\n",
              " '/content/drive/MyDrive/DATASets/crop_Split_data/train/TA',\n",
              " '/content/drive/MyDrive/DATASets/crop_Split_data/train/THA',\n",
              " '/content/drive/MyDrive/DATASets/crop_Split_data/train/THO',\n",
              " '/content/drive/MyDrive/DATASets/crop_Split_data/train/TO',\n",
              " '/content/drive/MyDrive/DATASets/crop_Split_data/train/U',\n",
              " '/content/drive/MyDrive/DATASets/crop_Split_data/train/UN',\n",
              " '/content/drive/MyDrive/DATASets/crop_Split_data/train/Y',\n",
              " '/content/drive/MyDrive/DATASets/crop_Split_data/train/YA',\n",
              " '/content/drive/MyDrive/DATASets/crop_Split_data/train/joint',\n",
              " '/content/drive/MyDrive/DATASets/crop_Split_data/train/space',\n",
              " '/content/drive/MyDrive/DATASets/crop_Split_data/train/stop']"
            ]
          },
          "metadata": {},
          "execution_count": 10
        }
      ],
      "source": [
        "folders"
      ]
    },
    {
      "cell_type": "code",
      "execution_count": null,
      "metadata": {
        "colab": {
          "base_uri": "https://localhost:8080/"
        },
        "id": "pMF98xfQx_CR",
        "outputId": "854fb304-ae40-404c-c79d-288abe958ec1"
      },
      "outputs": [
        {
          "output_type": "execute_result",
          "data": {
            "text/plain": [
              "39"
            ]
          },
          "metadata": {},
          "execution_count": 11
        }
      ],
      "source": [
        "len(folders)"
      ]
    },
    {
      "cell_type": "code",
      "execution_count": null,
      "metadata": {
        "id": "aycKWEeOyWRO"
      },
      "outputs": [],
      "source": [
        "# Use the Image Data Generator to import the images from the dataset\n",
        "from tensorflow.keras.preprocessing.image import ImageDataGenerator\n",
        "\n",
        "train_datagen = ImageDataGenerator(rescale = 1./255,\n",
        "                                   shear_range = 0.2,\n",
        "                                   zoom_range = 0.2\n",
        "                                   )\n",
        "\n",
        "val_datagen = ImageDataGenerator(rescale = 1./255)"
      ]
    },
    {
      "cell_type": "code",
      "execution_count": null,
      "metadata": {
        "colab": {
          "base_uri": "https://localhost:8080/"
        },
        "id": "oakTp-7OyZKW",
        "outputId": "41a23d0d-78f2-4cb9-d709-9e760e128a54"
      },
      "outputs": [
        {
          "output_type": "stream",
          "name": "stdout",
          "text": [
            "Found 1323 images belonging to 39 classes.\n"
          ]
        }
      ],
      "source": [
        "# Make sure you provide the same target size as initialied for the image size\n",
        "training_set = train_datagen.flow_from_directory(train_path,\n",
        "                                                 target_size = (224, 224),\n",
        "                                                 batch_size = 32,\n",
        "                                                 class_mode = 'categorical')"
      ]
    },
    {
      "cell_type": "code",
      "source": [
        "len(training_set)"
      ],
      "metadata": {
        "colab": {
          "base_uri": "https://localhost:8080/"
        },
        "id": "BeIrK_IFSONQ",
        "outputId": "20e70530-e3fa-4772-c1fa-ca5283023673"
      },
      "execution_count": null,
      "outputs": [
        {
          "output_type": "execute_result",
          "data": {
            "text/plain": [
              "42"
            ]
          },
          "metadata": {},
          "execution_count": 14
        }
      ]
    },
    {
      "cell_type": "code",
      "execution_count": null,
      "metadata": {
        "colab": {
          "base_uri": "https://localhost:8080/"
        },
        "id": "bX3UtIM_yrKJ",
        "outputId": "26f8b107-cb39-477c-d48f-b48d3ff77c94"
      },
      "outputs": [
        {
          "output_type": "stream",
          "name": "stdout",
          "text": [
            "Found 367 images belonging to 39 classes.\n"
          ]
        }
      ],
      "source": [
        "val_set = val_datagen.flow_from_directory(valid_path,\n",
        "                                            target_size = (224, 224),\n",
        "                                            batch_size = 32,\n",
        "                                            class_mode = 'categorical')"
      ]
    },
    {
      "cell_type": "code",
      "source": [
        "len(val_set)"
      ],
      "metadata": {
        "colab": {
          "base_uri": "https://localhost:8080/"
        },
        "id": "7Qs3aw-lfyxV",
        "outputId": "57aa870b-330b-4dc4-c651-e32ea8a474f5"
      },
      "execution_count": null,
      "outputs": [
        {
          "output_type": "execute_result",
          "data": {
            "text/plain": [
              "12"
            ]
          },
          "metadata": {},
          "execution_count": 16
        }
      ]
    },
    {
      "cell_type": "code",
      "execution_count": null,
      "metadata": {
        "id": "iHvUVEoLQTAR"
      },
      "outputs": [],
      "source": [
        "test_datagen = ImageDataGenerator(rescale = 1./255)\n"
      ]
    },
    {
      "cell_type": "code",
      "execution_count": null,
      "metadata": {
        "id": "upJ_Tb56RMUR",
        "colab": {
          "base_uri": "https://localhost:8080/"
        },
        "outputId": "80f68973-ed30-408d-f5d1-3ccb1bc43d89"
      },
      "outputs": [
        {
          "output_type": "stream",
          "name": "stdout",
          "text": [
            "Found 222 images belonging to 39 classes.\n"
          ]
        }
      ],
      "source": [
        "test_set = test_datagen.flow_from_directory(test_path,\n",
        "                                            target_size = (224, 224),\n",
        "                                            batch_size = 222,\n",
        "                                            class_mode = 'categorical')\n"
      ]
    },
    {
      "cell_type": "code",
      "source": [
        "images, labels = next(test_set)\n",
        "print(images.shape)\n",
        "print(labels.shape)\n",
        "type(images)"
      ],
      "metadata": {
        "colab": {
          "base_uri": "https://localhost:8080/"
        },
        "id": "DFkXHJBtl2LI",
        "outputId": "d925bbde-cea6-4b09-fb08-ad967d12bf58"
      },
      "execution_count": null,
      "outputs": [
        {
          "output_type": "stream",
          "name": "stdout",
          "text": [
            "(222, 224, 224, 3)\n",
            "(222, 39)\n"
          ]
        },
        {
          "output_type": "execute_result",
          "data": {
            "text/plain": [
              "numpy.ndarray"
            ]
          },
          "metadata": {},
          "execution_count": 59
        }
      ]
    },
    {
      "cell_type": "code",
      "source": [
        "lbl=np.argmax(labels,axis=1)"
      ],
      "metadata": {
        "id": "u-aZ3KfajuWk"
      },
      "execution_count": null,
      "outputs": []
    },
    {
      "cell_type": "code",
      "source": [
        "def display_random_image(index):\n",
        "    \"\"\"\n",
        "        Display a random image from the images array and its correspond label from the labels array.\n",
        "    \"\"\"\n",
        "    plt.figure()\n",
        "    plt.imshow(images[index])\n",
        "    plt.xticks([])\n",
        "    plt.yticks([])\n",
        "    plt.grid(False)\n",
        "    plt.title('Image #{} : '.format(index) + li[lbl[index]])\n",
        "    plt.show()\n",
        "    \n"
      ],
      "metadata": {
        "id": "qVgB_XSq65iA"
      },
      "execution_count": null,
      "outputs": []
    },
    {
      "cell_type": "code",
      "source": [
        "display_random_image(23)"
      ],
      "metadata": {
        "colab": {
          "base_uri": "https://localhost:8080/",
          "height": 428
        },
        "id": "-KwAclx07aIB",
        "outputId": "0eb1f7ea-556d-48ca-e6ea-1e1154789d6f"
      },
      "execution_count": null,
      "outputs": [
        {
          "output_type": "display_data",
          "data": {
            "text/plain": [
              "<Figure size 640x480 with 1 Axes>"
            ],
            "image/png": "[encoded data removed]"
          },
          "metadata": {}
        }
      ]
    },
    {
      "cell_type": "code",
      "source": [
        "len(images)"
      ],
      "metadata": {
        "colab": {
          "base_uri": "https://localhost:8080/"
        },
        "id": "iRZP5QsSkV-V",
        "outputId": "e2765d21-ef37-4afc-e1c5-ca20f0c870b1"
      },
      "execution_count": null,
      "outputs": [
        {
          "output_type": "execute_result",
          "data": {
            "text/plain": [
              "222"
            ]
          },
          "metadata": {},
          "execution_count": 21
        }
      ]
    },
    {
      "cell_type": "code",
      "source": [
        "images[0]"
      ],
      "metadata": {
        "colab": {
          "base_uri": "https://localhost:8080/"
        },
        "id": "4lgps1xo6aqX",
        "outputId": "da50e80c-7ef2-4082-e02a-d9d71b164956"
      },
      "execution_count": null,
      "outputs": [
        {
          "output_type": "execute_result",
          "data": {
            "text/plain": [
              "array([[[0.90196085, 0.86666673, 0.83921576],\n",
              "        [0.8941177 , 0.8588236 , 0.8313726 ],\n",
              "        [0.8980393 , 0.86274517, 0.8352942 ],\n",
              "        ...,\n",
              "        [0.7843138 , 0.77647066, 0.7254902 ],\n",
              "        [0.7803922 , 0.7725491 , 0.72156864],\n",
              "        [0.7843138 , 0.77647066, 0.7254902 ]],\n",
              "\n",
              "       [[0.90196085, 0.86666673, 0.83921576],\n",
              "        [0.8980393 , 0.86274517, 0.8352942 ],\n",
              "        [0.8980393 , 0.86274517, 0.8352942 ],\n",
              "        ...,\n",
              "        [0.7803922 , 0.7725491 , 0.72156864],\n",
              "        [0.77647066, 0.7686275 , 0.7176471 ],\n",
              "        [0.7803922 , 0.7725491 , 0.72156864]],\n",
              "\n",
              "       [[0.9058824 , 0.8705883 , 0.8431373 ],\n",
              "        [0.9058824 , 0.8705883 , 0.8431373 ],\n",
              "        [0.8980393 , 0.86274517, 0.8352942 ],\n",
              "        ...,\n",
              "        [0.7803922 , 0.7725491 , 0.72156864],\n",
              "        [0.77647066, 0.7686275 , 0.7176471 ],\n",
              "        [0.7843138 , 0.7686275 , 0.72156864]],\n",
              "\n",
              "       ...,\n",
              "\n",
              "       [[0.19607845, 0.20000002, 0.20784315],\n",
              "        [0.23529413, 0.2392157 , 0.24705884],\n",
              "        [0.20392159, 0.20784315, 0.21568629],\n",
              "        ...,\n",
              "        [0.59607846, 0.6039216 , 0.54901963],\n",
              "        [0.5921569 , 0.6       , 0.54509807],\n",
              "        [0.6039216 , 0.6117647 , 0.56078434]],\n",
              "\n",
              "       [[0.2627451 , 0.26666668, 0.27450982],\n",
              "        [0.19607845, 0.20000002, 0.20784315],\n",
              "        [0.2392157 , 0.24313727, 0.2509804 ],\n",
              "        ...,\n",
              "        [0.59607846, 0.6039216 , 0.54901963],\n",
              "        [0.60784316, 0.6156863 , 0.56078434],\n",
              "        [0.6       , 0.60784316, 0.5568628 ]],\n",
              "\n",
              "       [[0.1764706 , 0.18039216, 0.18823531],\n",
              "        [0.25490198, 0.25882354, 0.26666668],\n",
              "        [0.19607845, 0.20000002, 0.20784315],\n",
              "        ...,\n",
              "        [0.59607846, 0.6039216 , 0.54901963],\n",
              "        [0.5882353 , 0.59607846, 0.5411765 ],\n",
              "        [0.5882353 , 0.59607846, 0.54509807]]], dtype=float32)"
            ]
          },
          "metadata": {},
          "execution_count": 57
        }
      ]
    },
    {
      "cell_type": "code",
      "source": [
        "class_dict = training_set.class_indices\n",
        "print(class_dict)"
      ],
      "metadata": {
        "colab": {
          "base_uri": "https://localhost:8080/"
        },
        "id": "3bDb8Cohs70O",
        "outputId": "17008a8e-cb96-471b-8142-7ca3dcaaef36"
      },
      "execution_count": null,
      "outputs": [
        {
          "output_type": "stream",
          "name": "stdout",
          "text": [
            "{'A': 0, 'AA': 1, 'BA': 2, 'BHA': 3, 'BI': 4, 'CHA': 5, 'DA': 6, 'DHA': 7, 'DHO': 8, 'DO': 9, 'E': 10, 'GA': 11, 'GHA': 12, 'HA': 13, 'JA': 14, 'JHA': 15, 'KA': 16, 'KHA': 17, 'LA': 18, 'MA': 19, 'NA': 20, 'O': 21, 'PA': 22, 'PHA': 23, 'RA': 24, 'RHA': 25, 'SA': 26, 'SCHA': 27, 'TA': 28, 'THA': 29, 'THO': 30, 'TO': 31, 'U': 32, 'UN': 33, 'Y': 34, 'YA': 35, 'joint': 36, 'space': 37, 'stop': 38}\n"
          ]
        }
      ]
    },
    {
      "cell_type": "code",
      "source": [
        "li = list(class_dict.keys())\n",
        "print(li)"
      ],
      "metadata": {
        "colab": {
          "base_uri": "https://localhost:8080/"
        },
        "id": "w9kWdu91yBx_",
        "outputId": "7cdd725d-5e21-4c5a-ade3-04514a355a13"
      },
      "execution_count": null,
      "outputs": [
        {
          "output_type": "stream",
          "name": "stdout",
          "text": [
            "['A', 'AA', 'BA', 'BHA', 'BI', 'CHA', 'DA', 'DHA', 'DHO', 'DO', 'E', 'GA', 'GHA', 'HA', 'JA', 'JHA', 'KA', 'KHA', 'LA', 'MA', 'NA', 'O', 'PA', 'PHA', 'RA', 'RHA', 'SA', 'SCHA', 'TA', 'THA', 'THO', 'TO', 'U', 'UN', 'Y', 'YA', 'joint', 'space', 'stop']\n"
          ]
        }
      ]
    },
    {
      "cell_type": "code",
      "source": [
        "len(li)"
      ],
      "metadata": {
        "colab": {
          "base_uri": "https://localhost:8080/"
        },
        "id": "ej1VAhkOi6DL",
        "outputId": "0e22357b-22ec-4c0b-8564-74e3dffaec87"
      },
      "execution_count": null,
      "outputs": [
        {
          "output_type": "execute_result",
          "data": {
            "text/plain": [
              "39"
            ]
          },
          "metadata": {},
          "execution_count": 24
        }
      ]
    },
    {
      "cell_type": "markdown",
      "source": [
        "#**VGG16**"
      ],
      "metadata": {
        "id": "y64c4BMByvsl"
      }
    },
    {
      "cell_type": "code",
      "source": [
        "# Import the VGG16 library as shown below and add preprocessing layer to the front of VGG\n",
        "# Here we will be using imagenet weights\n",
        "\n",
        "vgg16 = VGG16(input_shape=IMAGE_SIZE + [3], weights='imagenet', include_top=False)"
      ],
      "metadata": {
        "id": "RYLgOf0eznah"
      },
      "execution_count": null,
      "outputs": []
    },
    {
      "cell_type": "code",
      "source": [
        "# don't train existing weights\n",
        "for layer in vgg16.layers:\n",
        "    layer.trainable = False"
      ],
      "metadata": {
        "id": "fCOrSWlfznai"
      },
      "execution_count": null,
      "outputs": []
    },
    {
      "cell_type": "code",
      "source": [
        "vx = Flatten()(vgg16.output)"
      ],
      "metadata": {
        "id": "hXz0FYhYznai"
      },
      "execution_count": null,
      "outputs": []
    },
    {
      "cell_type": "code",
      "source": [
        "v_prediction = Dense(len(folders), activation='softmax')(vx)\n",
        "\n",
        "# create a model object\n",
        "v_model = Model(inputs=vgg16.input, outputs=v_prediction)"
      ],
      "metadata": {
        "id": "CHajQ9a4znak"
      },
      "execution_count": null,
      "outputs": []
    },
    {
      "cell_type": "code",
      "source": [
        "# view the structure of the model\n",
        "v_model.summary()"
      ],
      "metadata": {
        "colab": {
          "base_uri": "https://localhost:8080/"
        },
        "outputId": "1e7edfb5-fd78-41a5-c54f-ca9464a3e4e9",
        "id": "CNvSA9K_znak"
      },
      "execution_count": null,
      "outputs": [
        {
          "output_type": "stream",
          "name": "stdout",
          "text": [
            "Model: \"model\"\n",
            "_________________________________________________________________\n",
            " Layer (type)                Output Shape              Param #   \n",
            "=================================================================\n",
            " input_1 (InputLayer)        [(None, 224, 224, 3)]     0         \n",
            "                                                                 \n",
            " block1_conv1 (Conv2D)       (None, 224, 224, 64)      1792      \n",
            "                                                                 \n",
            " block1_conv2 (Conv2D)       (None, 224, 224, 64)      36928     \n",
            "                                                                 \n",
            " block1_pool (MaxPooling2D)  (None, 112, 112, 64)      0         \n",
            "                                                                 \n",
            " block2_conv1 (Conv2D)       (None, 112, 112, 128)     73856     \n",
            "                                                                 \n",
            " block2_conv2 (Conv2D)       (None, 112, 112, 128)     147584    \n",
            "                                                                 \n",
            " block2_pool (MaxPooling2D)  (None, 56, 56, 128)       0         \n",
            "                                                                 \n",
            " block3_conv1 (Conv2D)       (None, 56, 56, 256)       295168    \n",
            "                                                                 \n",
            " block3_conv2 (Conv2D)       (None, 56, 56, 256)       590080    \n",
            "                                                                 \n",
            " block3_conv3 (Conv2D)       (None, 56, 56, 256)       590080    \n",
            "                                                                 \n",
            " block3_pool (MaxPooling2D)  (None, 28, 28, 256)       0         \n",
            "                                                                 \n",
            " block4_conv1 (Conv2D)       (None, 28, 28, 512)       1180160   \n",
            "                                                                 \n",
            " block4_conv2 (Conv2D)       (None, 28, 28, 512)       2359808   \n",
            "                                                                 \n",
            " block4_conv3 (Conv2D)       (None, 28, 28, 512)       2359808   \n",
            "                                                                 \n",
            " block4_pool (MaxPooling2D)  (None, 14, 14, 512)       0         \n",
            "                                                                 \n",
            " block5_conv1 (Conv2D)       (None, 14, 14, 512)       2359808   \n",
            "                                                                 \n",
            " block5_conv2 (Conv2D)       (None, 14, 14, 512)       2359808   \n",
            "                                                                 \n",
            " block5_conv3 (Conv2D)       (None, 14, 14, 512)       2359808   \n",
            "                                                                 \n",
            " block5_pool (MaxPooling2D)  (None, 7, 7, 512)         0         \n",
            "                                                                 \n",
            " flatten (Flatten)           (None, 25088)             0         \n",
            "                                                                 \n",
            " dense (Dense)               (None, 39)                978471    \n",
            "                                                                 \n",
            "=================================================================\n",
            "Total params: 15,693,159\n",
            "Trainable params: 978,471\n",
            "Non-trainable params: 14,714,688\n",
            "_________________________________________________________________\n"
          ]
        }
      ]
    },
    {
      "cell_type": "code",
      "source": [
        "from keras import layers\n",
        "for i, layer in enumerate(v_model.layers):\n",
        "   print(i, layer.name)"
      ],
      "metadata": {
        "colab": {
          "base_uri": "https://localhost:8080/"
        },
        "id": "qo2P97PYofx6",
        "outputId": "6812a05a-5010-4345-db5c-f5c856d1e813"
      },
      "execution_count": null,
      "outputs": [
        {
          "output_type": "stream",
          "name": "stdout",
          "text": [
            "0 input_1\n",
            "1 block1_conv1\n",
            "2 block1_conv2\n",
            "3 block1_pool\n",
            "4 block2_conv1\n",
            "5 block2_conv2\n",
            "6 block2_pool\n",
            "7 block3_conv1\n",
            "8 block3_conv2\n",
            "9 block3_conv3\n",
            "10 block3_pool\n",
            "11 block4_conv1\n",
            "12 block4_conv2\n",
            "13 block4_conv3\n",
            "14 block4_pool\n",
            "15 block5_conv1\n",
            "16 block5_conv2\n",
            "17 block5_conv3\n",
            "18 block5_pool\n",
            "19 flatten\n",
            "20 dense\n"
          ]
        }
      ]
    },
    {
      "cell_type": "code",
      "source": [
        "# tell the model what cost and optimization method to use\n",
        "v_model.compile(\n",
        "  loss='categorical_crossentropy',\n",
        "  optimizer='adam',\n",
        "  metrics=['accuracy']\n",
        ")"
      ],
      "metadata": {
        "id": "oCcWlf9Pznak"
      },
      "execution_count": null,
      "outputs": []
    },
    {
      "cell_type": "code",
      "source": [
        "# checkpoint\n",
        "from keras.callbacks import ModelCheckpoint,EarlyStopping,CSVLogger\n",
        "# r_weightpath = \"/content/drive/MyDrive/Thesis/weights/checkpoint/res_best_weights-{epoch:02d}-{val_accuracy:.2f}.hdf5\"\n",
        "v_weightpath = \"/content/drive/MyDrive/PAPER/v16_best_weights_280223_sparse.hdf5\"\n",
        "checkpoint = ModelCheckpoint(v_weightpath, monitor='val_accuracy', verbose=1, save_best_only=True, save_weights_only=True, mode='max')\n",
        "# checkpoint = ModelCheckpoint(r_weightpath, monitor='val_accuracy', verbose=1, save_best_only=True,  mode='max')\n",
        "\n",
        "early_stop=EarlyStopping(monitor='val_accuracy',patience=15,verbose=1)\n",
        "\n",
        "log_csv=CSVLogger('/content/drive/MyDrive/PAPER/v16_logs_280223_sparse.csv',separator=',',append=False)\n",
        "\n",
        "callbacks_list = [checkpoint,log_csv,early_stop]\n",
        "\n",
        "# fit the model\n",
        "# Run the cell. It will take some time to execute\n",
        "v = v_model.fit(\n",
        "  training_set,\n",
        "  validation_data=val_set,\n",
        "  epochs=50,\n",
        "  steps_per_epoch=len(training_set),\n",
        "  validation_steps=len(val_set),\n",
        "  callbacks=callbacks_list\n",
        ")\n",
        "\n",
        "v_model.save('/content/drive/MyDrive/PAPER/model_vgg16_280223_sparse.h5')"
      ],
      "metadata": {
        "id": "86xWMgguznak",
        "colab": {
          "base_uri": "https://localhost:8080/"
        },
        "outputId": "7c705aef-fdb9-4342-aa26-2979e2feb7c3"
      },
      "execution_count": null,
      "outputs": [
        {
          "output_type": "stream",
          "name": "stdout",
          "text": [
            "Epoch 1/50\n",
            "42/42 [==============================] - ETA: 0s - loss: 3.1553 - accuracy: 0.3091\n",
            "Epoch 1: val_accuracy improved from -inf to 0.53406, saving model to /content/drive/MyDrive/PAPER/v16_best_weights_280223_sparse.hdf5\n",
            "42/42 [==============================] - 39s 757ms/step - loss: 3.1553 - accuracy: 0.3091 - val_loss: 1.8261 - val_accuracy: 0.5341\n",
            "Epoch 2/50\n",
            "42/42 [==============================] - ETA: 0s - loss: 0.7115 - accuracy: 0.8012\n",
            "Epoch 2: val_accuracy improved from 0.53406 to 0.75477, saving model to /content/drive/MyDrive/PAPER/v16_best_weights_280223_sparse.hdf5\n",
            "42/42 [==============================] - 28s 657ms/step - loss: 0.7115 - accuracy: 0.8012 - val_loss: 0.9545 - val_accuracy: 0.7548\n",
            "Epoch 3/50\n",
            "42/42 [==============================] - ETA: 0s - loss: 0.2727 - accuracy: 0.9380\n",
            "Epoch 3: val_accuracy did not improve from 0.75477\n",
            "42/42 [==============================] - 26s 618ms/step - loss: 0.2727 - accuracy: 0.9380 - val_loss: 1.0540 - val_accuracy: 0.7275\n",
            "Epoch 4/50\n",
            "42/42 [==============================] - ETA: 0s - loss: 0.1978 - accuracy: 0.9569\n",
            "Epoch 4: val_accuracy improved from 0.75477 to 0.76567, saving model to /content/drive/MyDrive/PAPER/v16_best_weights_280223_sparse.hdf5\n",
            "42/42 [==============================] - 28s 673ms/step - loss: 0.1978 - accuracy: 0.9569 - val_loss: 0.8091 - val_accuracy: 0.7657\n",
            "Epoch 5/50\n",
            "42/42 [==============================] - ETA: 0s - loss: 0.0983 - accuracy: 0.9856\n",
            "Epoch 5: val_accuracy improved from 0.76567 to 0.77929, saving model to /content/drive/MyDrive/PAPER/v16_best_weights_280223_sparse.hdf5\n",
            "42/42 [==============================] - 27s 652ms/step - loss: 0.0983 - accuracy: 0.9856 - val_loss: 0.7601 - val_accuracy: 0.7793\n",
            "Epoch 6/50\n",
            "42/42 [==============================] - ETA: 0s - loss: 0.0848 - accuracy: 0.9826\n",
            "Epoch 6: val_accuracy did not improve from 0.77929\n",
            "42/42 [==============================] - 27s 634ms/step - loss: 0.0848 - accuracy: 0.9826 - val_loss: 0.8137 - val_accuracy: 0.7520\n",
            "Epoch 7/50\n",
            "42/42 [==============================] - ETA: 0s - loss: 0.0583 - accuracy: 0.9932\n",
            "Epoch 7: val_accuracy did not improve from 0.77929\n",
            "42/42 [==============================] - 26s 628ms/step - loss: 0.0583 - accuracy: 0.9932 - val_loss: 0.7415 - val_accuracy: 0.7766\n",
            "Epoch 8/50\n",
            "42/42 [==============================] - ETA: 0s - loss: 0.0493 - accuracy: 0.9924\n",
            "Epoch 8: val_accuracy did not improve from 0.77929\n",
            "42/42 [==============================] - 26s 626ms/step - loss: 0.0493 - accuracy: 0.9924 - val_loss: 0.8031 - val_accuracy: 0.7657\n",
            "Epoch 9/50\n",
            "42/42 [==============================] - ETA: 0s - loss: 0.0408 - accuracy: 0.9932\n",
            "Epoch 9: val_accuracy improved from 0.77929 to 0.78202, saving model to /content/drive/MyDrive/PAPER/v16_best_weights_280223_sparse.hdf5\n",
            "42/42 [==============================] - 27s 642ms/step - loss: 0.0408 - accuracy: 0.9932 - val_loss: 0.8131 - val_accuracy: 0.7820\n",
            "Epoch 10/50\n",
            "42/42 [==============================] - ETA: 0s - loss: 0.0828 - accuracy: 0.9781\n",
            "Epoch 10: val_accuracy did not improve from 0.78202\n",
            "42/42 [==============================] - 26s 630ms/step - loss: 0.0828 - accuracy: 0.9781 - val_loss: 0.9303 - val_accuracy: 0.7684\n",
            "Epoch 11/50\n",
            "42/42 [==============================] - ETA: 0s - loss: 0.0515 - accuracy: 0.9872\n",
            "Epoch 11: val_accuracy did not improve from 0.78202\n",
            "42/42 [==============================] - 29s 701ms/step - loss: 0.0515 - accuracy: 0.9872 - val_loss: 0.9728 - val_accuracy: 0.7793\n",
            "Epoch 12/50\n",
            "42/42 [==============================] - ETA: 0s - loss: 0.0473 - accuracy: 0.9909\n",
            "Epoch 12: val_accuracy improved from 0.78202 to 0.79292, saving model to /content/drive/MyDrive/PAPER/v16_best_weights_280223_sparse.hdf5\n",
            "42/42 [==============================] - 27s 648ms/step - loss: 0.0473 - accuracy: 0.9909 - val_loss: 0.7774 - val_accuracy: 0.7929\n",
            "Epoch 13/50\n",
            "42/42 [==============================] - ETA: 0s - loss: 0.0303 - accuracy: 0.9947\n",
            "Epoch 13: val_accuracy did not improve from 0.79292\n",
            "42/42 [==============================] - 27s 650ms/step - loss: 0.0303 - accuracy: 0.9947 - val_loss: 0.8356 - val_accuracy: 0.7847\n",
            "Epoch 14/50\n",
            "42/42 [==============================] - ETA: 0s - loss: 0.0159 - accuracy: 0.9985\n",
            "Epoch 14: val_accuracy improved from 0.79292 to 0.80381, saving model to /content/drive/MyDrive/PAPER/v16_best_weights_280223_sparse.hdf5\n",
            "42/42 [==============================] - 27s 640ms/step - loss: 0.0159 - accuracy: 0.9985 - val_loss: 0.7307 - val_accuracy: 0.8038\n",
            "Epoch 15/50\n",
            "42/42 [==============================] - ETA: 0s - loss: 0.0200 - accuracy: 0.9970\n",
            "Epoch 15: val_accuracy did not improve from 0.80381\n",
            "42/42 [==============================] - 26s 625ms/step - loss: 0.0200 - accuracy: 0.9970 - val_loss: 0.7643 - val_accuracy: 0.7847\n",
            "Epoch 16/50\n",
            "42/42 [==============================] - ETA: 0s - loss: 0.0187 - accuracy: 0.9970\n",
            "Epoch 16: val_accuracy did not improve from 0.80381\n",
            "42/42 [==============================] - 26s 622ms/step - loss: 0.0187 - accuracy: 0.9970 - val_loss: 0.8279 - val_accuracy: 0.7875\n",
            "Epoch 17/50\n",
            "42/42 [==============================] - ETA: 0s - loss: 0.0151 - accuracy: 0.9977\n",
            "Epoch 17: val_accuracy did not improve from 0.80381\n",
            "42/42 [==============================] - 26s 622ms/step - loss: 0.0151 - accuracy: 0.9977 - val_loss: 0.7184 - val_accuracy: 0.7902\n",
            "Epoch 18/50\n",
            "42/42 [==============================] - ETA: 0s - loss: 0.0153 - accuracy: 0.9970\n",
            "Epoch 18: val_accuracy did not improve from 0.80381\n",
            "42/42 [==============================] - 26s 630ms/step - loss: 0.0153 - accuracy: 0.9970 - val_loss: 0.7732 - val_accuracy: 0.8038\n",
            "Epoch 19/50\n",
            "42/42 [==============================] - ETA: 0s - loss: 0.0147 - accuracy: 0.9970\n",
            "Epoch 19: val_accuracy did not improve from 0.80381\n",
            "42/42 [==============================] - 28s 661ms/step - loss: 0.0147 - accuracy: 0.9970 - val_loss: 0.7469 - val_accuracy: 0.7902\n",
            "Epoch 20/50\n",
            "42/42 [==============================] - ETA: 0s - loss: 0.0186 - accuracy: 0.9947\n",
            "Epoch 20: val_accuracy did not improve from 0.80381\n",
            "42/42 [==============================] - 27s 636ms/step - loss: 0.0186 - accuracy: 0.9947 - val_loss: 0.7908 - val_accuracy: 0.7956\n",
            "Epoch 21/50\n",
            "42/42 [==============================] - ETA: 0s - loss: 0.0118 - accuracy: 0.9970\n",
            "Epoch 21: val_accuracy did not improve from 0.80381\n",
            "42/42 [==============================] - 28s 670ms/step - loss: 0.0118 - accuracy: 0.9970 - val_loss: 0.7914 - val_accuracy: 0.7929\n",
            "Epoch 22/50\n",
            "42/42 [==============================] - ETA: 0s - loss: 0.0167 - accuracy: 0.9970\n",
            "Epoch 22: val_accuracy did not improve from 0.80381\n",
            "42/42 [==============================] - 28s 667ms/step - loss: 0.0167 - accuracy: 0.9970 - val_loss: 0.7462 - val_accuracy: 0.8038\n",
            "Epoch 23/50\n",
            "42/42 [==============================] - ETA: 0s - loss: 0.0132 - accuracy: 0.9970\n",
            "Epoch 23: val_accuracy improved from 0.80381 to 0.80654, saving model to /content/drive/MyDrive/PAPER/v16_best_weights_280223_sparse.hdf5\n",
            "42/42 [==============================] - 27s 647ms/step - loss: 0.0132 - accuracy: 0.9970 - val_loss: 0.7304 - val_accuracy: 0.8065\n",
            "Epoch 24/50\n",
            "42/42 [==============================] - ETA: 0s - loss: 0.0284 - accuracy: 0.9940\n",
            "Epoch 24: val_accuracy did not improve from 0.80654\n",
            "42/42 [==============================] - 28s 667ms/step - loss: 0.0284 - accuracy: 0.9940 - val_loss: 0.7916 - val_accuracy: 0.7902\n",
            "Epoch 25/50\n",
            "42/42 [==============================] - ETA: 0s - loss: 0.0079 - accuracy: 0.9992\n",
            "Epoch 25: val_accuracy did not improve from 0.80654\n",
            "42/42 [==============================] - 28s 666ms/step - loss: 0.0079 - accuracy: 0.9992 - val_loss: 0.8809 - val_accuracy: 0.7847\n",
            "Epoch 26/50\n",
            "42/42 [==============================] - ETA: 0s - loss: 0.0205 - accuracy: 0.9947\n",
            "Epoch 26: val_accuracy did not improve from 0.80654\n",
            "42/42 [==============================] - 27s 643ms/step - loss: 0.0205 - accuracy: 0.9947 - val_loss: 0.7567 - val_accuracy: 0.8011\n",
            "Epoch 27/50\n",
            "42/42 [==============================] - ETA: 0s - loss: 0.0135 - accuracy: 0.9977\n",
            "Epoch 27: val_accuracy did not improve from 0.80654\n",
            "42/42 [==============================] - 27s 638ms/step - loss: 0.0135 - accuracy: 0.9977 - val_loss: 0.8012 - val_accuracy: 0.7902\n",
            "Epoch 28/50\n",
            "42/42 [==============================] - ETA: 0s - loss: 0.0147 - accuracy: 0.9962\n",
            "Epoch 28: val_accuracy did not improve from 0.80654\n",
            "42/42 [==============================] - 26s 628ms/step - loss: 0.0147 - accuracy: 0.9962 - val_loss: 0.8603 - val_accuracy: 0.7956\n",
            "Epoch 29/50\n",
            "42/42 [==============================] - ETA: 0s - loss: 0.0302 - accuracy: 0.9909\n",
            "Epoch 29: val_accuracy did not improve from 0.80654\n",
            "42/42 [==============================] - 28s 662ms/step - loss: 0.0302 - accuracy: 0.9909 - val_loss: 0.9066 - val_accuracy: 0.7875\n",
            "Epoch 30/50\n",
            "42/42 [==============================] - ETA: 0s - loss: 0.0161 - accuracy: 0.9940\n",
            "Epoch 30: val_accuracy did not improve from 0.80654\n",
            "42/42 [==============================] - 26s 623ms/step - loss: 0.0161 - accuracy: 0.9940 - val_loss: 0.8485 - val_accuracy: 0.8038\n",
            "Epoch 31/50\n",
            "42/42 [==============================] - ETA: 0s - loss: 0.0436 - accuracy: 0.9879\n",
            "Epoch 31: val_accuracy did not improve from 0.80654\n",
            "42/42 [==============================] - 26s 621ms/step - loss: 0.0436 - accuracy: 0.9879 - val_loss: 0.8967 - val_accuracy: 0.7820\n",
            "Epoch 32/50\n",
            "42/42 [==============================] - ETA: 0s - loss: 0.0118 - accuracy: 0.9985\n",
            "Epoch 32: val_accuracy did not improve from 0.80654\n",
            "42/42 [==============================] - 27s 635ms/step - loss: 0.0118 - accuracy: 0.9985 - val_loss: 0.8072 - val_accuracy: 0.7984\n",
            "Epoch 33/50\n",
            "42/42 [==============================] - ETA: 0s - loss: 0.0053 - accuracy: 0.9992\n",
            "Epoch 33: val_accuracy did not improve from 0.80654\n",
            "42/42 [==============================] - 28s 658ms/step - loss: 0.0053 - accuracy: 0.9992 - val_loss: 0.7725 - val_accuracy: 0.7902\n",
            "Epoch 34/50\n",
            "42/42 [==============================] - ETA: 0s - loss: 0.0028 - accuracy: 1.0000\n",
            "Epoch 34: val_accuracy did not improve from 0.80654\n",
            "42/42 [==============================] - 26s 623ms/step - loss: 0.0028 - accuracy: 1.0000 - val_loss: 0.8082 - val_accuracy: 0.8038\n",
            "Epoch 35/50\n",
            "42/42 [==============================] - ETA: 0s - loss: 0.0027 - accuracy: 1.0000\n",
            "Epoch 35: val_accuracy improved from 0.80654 to 0.81199, saving model to /content/drive/MyDrive/PAPER/v16_best_weights_280223_sparse.hdf5\n",
            "42/42 [==============================] - 27s 636ms/step - loss: 0.0027 - accuracy: 1.0000 - val_loss: 0.8130 - val_accuracy: 0.8120\n",
            "Epoch 36/50\n",
            "42/42 [==============================] - ETA: 0s - loss: 0.0023 - accuracy: 1.0000\n",
            "Epoch 36: val_accuracy did not improve from 0.81199\n",
            "42/42 [==============================] - 26s 626ms/step - loss: 0.0023 - accuracy: 1.0000 - val_loss: 0.7832 - val_accuracy: 0.8093\n",
            "Epoch 37/50\n",
            "42/42 [==============================] - ETA: 0s - loss: 0.0137 - accuracy: 0.9970\n",
            "Epoch 37: val_accuracy did not improve from 0.81199\n",
            "42/42 [==============================] - 29s 682ms/step - loss: 0.0137 - accuracy: 0.9970 - val_loss: 0.8032 - val_accuracy: 0.7956\n",
            "Epoch 38/50\n",
            "42/42 [==============================] - ETA: 0s - loss: 0.0095 - accuracy: 0.9977\n",
            "Epoch 38: val_accuracy did not improve from 0.81199\n",
            "42/42 [==============================] - 26s 626ms/step - loss: 0.0095 - accuracy: 0.9977 - val_loss: 0.8300 - val_accuracy: 0.8011\n",
            "Epoch 39/50\n",
            "42/42 [==============================] - ETA: 0s - loss: 0.0133 - accuracy: 0.9962\n",
            "Epoch 39: val_accuracy did not improve from 0.81199\n",
            "42/42 [==============================] - 26s 623ms/step - loss: 0.0133 - accuracy: 0.9962 - val_loss: 0.7919 - val_accuracy: 0.8065\n",
            "Epoch 40/50\n",
            "42/42 [==============================] - ETA: 0s - loss: 0.0141 - accuracy: 0.9955\n",
            "Epoch 40: val_accuracy did not improve from 0.81199\n",
            "42/42 [==============================] - 26s 629ms/step - loss: 0.0141 - accuracy: 0.9955 - val_loss: 0.8684 - val_accuracy: 0.8065\n",
            "Epoch 41/50\n",
            "42/42 [==============================] - ETA: 0s - loss: 0.0133 - accuracy: 0.9977\n",
            "Epoch 41: val_accuracy did not improve from 0.81199\n",
            "42/42 [==============================] - 29s 684ms/step - loss: 0.0133 - accuracy: 0.9977 - val_loss: 0.7725 - val_accuracy: 0.8065\n",
            "Epoch 42/50\n",
            "42/42 [==============================] - ETA: 0s - loss: 0.0078 - accuracy: 0.9970\n",
            "Epoch 42: val_accuracy did not improve from 0.81199\n",
            "42/42 [==============================] - 26s 624ms/step - loss: 0.0078 - accuracy: 0.9970 - val_loss: 0.8471 - val_accuracy: 0.8093\n",
            "Epoch 43/50\n",
            "42/42 [==============================] - ETA: 0s - loss: 0.0191 - accuracy: 0.9985\n",
            "Epoch 43: val_accuracy did not improve from 0.81199\n",
            "42/42 [==============================] - 26s 629ms/step - loss: 0.0191 - accuracy: 0.9985 - val_loss: 0.7906 - val_accuracy: 0.8093\n",
            "Epoch 44/50\n",
            "42/42 [==============================] - ETA: 0s - loss: 0.0042 - accuracy: 0.9985\n",
            "Epoch 44: val_accuracy did not improve from 0.81199\n",
            "42/42 [==============================] - 26s 625ms/step - loss: 0.0042 - accuracy: 0.9985 - val_loss: 0.8542 - val_accuracy: 0.8038\n",
            "Epoch 45/50\n",
            "42/42 [==============================] - ETA: 0s - loss: 0.0080 - accuracy: 0.9992\n",
            "Epoch 45: val_accuracy did not improve from 0.81199\n",
            "42/42 [==============================] - 26s 624ms/step - loss: 0.0080 - accuracy: 0.9992 - val_loss: 0.8124 - val_accuracy: 0.8065\n",
            "Epoch 46/50\n",
            "42/42 [==============================] - ETA: 0s - loss: 0.0057 - accuracy: 0.9977\n",
            "Epoch 46: val_accuracy did not improve from 0.81199\n",
            "42/42 [==============================] - 26s 626ms/step - loss: 0.0057 - accuracy: 0.9977 - val_loss: 0.9045 - val_accuracy: 0.8038\n",
            "Epoch 47/50\n",
            "42/42 [==============================] - ETA: 0s - loss: 0.0125 - accuracy: 0.9985\n",
            "Epoch 47: val_accuracy did not improve from 0.81199\n",
            "42/42 [==============================] - 26s 622ms/step - loss: 0.0125 - accuracy: 0.9985 - val_loss: 0.8049 - val_accuracy: 0.8038\n",
            "Epoch 48/50\n",
            "42/42 [==============================] - ETA: 0s - loss: 0.0013 - accuracy: 1.0000\n",
            "Epoch 48: val_accuracy improved from 0.81199 to 0.82016, saving model to /content/drive/MyDrive/PAPER/v16_best_weights_280223_sparse.hdf5\n",
            "42/42 [==============================] - 28s 676ms/step - loss: 0.0013 - accuracy: 1.0000 - val_loss: 0.7731 - val_accuracy: 0.8202\n",
            "Epoch 49/50\n",
            "42/42 [==============================] - ETA: 0s - loss: 0.0057 - accuracy: 0.9985\n",
            "Epoch 49: val_accuracy did not improve from 0.82016\n",
            "42/42 [==============================] - 26s 621ms/step - loss: 0.0057 - accuracy: 0.9985 - val_loss: 0.7771 - val_accuracy: 0.8174\n",
            "Epoch 50/50\n",
            "42/42 [==============================] - ETA: 0s - loss: 0.0024 - accuracy: 0.9992\n",
            "Epoch 50: val_accuracy did not improve from 0.82016\n",
            "42/42 [==============================] - 26s 630ms/step - loss: 0.0024 - accuracy: 0.9992 - val_loss: 0.8207 - val_accuracy: 0.8147\n"
          ]
        }
      ]
    },
    {
      "cell_type": "code",
      "source": [
        "# plot the loss\n",
        "plt.plot(v.history['loss'], label='train loss')\n",
        "plt.plot(v.history['val_loss'], label='test loss')\n",
        "plt.legend()\n",
        "plt.show()\n",
        "plt.savefig('/content/drive/MyDrive/PAPER/vLossVal_loss_280323')\n",
        "\n",
        "# plot the accuracy\n",
        "plt.plot(v.history['accuracy'], label='train acc')\n",
        "plt.plot(v.history['val_accuracy'], label='test acc')\n",
        "plt.legend()\n",
        "plt.show()\n",
        "plt.savefig('/content/drive/MyDrive/PAPER/vAccVal_acc_280323')"
      ],
      "metadata": {
        "id": "frfRmqp1znal",
        "colab": {
          "base_uri": "https://localhost:8080/",
          "height": 860
        },
        "outputId": "c3f41694-36bf-45c2-dc3a-e7469beb9fb5"
      },
      "execution_count": null,
      "outputs": [
        {
          "output_type": "display_data",
          "data": {
            "text/plain": [
              "<Figure size 640x480 with 1 Axes>"
            ],
            "image/png": "[encoded data removed]"
          },
          "metadata": {}
        },
        {
          "output_type": "display_data",
          "data": {
            "text/plain": [
              "<Figure size 640x480 with 1 Axes>"
            ],
            "image/png": "[encoded data removed]"
          },
          "metadata": {}
        },
        {
          "output_type": "display_data",
          "data": {
            "text/plain": [
              "<Figure size 640x480 with 0 Axes>"
            ]
          },
          "metadata": {}
        }
      ]
    },
    {
      "cell_type": "code",
      "source": [
        "from tensorflow.keras.models import load_model\n",
        "model=load_model('/content/drive/MyDrive/PAPER/model_vgg16_280223_sparse.h5')"
      ],
      "metadata": {
        "id": "EximojAnznam"
      },
      "execution_count": null,
      "outputs": []
    },
    {
      "cell_type": "code",
      "source": [
        "from sklearn.metrics import classification_report\n"
      ],
      "metadata": {
        "id": "H6IoiypUznam"
      },
      "execution_count": null,
      "outputs": []
    },
    {
      "cell_type": "code",
      "source": [
        "len(images)"
      ],
      "metadata": {
        "colab": {
          "base_uri": "https://localhost:8080/"
        },
        "id": "To3UmOx8j9Y1",
        "outputId": "43971f43-6449-427a-9779-0ce4571ad80a"
      },
      "execution_count": null,
      "outputs": [
        {
          "output_type": "execute_result",
          "data": {
            "text/plain": [
              "222"
            ]
          },
          "metadata": {},
          "execution_count": 54
        }
      ]
    },
    {
      "cell_type": "code",
      "source": [
        "labels.shape"
      ],
      "metadata": {
        "colab": {
          "base_uri": "https://localhost:8080/"
        },
        "id": "5rsewA0hxbjk",
        "outputId": "d6e374c9-118c-4db9-c2aa-95d3be732930"
      },
      "execution_count": null,
      "outputs": [
        {
          "output_type": "execute_result",
          "data": {
            "text/plain": [
              "(222, 39)"
            ]
          },
          "metadata": {},
          "execution_count": 55
        }
      ]
    },
    {
      "cell_type": "code",
      "source": [
        "ypred = model.predict(images)\n",
        "pred=np.argmax(ypred, axis=1)\n",
        "ground = np.argmax(labels,axis=1)\n",
        "print(classification_report(ground,pred))"
      ],
      "metadata": {
        "colab": {
          "base_uri": "https://localhost:8080/"
        },
        "outputId": "270bfe99-be7e-491e-b0dc-36a650bdde67",
        "id": "q21p7cjvznam"
      },
      "execution_count": null,
      "outputs": [
        {
          "output_type": "stream",
          "name": "stdout",
          "text": [
            "7/7 [==============================] - 1s 139ms/step\n",
            "              precision    recall  f1-score   support\n",
            "\n",
            "           0       0.57      0.80      0.67         5\n",
            "           1       0.83      1.00      0.91         5\n",
            "           2       1.00      0.86      0.92         7\n",
            "           3       0.83      0.83      0.83         6\n",
            "           4       1.00      0.83      0.91         6\n",
            "           5       0.83      1.00      0.91         5\n",
            "           6       1.00      0.80      0.89         5\n",
            "           7       0.60      0.50      0.55         6\n",
            "           8       1.00      1.00      1.00         6\n",
            "           9       1.00      1.00      1.00         6\n",
            "          10       0.86      1.00      0.92         6\n",
            "          11       0.57      0.80      0.67         5\n",
            "          12       0.60      0.60      0.60         5\n",
            "          13       1.00      0.83      0.91         6\n",
            "          14       1.00      1.00      1.00         6\n",
            "          15       1.00      1.00      1.00         5\n",
            "          16       1.00      0.80      0.89         5\n",
            "          17       0.80      0.80      0.80         5\n",
            "          18       1.00      0.67      0.80         6\n",
            "          19       0.88      1.00      0.93         7\n",
            "          20       1.00      0.43      0.60         7\n",
            "          21       0.71      0.83      0.77         6\n",
            "          22       0.71      0.83      0.77         6\n",
            "          23       1.00      1.00      1.00         6\n",
            "          24       0.75      0.86      0.80         7\n",
            "          25       0.71      1.00      0.83         5\n",
            "          26       1.00      0.67      0.80         6\n",
            "          27       0.62      1.00      0.77         5\n",
            "          28       1.00      1.00      1.00         5\n",
            "          29       1.00      1.00      1.00         6\n",
            "          30       0.86      1.00      0.92         6\n",
            "          31       1.00      0.67      0.80         6\n",
            "          32       0.75      1.00      0.86         6\n",
            "          33       1.00      0.83      0.91         6\n",
            "          34       1.00      0.50      0.67         6\n",
            "          35       0.86      1.00      0.92         6\n",
            "          36       0.80      1.00      0.89         4\n",
            "          37       1.00      0.80      0.89         5\n",
            "          38       1.00      1.00      1.00         5\n",
            "\n",
            "    accuracy                           0.86       222\n",
            "   macro avg       0.88      0.86      0.85       222\n",
            "weighted avg       0.88      0.86      0.85       222\n",
            "\n"
          ]
        }
      ]
    },
    {
      "cell_type": "code",
      "source": [
        "cr=classification_report(ground,pred, output_dict=True)\n",
        "v6_cr = pd.DataFrame(cr).transpose()"
      ],
      "metadata": {
        "id": "90X0BsA07SF7"
      },
      "execution_count": null,
      "outputs": []
    },
    {
      "cell_type": "code",
      "source": [
        "v6_rep=v6_cr.iloc[39:42,:]\n",
        "v6_rep"
      ],
      "metadata": {
        "colab": {
          "base_uri": "https://localhost:8080/",
          "height": 143
        },
        "outputId": "88c7ed5d-f5e8-4056-deb1-241d4ed57df9",
        "id": "JI2nsjup7SF9"
      },
      "execution_count": null,
      "outputs": [
        {
          "output_type": "execute_result",
          "data": {
            "text/plain": [
              "              precision    recall  f1-score     support\n",
              "accuracy       0.855856  0.855856  0.855856    0.855856\n",
              "macro avg      0.875824  0.860073  0.853939  222.000000\n",
              "weighted avg   0.880266  0.855856  0.853511  222.000000"
            ],
            "text/html": [
              "\n",
              "  <div id=\"df-82d46495-da66-4396-94ef-4acfd8503a94\">\n",
              "    <div class=\"colab-df-container\">\n",
              "      <div>\n",
              "<style scoped>\n",
              "    .dataframe tbody tr th:only-of-type {\n",
              "        vertical-align: middle;\n",
              "    }\n",
              "\n",
              "    .dataframe tbody tr th {\n",
              "        vertical-align: top;\n",
              "    }\n",
              "\n",
              "    .dataframe thead th {\n",
              "        text-align: right;\n",
              "    }\n",
              "</style>\n",
              "<table border=\"1\" class=\"dataframe\">\n",
              "  <thead>\n",
              "    <tr style=\"text-align: right;\">\n",
              "      <th></th>\n",
              "      <th>precision</th>\n",
              "      <th>recall</th>\n",
              "      <th>f1-score</th>\n",
              "      <th>support</th>\n",
              "    </tr>\n",
              "  </thead>\n",
              "  <tbody>\n",
              "    <tr>\n",
              "      <th>accuracy</th>\n",
              "      <td>0.855856</td>\n",
              "      <td>0.855856</td>\n",
              "      <td>0.855856</td>\n",
              "      <td>0.855856</td>\n",
              "    </tr>\n",
              "    <tr>\n",
              "      <th>macro avg</th>\n",
              "      <td>0.875824</td>\n",
              "      <td>0.860073</td>\n",
              "      <td>0.853939</td>\n",
              "      <td>222.000000</td>\n",
              "    </tr>\n",
              "    <tr>\n",
              "      <th>weighted avg</th>\n",
              "      <td>0.880266</td>\n",
              "      <td>0.855856</td>\n",
              "      <td>0.853511</td>\n",
              "      <td>222.000000</td>\n",
              "    </tr>\n",
              "  </tbody>\n",
              "</table>\n",
              "</div>\n",
              "      <button class=\"colab-df-convert\" onclick=\"convertToInteractive('df-82d46495-da66-4396-94ef-4acfd8503a94')\"\n",
              "              title=\"Convert this dataframe to an interactive table.\"\n",
              "              style=\"display:none;\">\n",
              "        \n",
              "  <svg xmlns=\"http://www.w3.org/2000/svg\" height=\"24px\"viewBox=\"0 0 24 24\"\n",
              "       width=\"24px\">\n",
              "    <path d=\"M0 0h24v24H0V0z\" fill=\"none\"/>\n",
              "    <path d=\"M18.56 5.44l.94 2.06.94-2.06 2.06-.94-2.06-.94-.94-2.06-.94 2.06-2.06.94zm-11 1L8.5 8.5l.94-2.06 2.06-.94-2.06-.94L8.5 2.5l-.94 2.06-2.06.94zm10 10l.94 2.06.94-2.06 2.06-.94-2.06-.94-.94-2.06-.94 2.06-2.06.94z\"/><path d=\"M17.41 7.96l-1.37-1.37c-.4-.4-.92-.59-1.43-.59-.52 0-1.04.2-1.43.59L10.3 9.45l-7.72 7.72c-.78.78-.78 2.05 0 2.83L4 21.41c.39.39.9.59 1.41.59.51 0 1.02-.2 1.41-.59l7.78-7.78 2.81-2.81c.8-.78.8-2.07 0-2.86zM5.41 20L4 18.59l7.72-7.72 1.47 1.35L5.41 20z\"/>\n",
              "  </svg>\n",
              "      </button>\n",
              "      \n",
              "  <style>\n",
              "    .colab-df-container {\n",
              "      display:flex;\n",
              "      flex-wrap:wrap;\n",
              "      gap: 12px;\n",
              "    }\n",
              "\n",
              "    .colab-df-convert {\n",
              "      background-color: #E8F0FE;\n",
              "      border: none;\n",
              "      border-radius: 50%;\n",
              "      cursor: pointer;\n",
              "      display: none;\n",
              "      fill: #1967D2;\n",
              "      height: 32px;\n",
              "      padding: 0 0 0 0;\n",
              "      width: 32px;\n",
              "    }\n",
              "\n",
              "    .colab-df-convert:hover {\n",
              "      background-color: #E2EBFA;\n",
              "      box-shadow: 0px 1px 2px rgba(60, 64, 67, 0.3), 0px 1px 3px 1px rgba(60, 64, 67, 0.15);\n",
              "      fill: #174EA6;\n",
              "    }\n",
              "\n",
              "    [theme=dark] .colab-df-convert {\n",
              "      background-color: #3B4455;\n",
              "      fill: #D2E3FC;\n",
              "    }\n",
              "\n",
              "    [theme=dark] .colab-df-convert:hover {\n",
              "      background-color: #434B5C;\n",
              "      box-shadow: 0px 1px 3px 1px rgba(0, 0, 0, 0.15);\n",
              "      filter: drop-shadow(0px 1px 2px rgba(0, 0, 0, 0.3));\n",
              "      fill: #FFFFFF;\n",
              "    }\n",
              "  </style>\n",
              "\n",
              "      <script>\n",
              "        const buttonEl =\n",
              "          document.querySelector('#df-82d46495-da66-4396-94ef-4acfd8503a94 button.colab-df-convert');\n",
              "        buttonEl.style.display =\n",
              "          google.colab.kernel.accessAllowed ? 'block' : 'none';\n",
              "\n",
              "        async function convertToInteractive(key) {\n",
              "          const element = document.querySelector('#df-82d46495-da66-4396-94ef-4acfd8503a94');\n",
              "          const dataTable =\n",
              "            await google.colab.kernel.invokeFunction('convertToInteractive',\n",
              "                                                     [key], {});\n",
              "          if (!dataTable) return;\n",
              "\n",
              "          const docLinkHtml = 'Like what you see? Visit the ' +\n",
              "            '<a target=\"_blank\" href=https://colab.research.google.com/notebooks/data_table.ipynb>data table notebook</a>'\n",
              "            + ' to learn more about interactive tables.';\n",
              "          element.innerHTML = '';\n",
              "          dataTable['output_type'] = 'display_data';\n",
              "          await google.colab.output.renderOutput(dataTable, element);\n",
              "          const docLink = document.createElement('div');\n",
              "          docLink.innerHTML = docLinkHtml;\n",
              "          element.appendChild(docLink);\n",
              "        }\n",
              "      </script>\n",
              "    </div>\n",
              "  </div>\n",
              "  "
            ]
          },
          "metadata": {},
          "execution_count": 72
        }
      ]
    },
    {
      "cell_type": "code",
      "source": [
        "v6_cr=v6_cr.iloc[0:39,:]"
      ],
      "metadata": {
        "id": "WZMWL0kQ7SF-"
      },
      "execution_count": null,
      "outputs": []
    },
    {
      "cell_type": "code",
      "source": [
        "v6_cr['class']=li"
      ],
      "metadata": {
        "id": "Q4OW5lYq7SF-"
      },
      "execution_count": null,
      "outputs": []
    },
    {
      "cell_type": "code",
      "source": [
        "print(v6_cr)"
      ],
      "metadata": {
        "colab": {
          "base_uri": "https://localhost:8080/"
        },
        "id": "x9cP3m517SGB",
        "outputId": "a9402a0f-ad92-49c5-cb11-2ea7e6de8f27"
      },
      "execution_count": null,
      "outputs": [
        {
          "output_type": "stream",
          "name": "stdout",
          "text": [
            "    precision    recall  f1-score  support  class\n",
            "0    0.571429  0.800000  0.666667      5.0      A\n",
            "1    0.833333  1.000000  0.909091      5.0     AA\n",
            "2    1.000000  0.857143  0.923077      7.0     BA\n",
            "3    0.833333  0.833333  0.833333      6.0    BHA\n",
            "4    1.000000  0.833333  0.909091      6.0     BI\n",
            "5    0.833333  1.000000  0.909091      5.0    CHA\n",
            "6    1.000000  0.800000  0.888889      5.0     DA\n",
            "7    0.600000  0.500000  0.545455      6.0    DHA\n",
            "8    1.000000  1.000000  1.000000      6.0    DHO\n",
            "9    1.000000  1.000000  1.000000      6.0     DO\n",
            "10   0.857143  1.000000  0.923077      6.0      E\n",
            "11   0.571429  0.800000  0.666667      5.0     GA\n",
            "12   0.600000  0.600000  0.600000      5.0    GHA\n",
            "13   1.000000  0.833333  0.909091      6.0     HA\n",
            "14   1.000000  1.000000  1.000000      6.0     JA\n",
            "15   1.000000  1.000000  1.000000      5.0    JHA\n",
            "16   1.000000  0.800000  0.888889      5.0     KA\n",
            "17   0.800000  0.800000  0.800000      5.0    KHA\n",
            "18   1.000000  0.666667  0.800000      6.0     LA\n",
            "19   0.875000  1.000000  0.933333      7.0     MA\n",
            "20   1.000000  0.428571  0.600000      7.0     NA\n",
            "21   0.714286  0.833333  0.769231      6.0      O\n",
            "22   0.714286  0.833333  0.769231      6.0     PA\n",
            "23   1.000000  1.000000  1.000000      6.0    PHA\n",
            "24   0.750000  0.857143  0.800000      7.0     RA\n",
            "25   0.714286  1.000000  0.833333      5.0    RHA\n",
            "26   1.000000  0.666667  0.800000      6.0     SA\n",
            "27   0.625000  1.000000  0.769231      5.0   SCHA\n",
            "28   1.000000  1.000000  1.000000      5.0     TA\n",
            "29   1.000000  1.000000  1.000000      6.0    THA\n",
            "30   0.857143  1.000000  0.923077      6.0    THO\n",
            "31   1.000000  0.666667  0.800000      6.0     TO\n",
            "32   0.750000  1.000000  0.857143      6.0      U\n",
            "33   1.000000  0.833333  0.909091      6.0     UN\n",
            "34   1.000000  0.500000  0.666667      6.0      Y\n",
            "35   0.857143  1.000000  0.923077      6.0     YA\n",
            "36   0.800000  1.000000  0.888889      4.0  joint\n",
            "37   1.000000  0.800000  0.888889      5.0  space\n",
            "38   1.000000  1.000000  1.000000      5.0   stop\n"
          ]
        }
      ]
    },
    {
      "cell_type": "code",
      "source": [
        "from sklearn.metrics import precision_recall_fscore_support\n",
        "res = []\n",
        "for l in range(39):\n",
        "    prec,recall,_,_ = precision_recall_fscore_support(np.array(ground)==l,\n",
        "                                                      np.array(pred)==l,\n",
        "                                                      pos_label=True,average=None)\n",
        "    res.append([li[l],recall[0],recall[1]])"
      ],
      "metadata": {
        "id": "ch0Yv7YU7SGB"
      },
      "execution_count": null,
      "outputs": []
    },
    {
      "cell_type": "code",
      "source": [
        "specicifity=pd.DataFrame(res,columns = ['class','sensitivity','specificity'])"
      ],
      "metadata": {
        "id": "MLeHhI277SGD"
      },
      "execution_count": null,
      "outputs": []
    },
    {
      "cell_type": "code",
      "source": [
        "print(specicifity)"
      ],
      "metadata": {
        "colab": {
          "base_uri": "https://localhost:8080/"
        },
        "id": "gjiwIap97SGE",
        "outputId": "c5e7d326-8616-4ce1-fc5f-41871de36f4f"
      },
      "execution_count": null,
      "outputs": [
        {
          "output_type": "stream",
          "name": "stdout",
          "text": [
            "    class  sensitivity  specificity\n",
            "0       A     0.986175     0.800000\n",
            "1      AA     0.995392     1.000000\n",
            "2      BA     1.000000     0.857143\n",
            "3     BHA     0.995370     0.833333\n",
            "4      BI     1.000000     0.833333\n",
            "5     CHA     0.995392     1.000000\n",
            "6      DA     1.000000     0.800000\n",
            "7     DHA     0.990741     0.500000\n",
            "8     DHO     1.000000     1.000000\n",
            "9      DO     1.000000     1.000000\n",
            "10      E     0.995370     1.000000\n",
            "11     GA     0.986175     0.800000\n",
            "12    GHA     0.990783     0.600000\n",
            "13     HA     1.000000     0.833333\n",
            "14     JA     1.000000     1.000000\n",
            "15    JHA     1.000000     1.000000\n",
            "16     KA     1.000000     0.800000\n",
            "17    KHA     0.995392     0.800000\n",
            "18     LA     1.000000     0.666667\n",
            "19     MA     0.995349     1.000000\n",
            "20     NA     1.000000     0.428571\n",
            "21      O     0.990741     0.833333\n",
            "22     PA     0.990741     0.833333\n",
            "23    PHA     1.000000     1.000000\n",
            "24     RA     0.990698     0.857143\n",
            "25    RHA     0.990783     1.000000\n",
            "26     SA     1.000000     0.666667\n",
            "27   SCHA     0.986175     1.000000\n",
            "28     TA     1.000000     1.000000\n",
            "29    THA     1.000000     1.000000\n",
            "30    THO     0.995370     1.000000\n",
            "31     TO     1.000000     0.666667\n",
            "32      U     0.990741     1.000000\n",
            "33     UN     1.000000     0.833333\n",
            "34      Y     1.000000     0.500000\n",
            "35     YA     0.995370     1.000000\n",
            "36  joint     0.995413     1.000000\n",
            "37  space     1.000000     0.800000\n",
            "38   stop     1.000000     1.000000\n"
          ]
        }
      ]
    },
    {
      "cell_type": "code",
      "source": [
        "v6_matrix=pd.merge(specicifity, v6_cr, on ='class')"
      ],
      "metadata": {
        "id": "K9h9sxRr7SGE"
      },
      "execution_count": null,
      "outputs": []
    },
    {
      "cell_type": "code",
      "source": [
        "# result = pd.concat([specicifity,resnet_cr], axis=1,ignore_index=True )\n",
        "v6_matrix"
      ],
      "metadata": {
        "colab": {
          "base_uri": "https://localhost:8080/",
          "height": 1000
        },
        "id": "QS6Jaemr7SGF",
        "outputId": "0ff6cfdc-0111-490f-cdc3-ccb77ca4e8b7"
      },
      "execution_count": null,
      "outputs": [
        {
          "output_type": "execute_result",
          "data": {
            "text/plain": [
              "    class  sensitivity  specificity  precision    recall  f1-score  support\n",
              "0       A     0.986175     0.800000   0.571429  0.800000  0.666667      5.0\n",
              "1      AA     0.995392     1.000000   0.833333  1.000000  0.909091      5.0\n",
              "2      BA     1.000000     0.857143   1.000000  0.857143  0.923077      7.0\n",
              "3     BHA     0.995370     0.833333   0.833333  0.833333  0.833333      6.0\n",
              "4      BI     1.000000     0.833333   1.000000  0.833333  0.909091      6.0\n",
              "5     CHA     0.995392     1.000000   0.833333  1.000000  0.909091      5.0\n",
              "6      DA     1.000000     0.800000   1.000000  0.800000  0.888889      5.0\n",
              "7     DHA     0.990741     0.500000   0.600000  0.500000  0.545455      6.0\n",
              "8     DHO     1.000000     1.000000   1.000000  1.000000  1.000000      6.0\n",
              "9      DO     1.000000     1.000000   1.000000  1.000000  1.000000      6.0\n",
              "10      E     0.995370     1.000000   0.857143  1.000000  0.923077      6.0\n",
              "11     GA     0.986175     0.800000   0.571429  0.800000  0.666667      5.0\n",
              "12    GHA     0.990783     0.600000   0.600000  0.600000  0.600000      5.0\n",
              "13     HA     1.000000     0.833333   1.000000  0.833333  0.909091      6.0\n",
              "14     JA     1.000000     1.000000   1.000000  1.000000  1.000000      6.0\n",
              "15    JHA     1.000000     1.000000   1.000000  1.000000  1.000000      5.0\n",
              "16     KA     1.000000     0.800000   1.000000  0.800000  0.888889      5.0\n",
              "17    KHA     0.995392     0.800000   0.800000  0.800000  0.800000      5.0\n",
              "18     LA     1.000000     0.666667   1.000000  0.666667  0.800000      6.0\n",
              "19     MA     0.995349     1.000000   0.875000  1.000000  0.933333      7.0\n",
              "20     NA     1.000000     0.428571   1.000000  0.428571  0.600000      7.0\n",
              "21      O     0.990741     0.833333   0.714286  0.833333  0.769231      6.0\n",
              "22     PA     0.990741     0.833333   0.714286  0.833333  0.769231      6.0\n",
              "23    PHA     1.000000     1.000000   1.000000  1.000000  1.000000      6.0\n",
              "24     RA     0.990698     0.857143   0.750000  0.857143  0.800000      7.0\n",
              "25    RHA     0.990783     1.000000   0.714286  1.000000  0.833333      5.0\n",
              "26     SA     1.000000     0.666667   1.000000  0.666667  0.800000      6.0\n",
              "27   SCHA     0.986175     1.000000   0.625000  1.000000  0.769231      5.0\n",
              "28     TA     1.000000     1.000000   1.000000  1.000000  1.000000      5.0\n",
              "29    THA     1.000000     1.000000   1.000000  1.000000  1.000000      6.0\n",
              "30    THO     0.995370     1.000000   0.857143  1.000000  0.923077      6.0\n",
              "31     TO     1.000000     0.666667   1.000000  0.666667  0.800000      6.0\n",
              "32      U     0.990741     1.000000   0.750000  1.000000  0.857143      6.0\n",
              "33     UN     1.000000     0.833333   1.000000  0.833333  0.909091      6.0\n",
              "34      Y     1.000000     0.500000   1.000000  0.500000  0.666667      6.0\n",
              "35     YA     0.995370     1.000000   0.857143  1.000000  0.923077      6.0\n",
              "36  joint     0.995413     1.000000   0.800000  1.000000  0.888889      4.0\n",
              "37  space     1.000000     0.800000   1.000000  0.800000  0.888889      5.0\n",
              "38   stop     1.000000     1.000000   1.000000  1.000000  1.000000      5.0"
            ],
            "text/html": [
              "\n",
              "  <div id=\"df-1c817aee-5ed0-4379-aabb-1b6c1328eac3\">\n",
              "    <div class=\"colab-df-container\">\n",
              "      <div>\n",
              "<style scoped>\n",
              "    .dataframe tbody tr th:only-of-type {\n",
              "        vertical-align: middle;\n",
              "    }\n",
              "\n",
              "    .dataframe tbody tr th {\n",
              "        vertical-align: top;\n",
              "    }\n",
              "\n",
              "    .dataframe thead th {\n",
              "        text-align: right;\n",
              "    }\n",
              "</style>\n",
              "<table border=\"1\" class=\"dataframe\">\n",
              "  <thead>\n",
              "    <tr style=\"text-align: right;\">\n",
              "      <th></th>\n",
              "      <th>class</th>\n",
              "      <th>sensitivity</th>\n",
              "      <th>specificity</th>\n",
              "      <th>precision</th>\n",
              "      <th>recall</th>\n",
              "      <th>f1-score</th>\n",
              "      <th>support</th>\n",
              "    </tr>\n",
              "  </thead>\n",
              "  <tbody>\n",
              "    <tr>\n",
              "      <th>0</th>\n",
              "      <td>A</td>\n",
              "      <td>0.986175</td>\n",
              "      <td>0.800000</td>\n",
              "      <td>0.571429</td>\n",
              "      <td>0.800000</td>\n",
              "      <td>0.666667</td>\n",
              "      <td>5.0</td>\n",
              "    </tr>\n",
              "    <tr>\n",
              "      <th>1</th>\n",
              "      <td>AA</td>\n",
              "      <td>0.995392</td>\n",
              "      <td>1.000000</td>\n",
              "      <td>0.833333</td>\n",
              "      <td>1.000000</td>\n",
              "      <td>0.909091</td>\n",
              "      <td>5.0</td>\n",
              "    </tr>\n",
              "    <tr>\n",
              "      <th>2</th>\n",
              "      <td>BA</td>\n",
              "      <td>1.000000</td>\n",
              "      <td>0.857143</td>\n",
              "      <td>1.000000</td>\n",
              "      <td>0.857143</td>\n",
              "      <td>0.923077</td>\n",
              "      <td>7.0</td>\n",
              "    </tr>\n",
              "    <tr>\n",
              "      <th>3</th>\n",
              "      <td>BHA</td>\n",
              "      <td>0.995370</td>\n",
              "      <td>0.833333</td>\n",
              "      <td>0.833333</td>\n",
              "      <td>0.833333</td>\n",
              "      <td>0.833333</td>\n",
              "      <td>6.0</td>\n",
              "    </tr>\n",
              "    <tr>\n",
              "      <th>4</th>\n",
              "      <td>BI</td>\n",
              "      <td>1.000000</td>\n",
              "      <td>0.833333</td>\n",
              "      <td>1.000000</td>\n",
              "      <td>0.833333</td>\n",
              "      <td>0.909091</td>\n",
              "      <td>6.0</td>\n",
              "    </tr>\n",
              "    <tr>\n",
              "      <th>5</th>\n",
              "      <td>CHA</td>\n",
              "      <td>0.995392</td>\n",
              "      <td>1.000000</td>\n",
              "      <td>0.833333</td>\n",
              "      <td>1.000000</td>\n",
              "      <td>0.909091</td>\n",
              "      <td>5.0</td>\n",
              "    </tr>\n",
              "    <tr>\n",
              "      <th>6</th>\n",
              "      <td>DA</td>\n",
              "      <td>1.000000</td>\n",
              "      <td>0.800000</td>\n",
              "      <td>1.000000</td>\n",
              "      <td>0.800000</td>\n",
              "      <td>0.888889</td>\n",
              "      <td>5.0</td>\n",
              "    </tr>\n",
              "    <tr>\n",
              "      <th>7</th>\n",
              "      <td>DHA</td>\n",
              "      <td>0.990741</td>\n",
              "      <td>0.500000</td>\n",
              "      <td>0.600000</td>\n",
              "      <td>0.500000</td>\n",
              "      <td>0.545455</td>\n",
              "      <td>6.0</td>\n",
              "    </tr>\n",
              "    <tr>\n",
              "      <th>8</th>\n",
              "      <td>DHO</td>\n",
              "      <td>1.000000</td>\n",
              "      <td>1.000000</td>\n",
              "      <td>1.000000</td>\n",
              "      <td>1.000000</td>\n",
              "      <td>1.000000</td>\n",
              "      <td>6.0</td>\n",
              "    </tr>\n",
              "    <tr>\n",
              "      <th>9</th>\n",
              "      <td>DO</td>\n",
              "      <td>1.000000</td>\n",
              "      <td>1.000000</td>\n",
              "      <td>1.000000</td>\n",
              "      <td>1.000000</td>\n",
              "      <td>1.000000</td>\n",
              "      <td>6.0</td>\n",
              "    </tr>\n",
              "    <tr>\n",
              "      <th>10</th>\n",
              "      <td>E</td>\n",
              "      <td>0.995370</td>\n",
              "      <td>1.000000</td>\n",
              "      <td>0.857143</td>\n",
              "      <td>1.000000</td>\n",
              "      <td>0.923077</td>\n",
              "      <td>6.0</td>\n",
              "    </tr>\n",
              "    <tr>\n",
              "      <th>11</th>\n",
              "      <td>GA</td>\n",
              "      <td>0.986175</td>\n",
              "      <td>0.800000</td>\n",
              "      <td>0.571429</td>\n",
              "      <td>0.800000</td>\n",
              "      <td>0.666667</td>\n",
              "      <td>5.0</td>\n",
              "    </tr>\n",
              "    <tr>\n",
              "      <th>12</th>\n",
              "      <td>GHA</td>\n",
              "      <td>0.990783</td>\n",
              "      <td>0.600000</td>\n",
              "      <td>0.600000</td>\n",
              "      <td>0.600000</td>\n",
              "      <td>0.600000</td>\n",
              "      <td>5.0</td>\n",
              "    </tr>\n",
              "    <tr>\n",
              "      <th>13</th>\n",
              "      <td>HA</td>\n",
              "      <td>1.000000</td>\n",
              "      <td>0.833333</td>\n",
              "      <td>1.000000</td>\n",
              "      <td>0.833333</td>\n",
              "      <td>0.909091</td>\n",
              "      <td>6.0</td>\n",
              "    </tr>\n",
              "    <tr>\n",
              "      <th>14</th>\n",
              "      <td>JA</td>\n",
              "      <td>1.000000</td>\n",
              "      <td>1.000000</td>\n",
              "      <td>1.000000</td>\n",
              "      <td>1.000000</td>\n",
              "      <td>1.000000</td>\n",
              "      <td>6.0</td>\n",
              "    </tr>\n",
              "    <tr>\n",
              "      <th>15</th>\n",
              "      <td>JHA</td>\n",
              "      <td>1.000000</td>\n",
              "      <td>1.000000</td>\n",
              "      <td>1.000000</td>\n",
              "      <td>1.000000</td>\n",
              "      <td>1.000000</td>\n",
              "      <td>5.0</td>\n",
              "    </tr>\n",
              "    <tr>\n",
              "      <th>16</th>\n",
              "      <td>KA</td>\n",
              "      <td>1.000000</td>\n",
              "      <td>0.800000</td>\n",
              "      <td>1.000000</td>\n",
              "      <td>0.800000</td>\n",
              "      <td>0.888889</td>\n",
              "      <td>5.0</td>\n",
              "    </tr>\n",
              "    <tr>\n",
              "      <th>17</th>\n",
              "      <td>KHA</td>\n",
              "      <td>0.995392</td>\n",
              "      <td>0.800000</td>\n",
              "      <td>0.800000</td>\n",
              "      <td>0.800000</td>\n",
              "      <td>0.800000</td>\n",
              "      <td>5.0</td>\n",
              "    </tr>\n",
              "    <tr>\n",
              "      <th>18</th>\n",
              "      <td>LA</td>\n",
              "      <td>1.000000</td>\n",
              "      <td>0.666667</td>\n",
              "      <td>1.000000</td>\n",
              "      <td>0.666667</td>\n",
              "      <td>0.800000</td>\n",
              "      <td>6.0</td>\n",
              "    </tr>\n",
              "    <tr>\n",
              "      <th>19</th>\n",
              "      <td>MA</td>\n",
              "      <td>0.995349</td>\n",
              "      <td>1.000000</td>\n",
              "      <td>0.875000</td>\n",
              "      <td>1.000000</td>\n",
              "      <td>0.933333</td>\n",
              "      <td>7.0</td>\n",
              "    </tr>\n",
              "    <tr>\n",
              "      <th>20</th>\n",
              "      <td>NA</td>\n",
              "      <td>1.000000</td>\n",
              "      <td>0.428571</td>\n",
              "      <td>1.000000</td>\n",
              "      <td>0.428571</td>\n",
              "      <td>0.600000</td>\n",
              "      <td>7.0</td>\n",
              "    </tr>\n",
              "    <tr>\n",
              "      <th>21</th>\n",
              "      <td>O</td>\n",
              "      <td>0.990741</td>\n",
              "      <td>0.833333</td>\n",
              "      <td>0.714286</td>\n",
              "      <td>0.833333</td>\n",
              "      <td>0.769231</td>\n",
              "      <td>6.0</td>\n",
              "    </tr>\n",
              "    <tr>\n",
              "      <th>22</th>\n",
              "      <td>PA</td>\n",
              "      <td>0.990741</td>\n",
              "      <td>0.833333</td>\n",
              "      <td>0.714286</td>\n",
              "      <td>0.833333</td>\n",
              "      <td>0.769231</td>\n",
              "      <td>6.0</td>\n",
              "    </tr>\n",
              "    <tr>\n",
              "      <th>23</th>\n",
              "      <td>PHA</td>\n",
              "      <td>1.000000</td>\n",
              "      <td>1.000000</td>\n",
              "      <td>1.000000</td>\n",
              "      <td>1.000000</td>\n",
              "      <td>1.000000</td>\n",
              "      <td>6.0</td>\n",
              "    </tr>\n",
              "    <tr>\n",
              "      <th>24</th>\n",
              "      <td>RA</td>\n",
              "      <td>0.990698</td>\n",
              "      <td>0.857143</td>\n",
              "      <td>0.750000</td>\n",
              "      <td>0.857143</td>\n",
              "      <td>0.800000</td>\n",
              "      <td>7.0</td>\n",
              "    </tr>\n",
              "    <tr>\n",
              "      <th>25</th>\n",
              "      <td>RHA</td>\n",
              "      <td>0.990783</td>\n",
              "      <td>1.000000</td>\n",
              "      <td>0.714286</td>\n",
              "      <td>1.000000</td>\n",
              "      <td>0.833333</td>\n",
              "      <td>5.0</td>\n",
              "    </tr>\n",
              "    <tr>\n",
              "      <th>26</th>\n",
              "      <td>SA</td>\n",
              "      <td>1.000000</td>\n",
              "      <td>0.666667</td>\n",
              "      <td>1.000000</td>\n",
              "      <td>0.666667</td>\n",
              "      <td>0.800000</td>\n",
              "      <td>6.0</td>\n",
              "    </tr>\n",
              "    <tr>\n",
              "      <th>27</th>\n",
              "      <td>SCHA</td>\n",
              "      <td>0.986175</td>\n",
              "      <td>1.000000</td>\n",
              "      <td>0.625000</td>\n",
              "      <td>1.000000</td>\n",
              "      <td>0.769231</td>\n",
              "      <td>5.0</td>\n",
              "    </tr>\n",
              "    <tr>\n",
              "      <th>28</th>\n",
              "      <td>TA</td>\n",
              "      <td>1.000000</td>\n",
              "      <td>1.000000</td>\n",
              "      <td>1.000000</td>\n",
              "      <td>1.000000</td>\n",
              "      <td>1.000000</td>\n",
              "      <td>5.0</td>\n",
              "    </tr>\n",
              "    <tr>\n",
              "      <th>29</th>\n",
              "      <td>THA</td>\n",
              "      <td>1.000000</td>\n",
              "      <td>1.000000</td>\n",
              "      <td>1.000000</td>\n",
              "      <td>1.000000</td>\n",
              "      <td>1.000000</td>\n",
              "      <td>6.0</td>\n",
              "    </tr>\n",
              "    <tr>\n",
              "      <th>30</th>\n",
              "      <td>THO</td>\n",
              "      <td>0.995370</td>\n",
              "      <td>1.000000</td>\n",
              "      <td>0.857143</td>\n",
              "      <td>1.000000</td>\n",
              "      <td>0.923077</td>\n",
              "      <td>6.0</td>\n",
              "    </tr>\n",
              "    <tr>\n",
              "      <th>31</th>\n",
              "      <td>TO</td>\n",
              "      <td>1.000000</td>\n",
              "      <td>0.666667</td>\n",
              "      <td>1.000000</td>\n",
              "      <td>0.666667</td>\n",
              "      <td>0.800000</td>\n",
              "      <td>6.0</td>\n",
              "    </tr>\n",
              "    <tr>\n",
              "      <th>32</th>\n",
              "      <td>U</td>\n",
              "      <td>0.990741</td>\n",
              "      <td>1.000000</td>\n",
              "      <td>0.750000</td>\n",
              "      <td>1.000000</td>\n",
              "      <td>0.857143</td>\n",
              "      <td>6.0</td>\n",
              "    </tr>\n",
              "    <tr>\n",
              "      <th>33</th>\n",
              "      <td>UN</td>\n",
              "      <td>1.000000</td>\n",
              "      <td>0.833333</td>\n",
              "      <td>1.000000</td>\n",
              "      <td>0.833333</td>\n",
              "      <td>0.909091</td>\n",
              "      <td>6.0</td>\n",
              "    </tr>\n",
              "    <tr>\n",
              "      <th>34</th>\n",
              "      <td>Y</td>\n",
              "      <td>1.000000</td>\n",
              "      <td>0.500000</td>\n",
              "      <td>1.000000</td>\n",
              "      <td>0.500000</td>\n",
              "      <td>0.666667</td>\n",
              "      <td>6.0</td>\n",
              "    </tr>\n",
              "    <tr>\n",
              "      <th>35</th>\n",
              "      <td>YA</td>\n",
              "      <td>0.995370</td>\n",
              "      <td>1.000000</td>\n",
              "      <td>0.857143</td>\n",
              "      <td>1.000000</td>\n",
              "      <td>0.923077</td>\n",
              "      <td>6.0</td>\n",
              "    </tr>\n",
              "    <tr>\n",
              "      <th>36</th>\n",
              "      <td>joint</td>\n",
              "      <td>0.995413</td>\n",
              "      <td>1.000000</td>\n",
              "      <td>0.800000</td>\n",
              "      <td>1.000000</td>\n",
              "      <td>0.888889</td>\n",
              "      <td>4.0</td>\n",
              "    </tr>\n",
              "    <tr>\n",
              "      <th>37</th>\n",
              "      <td>space</td>\n",
              "      <td>1.000000</td>\n",
              "      <td>0.800000</td>\n",
              "      <td>1.000000</td>\n",
              "      <td>0.800000</td>\n",
              "      <td>0.888889</td>\n",
              "      <td>5.0</td>\n",
              "    </tr>\n",
              "    <tr>\n",
              "      <th>38</th>\n",
              "      <td>stop</td>\n",
              "      <td>1.000000</td>\n",
              "      <td>1.000000</td>\n",
              "      <td>1.000000</td>\n",
              "      <td>1.000000</td>\n",
              "      <td>1.000000</td>\n",
              "      <td>5.0</td>\n",
              "    </tr>\n",
              "  </tbody>\n",
              "</table>\n",
              "</div>\n",
              "      <button class=\"colab-df-convert\" onclick=\"convertToInteractive('df-1c817aee-5ed0-4379-aabb-1b6c1328eac3')\"\n",
              "              title=\"Convert this dataframe to an interactive table.\"\n",
              "              style=\"display:none;\">\n",
              "        \n",
              "  <svg xmlns=\"http://www.w3.org/2000/svg\" height=\"24px\"viewBox=\"0 0 24 24\"\n",
              "       width=\"24px\">\n",
              "    <path d=\"M0 0h24v24H0V0z\" fill=\"none\"/>\n",
              "    <path d=\"M18.56 5.44l.94 2.06.94-2.06 2.06-.94-2.06-.94-.94-2.06-.94 2.06-2.06.94zm-11 1L8.5 8.5l.94-2.06 2.06-.94-2.06-.94L8.5 2.5l-.94 2.06-2.06.94zm10 10l.94 2.06.94-2.06 2.06-.94-2.06-.94-.94-2.06-.94 2.06-2.06.94z\"/><path d=\"M17.41 7.96l-1.37-1.37c-.4-.4-.92-.59-1.43-.59-.52 0-1.04.2-1.43.59L10.3 9.45l-7.72 7.72c-.78.78-.78 2.05 0 2.83L4 21.41c.39.39.9.59 1.41.59.51 0 1.02-.2 1.41-.59l7.78-7.78 2.81-2.81c.8-.78.8-2.07 0-2.86zM5.41 20L4 18.59l7.72-7.72 1.47 1.35L5.41 20z\"/>\n",
              "  </svg>\n",
              "      </button>\n",
              "      \n",
              "  <style>\n",
              "    .colab-df-container {\n",
              "      display:flex;\n",
              "      flex-wrap:wrap;\n",
              "      gap: 12px;\n",
              "    }\n",
              "\n",
              "    .colab-df-convert {\n",
              "      background-color: #E8F0FE;\n",
              "      border: none;\n",
              "      border-radius: 50%;\n",
              "      cursor: pointer;\n",
              "      display: none;\n",
              "      fill: #1967D2;\n",
              "      height: 32px;\n",
              "      padding: 0 0 0 0;\n",
              "      width: 32px;\n",
              "    }\n",
              "\n",
              "    .colab-df-convert:hover {\n",
              "      background-color: #E2EBFA;\n",
              "      box-shadow: 0px 1px 2px rgba(60, 64, 67, 0.3), 0px 1px 3px 1px rgba(60, 64, 67, 0.15);\n",
              "      fill: #174EA6;\n",
              "    }\n",
              "\n",
              "    [theme=dark] .colab-df-convert {\n",
              "      background-color: #3B4455;\n",
              "      fill: #D2E3FC;\n",
              "    }\n",
              "\n",
              "    [theme=dark] .colab-df-convert:hover {\n",
              "      background-color: #434B5C;\n",
              "      box-shadow: 0px 1px 3px 1px rgba(0, 0, 0, 0.15);\n",
              "      filter: drop-shadow(0px 1px 2px rgba(0, 0, 0, 0.3));\n",
              "      fill: #FFFFFF;\n",
              "    }\n",
              "  </style>\n",
              "\n",
              "      <script>\n",
              "        const buttonEl =\n",
              "          document.querySelector('#df-1c817aee-5ed0-4379-aabb-1b6c1328eac3 button.colab-df-convert');\n",
              "        buttonEl.style.display =\n",
              "          google.colab.kernel.accessAllowed ? 'block' : 'none';\n",
              "\n",
              "        async function convertToInteractive(key) {\n",
              "          const element = document.querySelector('#df-1c817aee-5ed0-4379-aabb-1b6c1328eac3');\n",
              "          const dataTable =\n",
              "            await google.colab.kernel.invokeFunction('convertToInteractive',\n",
              "                                                     [key], {});\n",
              "          if (!dataTable) return;\n",
              "\n",
              "          const docLinkHtml = 'Like what you see? Visit the ' +\n",
              "            '<a target=\"_blank\" href=https://colab.research.google.com/notebooks/data_table.ipynb>data table notebook</a>'\n",
              "            + ' to learn more about interactive tables.';\n",
              "          element.innerHTML = '';\n",
              "          dataTable['output_type'] = 'display_data';\n",
              "          await google.colab.output.renderOutput(dataTable, element);\n",
              "          const docLink = document.createElement('div');\n",
              "          docLink.innerHTML = docLinkHtml;\n",
              "          element.appendChild(docLink);\n",
              "        }\n",
              "      </script>\n",
              "    </div>\n",
              "  </div>\n",
              "  "
            ]
          },
          "metadata": {},
          "execution_count": 80
        }
      ]
    },
    {
      "cell_type": "code",
      "source": [
        "v6_matrix.to_csv('/content/drive/MyDrive/PAPER/vgg16_classification_report.csv')\n"
      ],
      "metadata": {
        "id": "NIOElbzB7SGF"
      },
      "execution_count": null,
      "outputs": []
    },
    {
      "cell_type": "code",
      "source": [
        "v6_rep.to_csv('/content/drive/MyDrive/PAPER/vgg16_acc_report.csv')"
      ],
      "metadata": {
        "id": "eHGjSpeL7SGG"
      },
      "execution_count": null,
      "outputs": []
    },
    {
      "cell_type": "markdown",
      "source": [
        "#Resnet50"
      ],
      "metadata": {
        "id": "QrQMW6KeUW6T"
      }
    },
    {
      "cell_type": "code",
      "execution_count": null,
      "metadata": {
        "id": "v9QVG_ZZKINF",
        "colab": {
          "base_uri": "https://localhost:8080/"
        },
        "outputId": "4b148a0f-3316-43cd-99c4-ea78ded188f0"
      },
      "outputs": [
        {
          "output_type": "stream",
          "name": "stdout",
          "text": [
            "Downloading data from https://storage.googleapis.com/tensorflow/keras-applications/resnet/resnet50_weights_tf_dim_ordering_tf_kernels_notop.h5\n",
            "94765736/94765736 [==============================] - 1s 0us/step\n"
          ]
        }
      ],
      "source": [
        "# Import the VGG16 library as shown below and add preprocessing layer to the front of VGG\n",
        "# Here we will be using imagenet weights\n",
        "\n",
        "resnet50 = ResNet50(input_shape=IMAGE_SIZE + [3], weights='imagenet', include_top=False)"
      ]
    },
    {
      "cell_type": "code",
      "execution_count": null,
      "metadata": {
        "id": "qqys9evAvXzK"
      },
      "outputs": [],
      "source": [
        "# don't train existing weights\n",
        "for layer in resnet50.layers:\n",
        "    layer.trainable = False"
      ]
    },
    {
      "cell_type": "code",
      "execution_count": null,
      "metadata": {
        "id": "2Evr1mdIxtL4"
      },
      "outputs": [],
      "source": [
        "rx = Flatten()(resnet50.output)"
      ]
    },
    {
      "cell_type": "code",
      "execution_count": null,
      "metadata": {
        "id": "BlS7WxIhyBFg"
      },
      "outputs": [],
      "source": [
        "r_prediction = Dense(len(folders), activation='softmax')(rx)\n",
        "\n",
        "# create a model object\n",
        "r_model = Model(inputs=resnet50.input, outputs=r_prediction)"
      ]
    },
    {
      "cell_type": "code",
      "execution_count": null,
      "metadata": {
        "colab": {
          "base_uri": "https://localhost:8080/"
        },
        "id": "6yviNTJryDXR",
        "outputId": "ce499c43-17a8-4c62-ae93-dc972b98b8f7"
      },
      "outputs": [
        {
          "output_type": "stream",
          "name": "stdout",
          "text": [
            "Model: \"model_1\"\n",
            "__________________________________________________________________________________________________\n",
            " Layer (type)                   Output Shape         Param #     Connected to                     \n",
            "==================================================================================================\n",
            " input_2 (InputLayer)           [(None, 224, 224, 3  0           []                               \n",
            "                                )]                                                                \n",
            "                                                                                                  \n",
            " conv1_pad (ZeroPadding2D)      (None, 230, 230, 3)  0           ['input_2[0][0]']                \n",
            "                                                                                                  \n",
            " conv1_conv (Conv2D)            (None, 112, 112, 64  9472        ['conv1_pad[0][0]']              \n",
            "                                )                                                                 \n",
            "                                                                                                  \n",
            " conv1_bn (BatchNormalization)  (None, 112, 112, 64  256         ['conv1_conv[0][0]']             \n",
            "                                )                                                                 \n",
            "                                                                                                  \n",
            " conv1_relu (Activation)        (None, 112, 112, 64  0           ['conv1_bn[0][0]']               \n",
            "                                )                                                                 \n",
            "                                                                                                  \n",
            " pool1_pad (ZeroPadding2D)      (None, 114, 114, 64  0           ['conv1_relu[0][0]']             \n",
            "                                )                                                                 \n",
            "                                                                                                  \n",
            " pool1_pool (MaxPooling2D)      (None, 56, 56, 64)   0           ['pool1_pad[0][0]']              \n",
            "                                                                                                  \n",
            " conv2_block1_1_conv (Conv2D)   (None, 56, 56, 64)   4160        ['pool1_pool[0][0]']             \n",
            "                                                                                                  \n",
            " conv2_block1_1_bn (BatchNormal  (None, 56, 56, 64)  256         ['conv2_block1_1_conv[0][0]']    \n",
            " ization)                                                                                         \n",
            "                                                                                                  \n",
            " conv2_block1_1_relu (Activatio  (None, 56, 56, 64)  0           ['conv2_block1_1_bn[0][0]']      \n",
            " n)                                                                                               \n",
            "                                                                                                  \n",
            " conv2_block1_2_conv (Conv2D)   (None, 56, 56, 64)   36928       ['conv2_block1_1_relu[0][0]']    \n",
            "                                                                                                  \n",
            " conv2_block1_2_bn (BatchNormal  (None, 56, 56, 64)  256         ['conv2_block1_2_conv[0][0]']    \n",
            " ization)                                                                                         \n",
            "                                                                                                  \n",
            " conv2_block1_2_relu (Activatio  (None, 56, 56, 64)  0           ['conv2_block1_2_bn[0][0]']      \n",
            " n)                                                                                               \n",
            "                                                                                                  \n",
            " conv2_block1_0_conv (Conv2D)   (None, 56, 56, 256)  16640       ['pool1_pool[0][0]']             \n",
            "                                                                                                  \n",
            " conv2_block1_3_conv (Conv2D)   (None, 56, 56, 256)  16640       ['conv2_block1_2_relu[0][0]']    \n",
            "                                                                                                  \n",
            " conv2_block1_0_bn (BatchNormal  (None, 56, 56, 256)  1024       ['conv2_block1_0_conv[0][0]']    \n",
            " ization)                                                                                         \n",
            "                                                                                                  \n",
            " conv2_block1_3_bn (BatchNormal  (None, 56, 56, 256)  1024       ['conv2_block1_3_conv[0][0]']    \n",
            " ization)                                                                                         \n",
            "                                                                                                  \n",
            " conv2_block1_add (Add)         (None, 56, 56, 256)  0           ['conv2_block1_0_bn[0][0]',      \n",
            "                                                                  'conv2_block1_3_bn[0][0]']      \n",
            "                                                                                                  \n",
            " conv2_block1_out (Activation)  (None, 56, 56, 256)  0           ['conv2_block1_add[0][0]']       \n",
            "                                                                                                  \n",
            " conv2_block2_1_conv (Conv2D)   (None, 56, 56, 64)   16448       ['conv2_block1_out[0][0]']       \n",
            "                                                                                                  \n",
            " conv2_block2_1_bn (BatchNormal  (None, 56, 56, 64)  256         ['conv2_block2_1_conv[0][0]']    \n",
            " ization)                                                                                         \n",
            "                                                                                                  \n",
            " conv2_block2_1_relu (Activatio  (None, 56, 56, 64)  0           ['conv2_block2_1_bn[0][0]']      \n",
            " n)                                                                                               \n",
            "                                                                                                  \n",
            " conv2_block2_2_conv (Conv2D)   (None, 56, 56, 64)   36928       ['conv2_block2_1_relu[0][0]']    \n",
            "                                                                                                  \n",
            " conv2_block2_2_bn (BatchNormal  (None, 56, 56, 64)  256         ['conv2_block2_2_conv[0][0]']    \n",
            " ization)                                                                                         \n",
            "                                                                                                  \n",
            " conv2_block2_2_relu (Activatio  (None, 56, 56, 64)  0           ['conv2_block2_2_bn[0][0]']      \n",
            " n)                                                                                               \n",
            "                                                                                                  \n",
            " conv2_block2_3_conv (Conv2D)   (None, 56, 56, 256)  16640       ['conv2_block2_2_relu[0][0]']    \n",
            "                                                                                                  \n",
            " conv2_block2_3_bn (BatchNormal  (None, 56, 56, 256)  1024       ['conv2_block2_3_conv[0][0]']    \n",
            " ization)                                                                                         \n",
            "                                                                                                  \n",
            " conv2_block2_add (Add)         (None, 56, 56, 256)  0           ['conv2_block1_out[0][0]',       \n",
            "                                                                  'conv2_block2_3_bn[0][0]']      \n",
            "                                                                                                  \n",
            " conv2_block2_out (Activation)  (None, 56, 56, 256)  0           ['conv2_block2_add[0][0]']       \n",
            "                                                                                                  \n",
            " conv2_block3_1_conv (Conv2D)   (None, 56, 56, 64)   16448       ['conv2_block2_out[0][0]']       \n",
            "                                                                                                  \n",
            " conv2_block3_1_bn (BatchNormal  (None, 56, 56, 64)  256         ['conv2_block3_1_conv[0][0]']    \n",
            " ization)                                                                                         \n",
            "                                                                                                  \n",
            " conv2_block3_1_relu (Activatio  (None, 56, 56, 64)  0           ['conv2_block3_1_bn[0][0]']      \n",
            " n)                                                                                               \n",
            "                                                                                                  \n",
            " conv2_block3_2_conv (Conv2D)   (None, 56, 56, 64)   36928       ['conv2_block3_1_relu[0][0]']    \n",
            "                                                                                                  \n",
            " conv2_block3_2_bn (BatchNormal  (None, 56, 56, 64)  256         ['conv2_block3_2_conv[0][0]']    \n",
            " ization)                                                                                         \n",
            "                                                                                                  \n",
            " conv2_block3_2_relu (Activatio  (None, 56, 56, 64)  0           ['conv2_block3_2_bn[0][0]']      \n",
            " n)                                                                                               \n",
            "                                                                                                  \n",
            " conv2_block3_3_conv (Conv2D)   (None, 56, 56, 256)  16640       ['conv2_block3_2_relu[0][0]']    \n",
            "                                                                                                  \n",
            " conv2_block3_3_bn (BatchNormal  (None, 56, 56, 256)  1024       ['conv2_block3_3_conv[0][0]']    \n",
            " ization)                                                                                         \n",
            "                                                                                                  \n",
            " conv2_block3_add (Add)         (None, 56, 56, 256)  0           ['conv2_block2_out[0][0]',       \n",
            "                                                                  'conv2_block3_3_bn[0][0]']      \n",
            "                                                                                                  \n",
            " conv2_block3_out (Activation)  (None, 56, 56, 256)  0           ['conv2_block3_add[0][0]']       \n",
            "                                                                                                  \n",
            " conv3_block1_1_conv (Conv2D)   (None, 28, 28, 128)  32896       ['conv2_block3_out[0][0]']       \n",
            "                                                                                                  \n",
            " conv3_block1_1_bn (BatchNormal  (None, 28, 28, 128)  512        ['conv3_block1_1_conv[0][0]']    \n",
            " ization)                                                                                         \n",
            "                                                                                                  \n",
            " conv3_block1_1_relu (Activatio  (None, 28, 28, 128)  0          ['conv3_block1_1_bn[0][0]']      \n",
            " n)                                                                                               \n",
            "                                                                                                  \n",
            " conv3_block1_2_conv (Conv2D)   (None, 28, 28, 128)  147584      ['conv3_block1_1_relu[0][0]']    \n",
            "                                                                                                  \n",
            " conv3_block1_2_bn (BatchNormal  (None, 28, 28, 128)  512        ['conv3_block1_2_conv[0][0]']    \n",
            " ization)                                                                                         \n",
            "                                                                                                  \n",
            " conv3_block1_2_relu (Activatio  (None, 28, 28, 128)  0          ['conv3_block1_2_bn[0][0]']      \n",
            " n)                                                                                               \n",
            "                                                                                                  \n",
            " conv3_block1_0_conv (Conv2D)   (None, 28, 28, 512)  131584      ['conv2_block3_out[0][0]']       \n",
            "                                                                                                  \n",
            " conv3_block1_3_conv (Conv2D)   (None, 28, 28, 512)  66048       ['conv3_block1_2_relu[0][0]']    \n",
            "                                                                                                  \n",
            " conv3_block1_0_bn (BatchNormal  (None, 28, 28, 512)  2048       ['conv3_block1_0_conv[0][0]']    \n",
            " ization)                                                                                         \n",
            "                                                                                                  \n",
            " conv3_block1_3_bn (BatchNormal  (None, 28, 28, 512)  2048       ['conv3_block1_3_conv[0][0]']    \n",
            " ization)                                                                                         \n",
            "                                                                                                  \n",
            " conv3_block1_add (Add)         (None, 28, 28, 512)  0           ['conv3_block1_0_bn[0][0]',      \n",
            "                                                                  'conv3_block1_3_bn[0][0]']      \n",
            "                                                                                                  \n",
            " conv3_block1_out (Activation)  (None, 28, 28, 512)  0           ['conv3_block1_add[0][0]']       \n",
            "                                                                                                  \n",
            " conv3_block2_1_conv (Conv2D)   (None, 28, 28, 128)  65664       ['conv3_block1_out[0][0]']       \n",
            "                                                                                                  \n",
            " conv3_block2_1_bn (BatchNormal  (None, 28, 28, 128)  512        ['conv3_block2_1_conv[0][0]']    \n",
            " ization)                                                                                         \n",
            "                                                                                                  \n",
            " conv3_block2_1_relu (Activatio  (None, 28, 28, 128)  0          ['conv3_block2_1_bn[0][0]']      \n",
            " n)                                                                                               \n",
            "                                                                                                  \n",
            " conv3_block2_2_conv (Conv2D)   (None, 28, 28, 128)  147584      ['conv3_block2_1_relu[0][0]']    \n",
            "                                                                                                  \n",
            " conv3_block2_2_bn (BatchNormal  (None, 28, 28, 128)  512        ['conv3_block2_2_conv[0][0]']    \n",
            " ization)                                                                                         \n",
            "                                                                                                  \n",
            " conv3_block2_2_relu (Activatio  (None, 28, 28, 128)  0          ['conv3_block2_2_bn[0][0]']      \n",
            " n)                                                                                               \n",
            "                                                                                                  \n",
            " conv3_block2_3_conv (Conv2D)   (None, 28, 28, 512)  66048       ['conv3_block2_2_relu[0][0]']    \n",
            "                                                                                                  \n",
            " conv3_block2_3_bn (BatchNormal  (None, 28, 28, 512)  2048       ['conv3_block2_3_conv[0][0]']    \n",
            " ization)                                                                                         \n",
            "                                                                                                  \n",
            " conv3_block2_add (Add)         (None, 28, 28, 512)  0           ['conv3_block1_out[0][0]',       \n",
            "                                                                  'conv3_block2_3_bn[0][0]']      \n",
            "                                                                                                  \n",
            " conv3_block2_out (Activation)  (None, 28, 28, 512)  0           ['conv3_block2_add[0][0]']       \n",
            "                                                                                                  \n",
            " conv3_block3_1_conv (Conv2D)   (None, 28, 28, 128)  65664       ['conv3_block2_out[0][0]']       \n",
            "                                                                                                  \n",
            " conv3_block3_1_bn (BatchNormal  (None, 28, 28, 128)  512        ['conv3_block3_1_conv[0][0]']    \n",
            " ization)                                                                                         \n",
            "                                                                                                  \n",
            " conv3_block3_1_relu (Activatio  (None, 28, 28, 128)  0          ['conv3_block3_1_bn[0][0]']      \n",
            " n)                                                                                               \n",
            "                                                                                                  \n",
            " conv3_block3_2_conv (Conv2D)   (None, 28, 28, 128)  147584      ['conv3_block3_1_relu[0][0]']    \n",
            "                                                                                                  \n",
            " conv3_block3_2_bn (BatchNormal  (None, 28, 28, 128)  512        ['conv3_block3_2_conv[0][0]']    \n",
            " ization)                                                                                         \n",
            "                                                                                                  \n",
            " conv3_block3_2_relu (Activatio  (None, 28, 28, 128)  0          ['conv3_block3_2_bn[0][0]']      \n",
            " n)                                                                                               \n",
            "                                                                                                  \n",
            " conv3_block3_3_conv (Conv2D)   (None, 28, 28, 512)  66048       ['conv3_block3_2_relu[0][0]']    \n",
            "                                                                                                  \n",
            " conv3_block3_3_bn (BatchNormal  (None, 28, 28, 512)  2048       ['conv3_block3_3_conv[0][0]']    \n",
            " ization)                                                                                         \n",
            "                                                                                                  \n",
            " conv3_block3_add (Add)         (None, 28, 28, 512)  0           ['conv3_block2_out[0][0]',       \n",
            "                                                                  'conv3_block3_3_bn[0][0]']      \n",
            "                                                                                                  \n",
            " conv3_block3_out (Activation)  (None, 28, 28, 512)  0           ['conv3_block3_add[0][0]']       \n",
            "                                                                                                  \n",
            " conv3_block4_1_conv (Conv2D)   (None, 28, 28, 128)  65664       ['conv3_block3_out[0][0]']       \n",
            "                                                                                                  \n",
            " conv3_block4_1_bn (BatchNormal  (None, 28, 28, 128)  512        ['conv3_block4_1_conv[0][0]']    \n",
            " ization)                                                                                         \n",
            "                                                                                                  \n",
            " conv3_block4_1_relu (Activatio  (None, 28, 28, 128)  0          ['conv3_block4_1_bn[0][0]']      \n",
            " n)                                                                                               \n",
            "                                                                                                  \n",
            " conv3_block4_2_conv (Conv2D)   (None, 28, 28, 128)  147584      ['conv3_block4_1_relu[0][0]']    \n",
            "                                                                                                  \n",
            " conv3_block4_2_bn (BatchNormal  (None, 28, 28, 128)  512        ['conv3_block4_2_conv[0][0]']    \n",
            " ization)                                                                                         \n",
            "                                                                                                  \n",
            " conv3_block4_2_relu (Activatio  (None, 28, 28, 128)  0          ['conv3_block4_2_bn[0][0]']      \n",
            " n)                                                                                               \n",
            "                                                                                                  \n",
            " conv3_block4_3_conv (Conv2D)   (None, 28, 28, 512)  66048       ['conv3_block4_2_relu[0][0]']    \n",
            "                                                                                                  \n",
            " conv3_block4_3_bn (BatchNormal  (None, 28, 28, 512)  2048       ['conv3_block4_3_conv[0][0]']    \n",
            " ization)                                                                                         \n",
            "                                                                                                  \n",
            " conv3_block4_add (Add)         (None, 28, 28, 512)  0           ['conv3_block3_out[0][0]',       \n",
            "                                                                  'conv3_block4_3_bn[0][0]']      \n",
            "                                                                                                  \n",
            " conv3_block4_out (Activation)  (None, 28, 28, 512)  0           ['conv3_block4_add[0][0]']       \n",
            "                                                                                                  \n",
            " conv4_block1_1_conv (Conv2D)   (None, 14, 14, 256)  131328      ['conv3_block4_out[0][0]']       \n",
            "                                                                                                  \n",
            " conv4_block1_1_bn (BatchNormal  (None, 14, 14, 256)  1024       ['conv4_block1_1_conv[0][0]']    \n",
            " ization)                                                                                         \n",
            "                                                                                                  \n",
            " conv4_block1_1_relu (Activatio  (None, 14, 14, 256)  0          ['conv4_block1_1_bn[0][0]']      \n",
            " n)                                                                                               \n",
            "                                                                                                  \n",
            " conv4_block1_2_conv (Conv2D)   (None, 14, 14, 256)  590080      ['conv4_block1_1_relu[0][0]']    \n",
            "                                                                                                  \n",
            " conv4_block1_2_bn (BatchNormal  (None, 14, 14, 256)  1024       ['conv4_block1_2_conv[0][0]']    \n",
            " ization)                                                                                         \n",
            "                                                                                                  \n",
            " conv4_block1_2_relu (Activatio  (None, 14, 14, 256)  0          ['conv4_block1_2_bn[0][0]']      \n",
            " n)                                                                                               \n",
            "                                                                                                  \n",
            " conv4_block1_0_conv (Conv2D)   (None, 14, 14, 1024  525312      ['conv3_block4_out[0][0]']       \n",
            "                                )                                                                 \n",
            "                                                                                                  \n",
            " conv4_block1_3_conv (Conv2D)   (None, 14, 14, 1024  263168      ['conv4_block1_2_relu[0][0]']    \n",
            "                                )                                                                 \n",
            "                                                                                                  \n",
            " conv4_block1_0_bn (BatchNormal  (None, 14, 14, 1024  4096       ['conv4_block1_0_conv[0][0]']    \n",
            " ization)                       )                                                                 \n",
            "                                                                                                  \n",
            " conv4_block1_3_bn (BatchNormal  (None, 14, 14, 1024  4096       ['conv4_block1_3_conv[0][0]']    \n",
            " ization)                       )                                                                 \n",
            "                                                                                                  \n",
            " conv4_block1_add (Add)         (None, 14, 14, 1024  0           ['conv4_block1_0_bn[0][0]',      \n",
            "                                )                                 'conv4_block1_3_bn[0][0]']      \n",
            "                                                                                                  \n",
            " conv4_block1_out (Activation)  (None, 14, 14, 1024  0           ['conv4_block1_add[0][0]']       \n",
            "                                )                                                                 \n",
            "                                                                                                  \n",
            " conv4_block2_1_conv (Conv2D)   (None, 14, 14, 256)  262400      ['conv4_block1_out[0][0]']       \n",
            "                                                                                                  \n",
            " conv4_block2_1_bn (BatchNormal  (None, 14, 14, 256)  1024       ['conv4_block2_1_conv[0][0]']    \n",
            " ization)                                                                                         \n",
            "                                                                                                  \n",
            " conv4_block2_1_relu (Activatio  (None, 14, 14, 256)  0          ['conv4_block2_1_bn[0][0]']      \n",
            " n)                                                                                               \n",
            "                                                                                                  \n",
            " conv4_block2_2_conv (Conv2D)   (None, 14, 14, 256)  590080      ['conv4_block2_1_relu[0][0]']    \n",
            "                                                                                                  \n",
            " conv4_block2_2_bn (BatchNormal  (None, 14, 14, 256)  1024       ['conv4_block2_2_conv[0][0]']    \n",
            " ization)                                                                                         \n",
            "                                                                                                  \n",
            " conv4_block2_2_relu (Activatio  (None, 14, 14, 256)  0          ['conv4_block2_2_bn[0][0]']      \n",
            " n)                                                                                               \n",
            "                                                                                                  \n",
            " conv4_block2_3_conv (Conv2D)   (None, 14, 14, 1024  263168      ['conv4_block2_2_relu[0][0]']    \n",
            "                                )                                                                 \n",
            "                                                                                                  \n",
            " conv4_block2_3_bn (BatchNormal  (None, 14, 14, 1024  4096       ['conv4_block2_3_conv[0][0]']    \n",
            " ization)                       )                                                                 \n",
            "                                                                                                  \n",
            " conv4_block2_add (Add)         (None, 14, 14, 1024  0           ['conv4_block1_out[0][0]',       \n",
            "                                )                                 'conv4_block2_3_bn[0][0]']      \n",
            "                                                                                                  \n",
            " conv4_block2_out (Activation)  (None, 14, 14, 1024  0           ['conv4_block2_add[0][0]']       \n",
            "                                )                                                                 \n",
            "                                                                                                  \n",
            " conv4_block3_1_conv (Conv2D)   (None, 14, 14, 256)  262400      ['conv4_block2_out[0][0]']       \n",
            "                                                                                                  \n",
            " conv4_block3_1_bn (BatchNormal  (None, 14, 14, 256)  1024       ['conv4_block3_1_conv[0][0]']    \n",
            " ization)                                                                                         \n",
            "                                                                                                  \n",
            " conv4_block3_1_relu (Activatio  (None, 14, 14, 256)  0          ['conv4_block3_1_bn[0][0]']      \n",
            " n)                                                                                               \n",
            "                                                                                                  \n",
            " conv4_block3_2_conv (Conv2D)   (None, 14, 14, 256)  590080      ['conv4_block3_1_relu[0][0]']    \n",
            "                                                                                                  \n",
            " conv4_block3_2_bn (BatchNormal  (None, 14, 14, 256)  1024       ['conv4_block3_2_conv[0][0]']    \n",
            " ization)                                                                                         \n",
            "                                                                                                  \n",
            " conv4_block3_2_relu (Activatio  (None, 14, 14, 256)  0          ['conv4_block3_2_bn[0][0]']      \n",
            " n)                                                                                               \n",
            "                                                                                                  \n",
            " conv4_block3_3_conv (Conv2D)   (None, 14, 14, 1024  263168      ['conv4_block3_2_relu[0][0]']    \n",
            "                                )                                                                 \n",
            "                                                                                                  \n",
            " conv4_block3_3_bn (BatchNormal  (None, 14, 14, 1024  4096       ['conv4_block3_3_conv[0][0]']    \n",
            " ization)                       )                                                                 \n",
            "                                                                                                  \n",
            " conv4_block3_add (Add)         (None, 14, 14, 1024  0           ['conv4_block2_out[0][0]',       \n",
            "                                )                                 'conv4_block3_3_bn[0][0]']      \n",
            "                                                                                                  \n",
            " conv4_block3_out (Activation)  (None, 14, 14, 1024  0           ['conv4_block3_add[0][0]']       \n",
            "                                )                                                                 \n",
            "                                                                                                  \n",
            " conv4_block4_1_conv (Conv2D)   (None, 14, 14, 256)  262400      ['conv4_block3_out[0][0]']       \n",
            "                                                                                                  \n",
            " conv4_block4_1_bn (BatchNormal  (None, 14, 14, 256)  1024       ['conv4_block4_1_conv[0][0]']    \n",
            " ization)                                                                                         \n",
            "                                                                                                  \n",
            " conv4_block4_1_relu (Activatio  (None, 14, 14, 256)  0          ['conv4_block4_1_bn[0][0]']      \n",
            " n)                                                                                               \n",
            "                                                                                                  \n",
            " conv4_block4_2_conv (Conv2D)   (None, 14, 14, 256)  590080      ['conv4_block4_1_relu[0][0]']    \n",
            "                                                                                                  \n",
            " conv4_block4_2_bn (BatchNormal  (None, 14, 14, 256)  1024       ['conv4_block4_2_conv[0][0]']    \n",
            " ization)                                                                                         \n",
            "                                                                                                  \n",
            " conv4_block4_2_relu (Activatio  (None, 14, 14, 256)  0          ['conv4_block4_2_bn[0][0]']      \n",
            " n)                                                                                               \n",
            "                                                                                                  \n",
            " conv4_block4_3_conv (Conv2D)   (None, 14, 14, 1024  263168      ['conv4_block4_2_relu[0][0]']    \n",
            "                                )                                                                 \n",
            "                                                                                                  \n",
            " conv4_block4_3_bn (BatchNormal  (None, 14, 14, 1024  4096       ['conv4_block4_3_conv[0][0]']    \n",
            " ization)                       )                                                                 \n",
            "                                                                                                  \n",
            " conv4_block4_add (Add)         (None, 14, 14, 1024  0           ['conv4_block3_out[0][0]',       \n",
            "                                )                                 'conv4_block4_3_bn[0][0]']      \n",
            "                                                                                                  \n",
            " conv4_block4_out (Activation)  (None, 14, 14, 1024  0           ['conv4_block4_add[0][0]']       \n",
            "                                )                                                                 \n",
            "                                                                                                  \n",
            " conv4_block5_1_conv (Conv2D)   (None, 14, 14, 256)  262400      ['conv4_block4_out[0][0]']       \n",
            "                                                                                                  \n",
            " conv4_block5_1_bn (BatchNormal  (None, 14, 14, 256)  1024       ['conv4_block5_1_conv[0][0]']    \n",
            " ization)                                                                                         \n",
            "                                                                                                  \n",
            " conv4_block5_1_relu (Activatio  (None, 14, 14, 256)  0          ['conv4_block5_1_bn[0][0]']      \n",
            " n)                                                                                               \n",
            "                                                                                                  \n",
            " conv4_block5_2_conv (Conv2D)   (None, 14, 14, 256)  590080      ['conv4_block5_1_relu[0][0]']    \n",
            "                                                                                                  \n",
            " conv4_block5_2_bn (BatchNormal  (None, 14, 14, 256)  1024       ['conv4_block5_2_conv[0][0]']    \n",
            " ization)                                                                                         \n",
            "                                                                                                  \n",
            " conv4_block5_2_relu (Activatio  (None, 14, 14, 256)  0          ['conv4_block5_2_bn[0][0]']      \n",
            " n)                                                                                               \n",
            "                                                                                                  \n",
            " conv4_block5_3_conv (Conv2D)   (None, 14, 14, 1024  263168      ['conv4_block5_2_relu[0][0]']    \n",
            "                                )                                                                 \n",
            "                                                                                                  \n",
            " conv4_block5_3_bn (BatchNormal  (None, 14, 14, 1024  4096       ['conv4_block5_3_conv[0][0]']    \n",
            " ization)                       )                                                                 \n",
            "                                                                                                  \n",
            " conv4_block5_add (Add)         (None, 14, 14, 1024  0           ['conv4_block4_out[0][0]',       \n",
            "                                )                                 'conv4_block5_3_bn[0][0]']      \n",
            "                                                                                                  \n",
            " conv4_block5_out (Activation)  (None, 14, 14, 1024  0           ['conv4_block5_add[0][0]']       \n",
            "                                )                                                                 \n",
            "                                                                                                  \n",
            " conv4_block6_1_conv (Conv2D)   (None, 14, 14, 256)  262400      ['conv4_block5_out[0][0]']       \n",
            "                                                                                                  \n",
            " conv4_block6_1_bn (BatchNormal  (None, 14, 14, 256)  1024       ['conv4_block6_1_conv[0][0]']    \n",
            " ization)                                                                                         \n",
            "                                                                                                  \n",
            " conv4_block6_1_relu (Activatio  (None, 14, 14, 256)  0          ['conv4_block6_1_bn[0][0]']      \n",
            " n)                                                                                               \n",
            "                                                                                                  \n",
            " conv4_block6_2_conv (Conv2D)   (None, 14, 14, 256)  590080      ['conv4_block6_1_relu[0][0]']    \n",
            "                                                                                                  \n",
            " conv4_block6_2_bn (BatchNormal  (None, 14, 14, 256)  1024       ['conv4_block6_2_conv[0][0]']    \n",
            " ization)                                                                                         \n",
            "                                                                                                  \n",
            " conv4_block6_2_relu (Activatio  (None, 14, 14, 256)  0          ['conv4_block6_2_bn[0][0]']      \n",
            " n)                                                                                               \n",
            "                                                                                                  \n",
            " conv4_block6_3_conv (Conv2D)   (None, 14, 14, 1024  263168      ['conv4_block6_2_relu[0][0]']    \n",
            "                                )                                                                 \n",
            "                                                                                                  \n",
            " conv4_block6_3_bn (BatchNormal  (None, 14, 14, 1024  4096       ['conv4_block6_3_conv[0][0]']    \n",
            " ization)                       )                                                                 \n",
            "                                                                                                  \n",
            " conv4_block6_add (Add)         (None, 14, 14, 1024  0           ['conv4_block5_out[0][0]',       \n",
            "                                )                                 'conv4_block6_3_bn[0][0]']      \n",
            "                                                                                                  \n",
            " conv4_block6_out (Activation)  (None, 14, 14, 1024  0           ['conv4_block6_add[0][0]']       \n",
            "                                )                                                                 \n",
            "                                                                                                  \n",
            " conv5_block1_1_conv (Conv2D)   (None, 7, 7, 512)    524800      ['conv4_block6_out[0][0]']       \n",
            "                                                                                                  \n",
            " conv5_block1_1_bn (BatchNormal  (None, 7, 7, 512)   2048        ['conv5_block1_1_conv[0][0]']    \n",
            " ization)                                                                                         \n",
            "                                                                                                  \n",
            " conv5_block1_1_relu (Activatio  (None, 7, 7, 512)   0           ['conv5_block1_1_bn[0][0]']      \n",
            " n)                                                                                               \n",
            "                                                                                                  \n",
            " conv5_block1_2_conv (Conv2D)   (None, 7, 7, 512)    2359808     ['conv5_block1_1_relu[0][0]']    \n",
            "                                                                                                  \n",
            " conv5_block1_2_bn (BatchNormal  (None, 7, 7, 512)   2048        ['conv5_block1_2_conv[0][0]']    \n",
            " ization)                                                                                         \n",
            "                                                                                                  \n",
            " conv5_block1_2_relu (Activatio  (None, 7, 7, 512)   0           ['conv5_block1_2_bn[0][0]']      \n",
            " n)                                                                                               \n",
            "                                                                                                  \n",
            " conv5_block1_0_conv (Conv2D)   (None, 7, 7, 2048)   2099200     ['conv4_block6_out[0][0]']       \n",
            "                                                                                                  \n",
            " conv5_block1_3_conv (Conv2D)   (None, 7, 7, 2048)   1050624     ['conv5_block1_2_relu[0][0]']    \n",
            "                                                                                                  \n",
            " conv5_block1_0_bn (BatchNormal  (None, 7, 7, 2048)  8192        ['conv5_block1_0_conv[0][0]']    \n",
            " ization)                                                                                         \n",
            "                                                                                                  \n",
            " conv5_block1_3_bn (BatchNormal  (None, 7, 7, 2048)  8192        ['conv5_block1_3_conv[0][0]']    \n",
            " ization)                                                                                         \n",
            "                                                                                                  \n",
            " conv5_block1_add (Add)         (None, 7, 7, 2048)   0           ['conv5_block1_0_bn[0][0]',      \n",
            "                                                                  'conv5_block1_3_bn[0][0]']      \n",
            "                                                                                                  \n",
            " conv5_block1_out (Activation)  (None, 7, 7, 2048)   0           ['conv5_block1_add[0][0]']       \n",
            "                                                                                                  \n",
            " conv5_block2_1_conv (Conv2D)   (None, 7, 7, 512)    1049088     ['conv5_block1_out[0][0]']       \n",
            "                                                                                                  \n",
            " conv5_block2_1_bn (BatchNormal  (None, 7, 7, 512)   2048        ['conv5_block2_1_conv[0][0]']    \n",
            " ization)                                                                                         \n",
            "                                                                                                  \n",
            " conv5_block2_1_relu (Activatio  (None, 7, 7, 512)   0           ['conv5_block2_1_bn[0][0]']      \n",
            " n)                                                                                               \n",
            "                                                                                                  \n",
            " conv5_block2_2_conv (Conv2D)   (None, 7, 7, 512)    2359808     ['conv5_block2_1_relu[0][0]']    \n",
            "                                                                                                  \n",
            " conv5_block2_2_bn (BatchNormal  (None, 7, 7, 512)   2048        ['conv5_block2_2_conv[0][0]']    \n",
            " ization)                                                                                         \n",
            "                                                                                                  \n",
            " conv5_block2_2_relu (Activatio  (None, 7, 7, 512)   0           ['conv5_block2_2_bn[0][0]']      \n",
            " n)                                                                                               \n",
            "                                                                                                  \n",
            " conv5_block2_3_conv (Conv2D)   (None, 7, 7, 2048)   1050624     ['conv5_block2_2_relu[0][0]']    \n",
            "                                                                                                  \n",
            " conv5_block2_3_bn (BatchNormal  (None, 7, 7, 2048)  8192        ['conv5_block2_3_conv[0][0]']    \n",
            " ization)                                                                                         \n",
            "                                                                                                  \n",
            " conv5_block2_add (Add)         (None, 7, 7, 2048)   0           ['conv5_block1_out[0][0]',       \n",
            "                                                                  'conv5_block2_3_bn[0][0]']      \n",
            "                                                                                                  \n",
            " conv5_block2_out (Activation)  (None, 7, 7, 2048)   0           ['conv5_block2_add[0][0]']       \n",
            "                                                                                                  \n",
            " conv5_block3_1_conv (Conv2D)   (None, 7, 7, 512)    1049088     ['conv5_block2_out[0][0]']       \n",
            "                                                                                                  \n",
            " conv5_block3_1_bn (BatchNormal  (None, 7, 7, 512)   2048        ['conv5_block3_1_conv[0][0]']    \n",
            " ization)                                                                                         \n",
            "                                                                                                  \n",
            " conv5_block3_1_relu (Activatio  (None, 7, 7, 512)   0           ['conv5_block3_1_bn[0][0]']      \n",
            " n)                                                                                               \n",
            "                                                                                                  \n",
            " conv5_block3_2_conv (Conv2D)   (None, 7, 7, 512)    2359808     ['conv5_block3_1_relu[0][0]']    \n",
            "                                                                                                  \n",
            " conv5_block3_2_bn (BatchNormal  (None, 7, 7, 512)   2048        ['conv5_block3_2_conv[0][0]']    \n",
            " ization)                                                                                         \n",
            "                                                                                                  \n",
            " conv5_block3_2_relu (Activatio  (None, 7, 7, 512)   0           ['conv5_block3_2_bn[0][0]']      \n",
            " n)                                                                                               \n",
            "                                                                                                  \n",
            " conv5_block3_3_conv (Conv2D)   (None, 7, 7, 2048)   1050624     ['conv5_block3_2_relu[0][0]']    \n",
            "                                                                                                  \n",
            " conv5_block3_3_bn (BatchNormal  (None, 7, 7, 2048)  8192        ['conv5_block3_3_conv[0][0]']    \n",
            " ization)                                                                                         \n",
            "                                                                                                  \n",
            " conv5_block3_add (Add)         (None, 7, 7, 2048)   0           ['conv5_block2_out[0][0]',       \n",
            "                                                                  'conv5_block3_3_bn[0][0]']      \n",
            "                                                                                                  \n",
            " conv5_block3_out (Activation)  (None, 7, 7, 2048)   0           ['conv5_block3_add[0][0]']       \n",
            "                                                                                                  \n",
            " flatten_1 (Flatten)            (None, 100352)       0           ['conv5_block3_out[0][0]']       \n",
            "                                                                                                  \n",
            " dense_1 (Dense)                (None, 39)           3913767     ['flatten_1[0][0]']              \n",
            "                                                                                                  \n",
            "==================================================================================================\n",
            "Total params: 27,501,479\n",
            "Trainable params: 3,913,767\n",
            "Non-trainable params: 23,587,712\n",
            "__________________________________________________________________________________________________\n"
          ]
        }
      ],
      "source": [
        "# view the structure of the model\n",
        "r_model.summary()"
      ]
    },
    {
      "cell_type": "code",
      "execution_count": null,
      "metadata": {
        "id": "7lVvUhojyH_Y"
      },
      "outputs": [],
      "source": [
        "# tell the model what cost and optimization method to use\n",
        "# model.compile(\n",
        "#   loss='categorical_crossentropy',\n",
        "#   optimizer='adam',\n",
        "#   metrics=['accuracy']\n",
        "# )\n",
        "\n",
        "\n",
        "r_model.compile(optimizer='adam',\n",
        "              loss='categorical_crossentropy',\n",
        "              metrics=['accuracy'])"
      ]
    },
    {
      "cell_type": "code",
      "execution_count": null,
      "metadata": {
        "id": "MdAmNknUytaw",
        "colab": {
          "base_uri": "https://localhost:8080/"
        },
        "outputId": "7a25c18e-bd6c-43db-b6a7-be50ea120428"
      },
      "outputs": [
        {
          "output_type": "stream",
          "name": "stdout",
          "text": [
            "Epoch 1/50\n",
            "42/42 [==============================] - ETA: 0s - loss: 16.8199 - accuracy: 0.0272\n",
            "Epoch 1: val_accuracy improved from -inf to 0.04087, saving model to /content/drive/MyDrive/PAPER/resnet50/res_best_weights.hdf5\n",
            "42/42 [==============================] - 34s 663ms/step - loss: 16.8199 - accuracy: 0.0272 - val_loss: 11.4342 - val_accuracy: 0.0409\n",
            "Epoch 2/50\n",
            "42/42 [==============================] - ETA: 0s - loss: 6.5756 - accuracy: 0.0869\n",
            "Epoch 2: val_accuracy improved from 0.04087 to 0.16621, saving model to /content/drive/MyDrive/PAPER/resnet50/res_best_weights.hdf5\n",
            "42/42 [==============================] - 29s 688ms/step - loss: 6.5756 - accuracy: 0.0869 - val_loss: 4.6294 - val_accuracy: 0.1662\n",
            "Epoch 3/50\n",
            "42/42 [==============================] - ETA: 0s - loss: 4.2827 - accuracy: 0.1451\n",
            "Epoch 3: val_accuracy did not improve from 0.16621\n",
            "42/42 [==============================] - 27s 644ms/step - loss: 4.2827 - accuracy: 0.1451 - val_loss: 4.4918 - val_accuracy: 0.1008\n",
            "Epoch 4/50\n",
            "42/42 [==============================] - ETA: 0s - loss: 4.2751 - accuracy: 0.1973\n",
            "Epoch 4: val_accuracy did not improve from 0.16621\n",
            "42/42 [==============================] - 27s 650ms/step - loss: 4.2751 - accuracy: 0.1973 - val_loss: 4.8009 - val_accuracy: 0.1335\n",
            "Epoch 5/50\n",
            "42/42 [==============================] - ETA: 0s - loss: 4.2136 - accuracy: 0.2011\n",
            "Epoch 5: val_accuracy improved from 0.16621 to 0.26431, saving model to /content/drive/MyDrive/PAPER/resnet50/res_best_weights.hdf5\n",
            "42/42 [==============================] - 29s 691ms/step - loss: 4.2136 - accuracy: 0.2011 - val_loss: 4.0632 - val_accuracy: 0.2643\n",
            "Epoch 6/50\n",
            "42/42 [==============================] - ETA: 0s - loss: 4.1267 - accuracy: 0.2585\n",
            "Epoch 6: val_accuracy did not improve from 0.26431\n",
            "42/42 [==============================] - 26s 620ms/step - loss: 4.1267 - accuracy: 0.2585 - val_loss: 3.8085 - val_accuracy: 0.1853\n",
            "Epoch 7/50\n",
            "42/42 [==============================] - ETA: 0s - loss: 3.5522 - accuracy: 0.2729\n",
            "Epoch 7: val_accuracy did not improve from 0.26431\n",
            "42/42 [==============================] - 26s 625ms/step - loss: 3.5522 - accuracy: 0.2729 - val_loss: 4.1965 - val_accuracy: 0.2071\n",
            "Epoch 8/50\n",
            "42/42 [==============================] - ETA: 0s - loss: 3.8311 - accuracy: 0.2887\n",
            "Epoch 8: val_accuracy did not improve from 0.26431\n",
            "42/42 [==============================] - 26s 613ms/step - loss: 3.8311 - accuracy: 0.2887 - val_loss: 3.3175 - val_accuracy: 0.2234\n",
            "Epoch 9/50\n",
            "42/42 [==============================] - ETA: 0s - loss: 3.1981 - accuracy: 0.3129\n",
            "Epoch 9: val_accuracy improved from 0.26431 to 0.27520, saving model to /content/drive/MyDrive/PAPER/resnet50/res_best_weights.hdf5\n",
            "42/42 [==============================] - 27s 652ms/step - loss: 3.1981 - accuracy: 0.3129 - val_loss: 3.7952 - val_accuracy: 0.2752\n",
            "Epoch 10/50\n",
            "42/42 [==============================] - ETA: 0s - loss: 3.4069 - accuracy: 0.3220\n",
            "Epoch 10: val_accuracy improved from 0.27520 to 0.28883, saving model to /content/drive/MyDrive/PAPER/resnet50/res_best_weights.hdf5\n",
            "42/42 [==============================] - 28s 656ms/step - loss: 3.4069 - accuracy: 0.3220 - val_loss: 3.2766 - val_accuracy: 0.2888\n",
            "Epoch 11/50\n",
            "42/42 [==============================] - ETA: 0s - loss: 3.0343 - accuracy: 0.3424\n",
            "Epoch 11: val_accuracy did not improve from 0.28883\n",
            "42/42 [==============================] - 26s 621ms/step - loss: 3.0343 - accuracy: 0.3424 - val_loss: 3.3615 - val_accuracy: 0.2616\n",
            "Epoch 12/50\n",
            "42/42 [==============================] - ETA: 0s - loss: 3.1989 - accuracy: 0.3500\n",
            "Epoch 12: val_accuracy improved from 0.28883 to 0.29700, saving model to /content/drive/MyDrive/PAPER/resnet50/res_best_weights.hdf5\n",
            "42/42 [==============================] - 29s 699ms/step - loss: 3.1989 - accuracy: 0.3500 - val_loss: 3.5305 - val_accuracy: 0.2970\n",
            "Epoch 13/50\n",
            "42/42 [==============================] - ETA: 0s - loss: 3.2435 - accuracy: 0.3477\n",
            "Epoch 13: val_accuracy did not improve from 0.29700\n",
            "42/42 [==============================] - 26s 622ms/step - loss: 3.2435 - accuracy: 0.3477 - val_loss: 4.2248 - val_accuracy: 0.2425\n",
            "Epoch 14/50\n",
            "42/42 [==============================] - ETA: 0s - loss: 3.2821 - accuracy: 0.3787\n",
            "Epoch 14: val_accuracy improved from 0.29700 to 0.30245, saving model to /content/drive/MyDrive/PAPER/resnet50/res_best_weights.hdf5\n",
            "42/42 [==============================] - 27s 649ms/step - loss: 3.2821 - accuracy: 0.3787 - val_loss: 3.8252 - val_accuracy: 0.3025\n",
            "Epoch 15/50\n",
            "42/42 [==============================] - ETA: 0s - loss: 2.7972 - accuracy: 0.4165\n",
            "Epoch 15: val_accuracy did not improve from 0.30245\n",
            "42/42 [==============================] - 26s 613ms/step - loss: 2.7972 - accuracy: 0.4165 - val_loss: 3.7661 - val_accuracy: 0.2752\n",
            "Epoch 16/50\n",
            "42/42 [==============================] - ETA: 0s - loss: 3.0185 - accuracy: 0.3953\n",
            "Epoch 16: val_accuracy improved from 0.30245 to 0.30790, saving model to /content/drive/MyDrive/PAPER/resnet50/res_best_weights.hdf5\n",
            "42/42 [==============================] - 27s 656ms/step - loss: 3.0185 - accuracy: 0.3953 - val_loss: 3.2616 - val_accuracy: 0.3079\n",
            "Epoch 17/50\n",
            "42/42 [==============================] - ETA: 0s - loss: 3.1398 - accuracy: 0.3908\n",
            "Epoch 17: val_accuracy did not improve from 0.30790\n",
            "42/42 [==============================] - 26s 622ms/step - loss: 3.1398 - accuracy: 0.3908 - val_loss: 3.7982 - val_accuracy: 0.2834\n",
            "Epoch 18/50\n",
            "42/42 [==============================] - ETA: 0s - loss: 2.4445 - accuracy: 0.4339\n",
            "Epoch 18: val_accuracy improved from 0.30790 to 0.31335, saving model to /content/drive/MyDrive/PAPER/resnet50/res_best_weights.hdf5\n",
            "42/42 [==============================] - 27s 662ms/step - loss: 2.4445 - accuracy: 0.4339 - val_loss: 3.1791 - val_accuracy: 0.3134\n",
            "Epoch 19/50\n",
            "42/42 [==============================] - ETA: 0s - loss: 2.8097 - accuracy: 0.4369\n",
            "Epoch 19: val_accuracy did not improve from 0.31335\n",
            "42/42 [==============================] - 29s 683ms/step - loss: 2.8097 - accuracy: 0.4369 - val_loss: 3.6878 - val_accuracy: 0.2779\n",
            "Epoch 20/50\n",
            "42/42 [==============================] - ETA: 0s - loss: 3.1723 - accuracy: 0.4135\n",
            "Epoch 20: val_accuracy improved from 0.31335 to 0.34060, saving model to /content/drive/MyDrive/PAPER/resnet50/res_best_weights.hdf5\n",
            "42/42 [==============================] - 28s 660ms/step - loss: 3.1723 - accuracy: 0.4135 - val_loss: 3.6393 - val_accuracy: 0.3406\n",
            "Epoch 21/50\n",
            "42/42 [==============================] - ETA: 0s - loss: 2.8689 - accuracy: 0.4444\n",
            "Epoch 21: val_accuracy improved from 0.34060 to 0.39237, saving model to /content/drive/MyDrive/PAPER/resnet50/res_best_weights.hdf5\n",
            "42/42 [==============================] - 28s 673ms/step - loss: 2.8689 - accuracy: 0.4444 - val_loss: 2.9172 - val_accuracy: 0.3924\n",
            "Epoch 22/50\n",
            "42/42 [==============================] - ETA: 0s - loss: 2.5593 - accuracy: 0.4505\n",
            "Epoch 22: val_accuracy did not improve from 0.39237\n",
            "42/42 [==============================] - 27s 638ms/step - loss: 2.5593 - accuracy: 0.4505 - val_loss: 3.3045 - val_accuracy: 0.3569\n",
            "Epoch 23/50\n",
            "42/42 [==============================] - ETA: 0s - loss: 2.6451 - accuracy: 0.4460\n",
            "Epoch 23: val_accuracy did not improve from 0.39237\n",
            "42/42 [==============================] - 26s 630ms/step - loss: 2.6451 - accuracy: 0.4460 - val_loss: 4.2689 - val_accuracy: 0.2807\n",
            "Epoch 24/50\n",
            "42/42 [==============================] - ETA: 0s - loss: 3.1010 - accuracy: 0.4278\n",
            "Epoch 24: val_accuracy did not improve from 0.39237\n",
            "42/42 [==============================] - 26s 628ms/step - loss: 3.1010 - accuracy: 0.4278 - val_loss: 4.4463 - val_accuracy: 0.2970\n",
            "Epoch 25/50\n",
            "42/42 [==============================] - ETA: 0s - loss: 2.8914 - accuracy: 0.4512\n",
            "Epoch 25: val_accuracy did not improve from 0.39237\n",
            "42/42 [==============================] - 26s 629ms/step - loss: 2.8914 - accuracy: 0.4512 - val_loss: 4.5206 - val_accuracy: 0.3270\n",
            "Epoch 26/50\n",
            "42/42 [==============================] - ETA: 0s - loss: 3.0654 - accuracy: 0.4732\n",
            "Epoch 26: val_accuracy did not improve from 0.39237\n",
            "42/42 [==============================] - 26s 613ms/step - loss: 3.0654 - accuracy: 0.4732 - val_loss: 3.7273 - val_accuracy: 0.3406\n",
            "Epoch 27/50\n",
            "42/42 [==============================] - ETA: 0s - loss: 2.5532 - accuracy: 0.4641\n",
            "Epoch 27: val_accuracy did not improve from 0.39237\n",
            "42/42 [==============================] - 26s 611ms/step - loss: 2.5532 - accuracy: 0.4641 - val_loss: 3.2192 - val_accuracy: 0.3815\n",
            "Epoch 28/50\n",
            "42/42 [==============================] - ETA: 0s - loss: 2.2790 - accuracy: 0.5026\n",
            "Epoch 28: val_accuracy improved from 0.39237 to 0.40054, saving model to /content/drive/MyDrive/PAPER/resnet50/res_best_weights.hdf5\n",
            "42/42 [==============================] - 28s 680ms/step - loss: 2.2790 - accuracy: 0.5026 - val_loss: 3.4661 - val_accuracy: 0.4005\n",
            "Epoch 29/50\n",
            "42/42 [==============================] - ETA: 0s - loss: 2.2499 - accuracy: 0.5427\n",
            "Epoch 29: val_accuracy improved from 0.40054 to 0.40872, saving model to /content/drive/MyDrive/PAPER/resnet50/res_best_weights.hdf5\n",
            "42/42 [==============================] - 27s 637ms/step - loss: 2.2499 - accuracy: 0.5427 - val_loss: 3.6874 - val_accuracy: 0.4087\n",
            "Epoch 30/50\n",
            "42/42 [==============================] - ETA: 0s - loss: 2.3034 - accuracy: 0.5601\n",
            "Epoch 30: val_accuracy did not improve from 0.40872\n",
            "42/42 [==============================] - 27s 653ms/step - loss: 2.3034 - accuracy: 0.5601 - val_loss: 3.5156 - val_accuracy: 0.3706\n",
            "Epoch 31/50\n",
            "42/42 [==============================] - ETA: 0s - loss: 1.9474 - accuracy: 0.5276\n",
            "Epoch 31: val_accuracy did not improve from 0.40872\n",
            "42/42 [==============================] - 25s 596ms/step - loss: 1.9474 - accuracy: 0.5276 - val_loss: 3.9541 - val_accuracy: 0.3215\n",
            "Epoch 31: early stopping\n"
          ]
        }
      ],
      "source": [
        "# checkpoint\n",
        "from keras.callbacks import ModelCheckpoint,EarlyStopping,CSVLogger\n",
        "# r_weightpath = \"/content/drive/MyDrive/Thesis/weights/checkpoint/res_best_weights-{epoch:02d}-{val_accuracy:.2f}.hdf5\"\n",
        "r_weightpath = \"/content/drive/MyDrive/PAPER/resnet50/res_best_weights.hdf5\"\n",
        "checkpoint = ModelCheckpoint(r_weightpath, monitor='val_accuracy', verbose=1, save_best_only=True, save_weights_only=True, mode='max')\n",
        "# checkpoint = ModelCheckpoint(r_weightpath, monitor='val_accuracy', verbose=1, save_best_only=True,  mode='max')\n",
        "\n",
        "early_stop=EarlyStopping(monitor='val_loss',patience=10,verbose=1)\n",
        "\n",
        "log_csv=CSVLogger('/content/drive/MyDrive/PAPER/resnet50/logs.csv',separator=',',append=False)\n",
        "\n",
        "callbacks_list = [checkpoint,early_stop,log_csv]\n",
        "\n",
        "# fit the model\n",
        "# Run the cell. It will take some time to execute\n",
        "r = r_model.fit(\n",
        "  training_set,\n",
        "  validation_data=val_set,\n",
        "  epochs=50,\n",
        "  steps_per_epoch=len(training_set),\n",
        "  validation_steps=len(val_set),\n",
        "  callbacks=callbacks_list\n",
        ")\n",
        "# save it as a h5 file\n",
        "r_model.save('/content/drive/MyDrive/PAPER/resnet50/resnet.h5')"
      ]
    },
    {
      "cell_type": "code",
      "execution_count": null,
      "metadata": {
        "id": "pLbfCyAizPmI"
      },
      "outputs": [],
      "source": []
    },
    {
      "cell_type": "code",
      "execution_count": null,
      "metadata": {
        "id": "n-MZBR7-zJlQ"
      },
      "outputs": [],
      "source": [
        "import matplotlib.pyplot as plt"
      ]
    },
    {
      "cell_type": "code",
      "execution_count": null,
      "metadata": {
        "id": "JMRV9tI6zMyA",
        "colab": {
          "base_uri": "https://localhost:8080/",
          "height": 898
        },
        "outputId": "6ed98991-6961-4df7-8848-f8e8f77d87c5"
      },
      "outputs": [
        {
          "output_type": "display_data",
          "data": {
            "text/plain": [
              "<Figure size 640x480 with 1 Axes>"
            ],
            "image/png": "[encoded data removed]"
          },
          "metadata": {}
        },
        {
          "output_type": "display_data",
          "data": {
            "text/plain": [
              "<Figure size 640x480 with 1 Axes>"
            ],
            "image/png": "[encoded data removed]"
          },
          "metadata": {}
        },
        {
          "output_type": "display_data",
          "data": {
            "text/plain": [
              "<Figure size 640x480 with 0 Axes>"
            ]
          },
          "metadata": {}
        }
      ],
      "source": [
        "# plot the loss\n",
        "plt.plot(r.history['loss'], label='train loss')\n",
        "plt.plot(r.history['val_loss'], label='val loss')\n",
        "plt.xlabel('Epochs')\n",
        "plt.ylabel('Loss')\n",
        "plt.legend()\n",
        "plt.show()\n",
        "plt.savefig('/content/drive/MyDrive/Thesis/model/resnet50/LossVal_loss')\n",
        "\n",
        "# plot the accuracy\n",
        "plt.plot(r.history['accuracy'], label='train acc')\n",
        "plt.plot(r.history['val_accuracy'], label='val acc')\n",
        "plt.xlabel('Epochs')\n",
        "plt.ylabel('Accuracy')\n",
        "plt.legend()\n",
        "plt.show()\n",
        "plt.savefig('/content/drive/MyDrive/Thesis/model/resnet50/AccVal_acc')"
      ]
    },
    {
      "cell_type": "code",
      "execution_count": null,
      "metadata": {
        "id": "JUIBMLDKT0JQ",
        "colab": {
          "base_uri": "https://localhost:8080/"
        },
        "outputId": "5ae77ce6-90e1-4b01-8f46-428e4a6286bf"
      },
      "outputs": [
        {
          "output_type": "execute_result",
          "data": {
            "text/plain": [
              "array([[0., 0., 0., ..., 0., 0., 0.],\n",
              "       [0., 0., 0., ..., 0., 0., 0.],\n",
              "       [0., 0., 0., ..., 1., 0., 0.],\n",
              "       ...,\n",
              "       [0., 0., 0., ..., 1., 0., 0.],\n",
              "       [0., 0., 0., ..., 0., 0., 0.],\n",
              "       [0., 0., 0., ..., 0., 0., 0.]], dtype=float32)"
            ]
          },
          "metadata": {},
          "execution_count": 34
        }
      ],
      "source": [
        "labels"
      ]
    },
    {
      "cell_type": "code",
      "execution_count": null,
      "metadata": {
        "id": "6814LKP_R-xn"
      },
      "outputs": [],
      "source": [
        "model=load_model('/content/drive/MyDrive/PAPER/resnet50/resnet.h5')"
      ]
    },
    {
      "cell_type": "code",
      "execution_count": null,
      "metadata": {
        "id": "6OE0tdet_4Dp"
      },
      "outputs": [],
      "source": [
        "from sklearn.metrics import classification_report\n"
      ]
    },
    {
      "cell_type": "code",
      "execution_count": null,
      "metadata": {
        "id": "5aeSL3oHTryc",
        "colab": {
          "base_uri": "https://localhost:8080/"
        },
        "outputId": "1ac64269-1594-42fe-dfdc-c654aa75afee"
      },
      "outputs": [
        {
          "output_type": "stream",
          "name": "stdout",
          "text": [
            "7/7 [==============================] - 3s 285ms/step\n",
            "              precision    recall  f1-score   support\n",
            "\n",
            "           0       0.10      1.00      0.19         5\n",
            "           1       0.20      1.00      0.33         5\n",
            "           2       1.00      0.43      0.60         7\n",
            "           3       1.00      0.17      0.29         6\n",
            "           4       0.60      0.50      0.55         6\n",
            "           5       0.00      0.00      0.00         5\n",
            "           6       0.00      0.00      0.00         5\n",
            "           7       0.00      0.00      0.00         6\n",
            "           8       0.00      0.00      0.00         6\n",
            "           9       0.00      0.00      0.00         6\n",
            "          10       1.00      0.17      0.29         6\n",
            "          11       1.00      0.20      0.33         5\n",
            "          12       0.00      0.00      0.00         5\n",
            "          13       1.00      0.17      0.29         6\n",
            "          14       0.50      0.67      0.57         6\n",
            "          15       1.00      0.20      0.33         5\n",
            "          16       1.00      0.20      0.33         5\n",
            "          17       0.21      0.80      0.33         5\n",
            "          18       0.50      0.33      0.40         6\n",
            "          19       0.17      0.14      0.15         7\n",
            "          20       0.00      0.00      0.00         7\n",
            "          21       0.33      0.17      0.22         6\n",
            "          22       0.23      0.50      0.32         6\n",
            "          23       0.24      0.83      0.37         6\n",
            "          24       0.00      0.00      0.00         7\n",
            "          25       1.00      0.40      0.57         5\n",
            "          26       0.00      0.00      0.00         6\n",
            "          27       1.00      0.40      0.57         5\n",
            "          28       0.29      1.00      0.45         5\n",
            "          29       1.00      0.17      0.29         6\n",
            "          30       1.00      0.17      0.29         6\n",
            "          31       1.00      0.33      0.50         6\n",
            "          32       0.30      0.50      0.37         6\n",
            "          33       1.00      0.33      0.50         6\n",
            "          34       0.00      0.00      0.00         6\n",
            "          35       0.31      0.67      0.42         6\n",
            "          36       0.60      0.75      0.67         4\n",
            "          37       1.00      0.60      0.75         5\n",
            "          38       1.00      0.20      0.33         5\n",
            "\n",
            "    accuracy                           0.32       222\n",
            "   macro avg       0.50      0.33      0.30       222\n",
            "weighted avg       0.49      0.32      0.29       222\n",
            "\n"
          ]
        },
        {
          "output_type": "stream",
          "name": "stderr",
          "text": [
            "/usr/local/lib/python3.9/dist-packages/sklearn/metrics/_classification.py:1344: UndefinedMetricWarning: Precision and F-score are ill-defined and being set to 0.0 in labels with no predicted samples. Use `zero_division` parameter to control this behavior.\n",
            "  _warn_prf(average, modifier, msg_start, len(result))\n",
            "/usr/local/lib/python3.9/dist-packages/sklearn/metrics/_classification.py:1344: UndefinedMetricWarning: Precision and F-score are ill-defined and being set to 0.0 in labels with no predicted samples. Use `zero_division` parameter to control this behavior.\n",
            "  _warn_prf(average, modifier, msg_start, len(result))\n",
            "/usr/local/lib/python3.9/dist-packages/sklearn/metrics/_classification.py:1344: UndefinedMetricWarning: Precision and F-score are ill-defined and being set to 0.0 in labels with no predicted samples. Use `zero_division` parameter to control this behavior.\n",
            "  _warn_prf(average, modifier, msg_start, len(result))\n"
          ]
        }
      ],
      "source": [
        "ypred = model.predict(images)\n",
        "pred=np.argmax(ypred, axis=1)\n",
        "ground = np.argmax(labels,axis=1)\n",
        "print(classification_report(ground,pred))"
      ]
    },
    {
      "cell_type": "code",
      "source": [
        "cr=classification_report(ground,pred, output_dict=True)\n",
        "resnet_cr = pd.DataFrame(cr).transpose()"
      ],
      "metadata": {
        "colab": {
          "base_uri": "https://localhost:8080/"
        },
        "id": "tiP0kqqKqoYV",
        "outputId": "4a09301d-19f1-4806-94b5-7398d876b7da"
      },
      "execution_count": null,
      "outputs": [
        {
          "output_type": "stream",
          "name": "stderr",
          "text": [
            "/usr/local/lib/python3.9/dist-packages/sklearn/metrics/_classification.py:1344: UndefinedMetricWarning: Precision and F-score are ill-defined and being set to 0.0 in labels with no predicted samples. Use `zero_division` parameter to control this behavior.\n",
            "  _warn_prf(average, modifier, msg_start, len(result))\n",
            "/usr/local/lib/python3.9/dist-packages/sklearn/metrics/_classification.py:1344: UndefinedMetricWarning: Precision and F-score are ill-defined and being set to 0.0 in labels with no predicted samples. Use `zero_division` parameter to control this behavior.\n",
            "  _warn_prf(average, modifier, msg_start, len(result))\n",
            "/usr/local/lib/python3.9/dist-packages/sklearn/metrics/_classification.py:1344: UndefinedMetricWarning: Precision and F-score are ill-defined and being set to 0.0 in labels with no predicted samples. Use `zero_division` parameter to control this behavior.\n",
            "  _warn_prf(average, modifier, msg_start, len(result))\n"
          ]
        }
      ]
    },
    {
      "cell_type": "code",
      "source": [
        "resnet_rep=resnet_cr.iloc[39:42,:]\n",
        "resnet_rep"
      ],
      "metadata": {
        "colab": {
          "base_uri": "https://localhost:8080/",
          "height": 143
        },
        "id": "h6CU20rD2DGn",
        "outputId": "9104d0c9-47ab-48e3-a235-0721a11c204c"
      },
      "execution_count": null,
      "outputs": [
        {
          "output_type": "execute_result",
          "data": {
            "text/plain": [
              "              precision    recall  f1-score    support\n",
              "accuracy       0.319820  0.319820  0.319820    0.31982\n",
              "macro avg      0.502189  0.333028  0.297602  222.00000\n",
              "weighted avg   0.494009  0.319820  0.290646  222.00000"
            ],
            "text/html": [
              "\n",
              "  <div id=\"df-b4042414-eca7-4e05-8191-29550e9fc9f2\">\n",
              "    <div class=\"colab-df-container\">\n",
              "      <div>\n",
              "<style scoped>\n",
              "    .dataframe tbody tr th:only-of-type {\n",
              "        vertical-align: middle;\n",
              "    }\n",
              "\n",
              "    .dataframe tbody tr th {\n",
              "        vertical-align: top;\n",
              "    }\n",
              "\n",
              "    .dataframe thead th {\n",
              "        text-align: right;\n",
              "    }\n",
              "</style>\n",
              "<table border=\"1\" class=\"dataframe\">\n",
              "  <thead>\n",
              "    <tr style=\"text-align: right;\">\n",
              "      <th></th>\n",
              "      <th>precision</th>\n",
              "      <th>recall</th>\n",
              "      <th>f1-score</th>\n",
              "      <th>support</th>\n",
              "    </tr>\n",
              "  </thead>\n",
              "  <tbody>\n",
              "    <tr>\n",
              "      <th>accuracy</th>\n",
              "      <td>0.319820</td>\n",
              "      <td>0.319820</td>\n",
              "      <td>0.319820</td>\n",
              "      <td>0.31982</td>\n",
              "    </tr>\n",
              "    <tr>\n",
              "      <th>macro avg</th>\n",
              "      <td>0.502189</td>\n",
              "      <td>0.333028</td>\n",
              "      <td>0.297602</td>\n",
              "      <td>222.00000</td>\n",
              "    </tr>\n",
              "    <tr>\n",
              "      <th>weighted avg</th>\n",
              "      <td>0.494009</td>\n",
              "      <td>0.319820</td>\n",
              "      <td>0.290646</td>\n",
              "      <td>222.00000</td>\n",
              "    </tr>\n",
              "  </tbody>\n",
              "</table>\n",
              "</div>\n",
              "      <button class=\"colab-df-convert\" onclick=\"convertToInteractive('df-b4042414-eca7-4e05-8191-29550e9fc9f2')\"\n",
              "              title=\"Convert this dataframe to an interactive table.\"\n",
              "              style=\"display:none;\">\n",
              "        \n",
              "  <svg xmlns=\"http://www.w3.org/2000/svg\" height=\"24px\"viewBox=\"0 0 24 24\"\n",
              "       width=\"24px\">\n",
              "    <path d=\"M0 0h24v24H0V0z\" fill=\"none\"/>\n",
              "    <path d=\"M18.56 5.44l.94 2.06.94-2.06 2.06-.94-2.06-.94-.94-2.06-.94 2.06-2.06.94zm-11 1L8.5 8.5l.94-2.06 2.06-.94-2.06-.94L8.5 2.5l-.94 2.06-2.06.94zm10 10l.94 2.06.94-2.06 2.06-.94-2.06-.94-.94-2.06-.94 2.06-2.06.94z\"/><path d=\"M17.41 7.96l-1.37-1.37c-.4-.4-.92-.59-1.43-.59-.52 0-1.04.2-1.43.59L10.3 9.45l-7.72 7.72c-.78.78-.78 2.05 0 2.83L4 21.41c.39.39.9.59 1.41.59.51 0 1.02-.2 1.41-.59l7.78-7.78 2.81-2.81c.8-.78.8-2.07 0-2.86zM5.41 20L4 18.59l7.72-7.72 1.47 1.35L5.41 20z\"/>\n",
              "  </svg>\n",
              "      </button>\n",
              "      \n",
              "  <style>\n",
              "    .colab-df-container {\n",
              "      display:flex;\n",
              "      flex-wrap:wrap;\n",
              "      gap: 12px;\n",
              "    }\n",
              "\n",
              "    .colab-df-convert {\n",
              "      background-color: #E8F0FE;\n",
              "      border: none;\n",
              "      border-radius: 50%;\n",
              "      cursor: pointer;\n",
              "      display: none;\n",
              "      fill: #1967D2;\n",
              "      height: 32px;\n",
              "      padding: 0 0 0 0;\n",
              "      width: 32px;\n",
              "    }\n",
              "\n",
              "    .colab-df-convert:hover {\n",
              "      background-color: #E2EBFA;\n",
              "      box-shadow: 0px 1px 2px rgba(60, 64, 67, 0.3), 0px 1px 3px 1px rgba(60, 64, 67, 0.15);\n",
              "      fill: #174EA6;\n",
              "    }\n",
              "\n",
              "    [theme=dark] .colab-df-convert {\n",
              "      background-color: #3B4455;\n",
              "      fill: #D2E3FC;\n",
              "    }\n",
              "\n",
              "    [theme=dark] .colab-df-convert:hover {\n",
              "      background-color: #434B5C;\n",
              "      box-shadow: 0px 1px 3px 1px rgba(0, 0, 0, 0.15);\n",
              "      filter: drop-shadow(0px 1px 2px rgba(0, 0, 0, 0.3));\n",
              "      fill: #FFFFFF;\n",
              "    }\n",
              "  </style>\n",
              "\n",
              "      <script>\n",
              "        const buttonEl =\n",
              "          document.querySelector('#df-b4042414-eca7-4e05-8191-29550e9fc9f2 button.colab-df-convert');\n",
              "        buttonEl.style.display =\n",
              "          google.colab.kernel.accessAllowed ? 'block' : 'none';\n",
              "\n",
              "        async function convertToInteractive(key) {\n",
              "          const element = document.querySelector('#df-b4042414-eca7-4e05-8191-29550e9fc9f2');\n",
              "          const dataTable =\n",
              "            await google.colab.kernel.invokeFunction('convertToInteractive',\n",
              "                                                     [key], {});\n",
              "          if (!dataTable) return;\n",
              "\n",
              "          const docLinkHtml = 'Like what you see? Visit the ' +\n",
              "            '<a target=\"_blank\" href=https://colab.research.google.com/notebooks/data_table.ipynb>data table notebook</a>'\n",
              "            + ' to learn more about interactive tables.';\n",
              "          element.innerHTML = '';\n",
              "          dataTable['output_type'] = 'display_data';\n",
              "          await google.colab.output.renderOutput(dataTable, element);\n",
              "          const docLink = document.createElement('div');\n",
              "          docLink.innerHTML = docLinkHtml;\n",
              "          element.appendChild(docLink);\n",
              "        }\n",
              "      </script>\n",
              "    </div>\n",
              "  </div>\n",
              "  "
            ]
          },
          "metadata": {},
          "execution_count": 95
        }
      ]
    },
    {
      "cell_type": "code",
      "source": [
        "resnet_cr=resnet_cr.iloc[0:39,:]"
      ],
      "metadata": {
        "id": "zr7lunHLru4P"
      },
      "execution_count": null,
      "outputs": []
    },
    {
      "cell_type": "code",
      "source": [
        "resnet_cr['class']=li"
      ],
      "metadata": {
        "id": "MYeWbppf0YH_"
      },
      "execution_count": null,
      "outputs": []
    },
    {
      "cell_type": "code",
      "source": [
        "print(resnet_cr)"
      ],
      "metadata": {
        "id": "cnpJ9mtJvtTF",
        "colab": {
          "base_uri": "https://localhost:8080/"
        },
        "outputId": "1ea6505e-b383-4e06-b699-392d4eb30f94"
      },
      "execution_count": null,
      "outputs": [
        {
          "output_type": "stream",
          "name": "stdout",
          "text": [
            "    precision    recall  f1-score  support  class\n",
            "0    0.104167  1.000000  0.188679      5.0      A\n",
            "1    0.200000  1.000000  0.333333      5.0     AA\n",
            "2    1.000000  0.428571  0.600000      7.0     BA\n",
            "3    1.000000  0.166667  0.285714      6.0    BHA\n",
            "4    0.600000  0.500000  0.545455      6.0     BI\n",
            "5    0.000000  0.000000  0.000000      5.0    CHA\n",
            "6    0.000000  0.000000  0.000000      5.0     DA\n",
            "7    0.000000  0.000000  0.000000      6.0    DHA\n",
            "8    0.000000  0.000000  0.000000      6.0    DHO\n",
            "9    0.000000  0.000000  0.000000      6.0     DO\n",
            "10   1.000000  0.166667  0.285714      6.0      E\n",
            "11   1.000000  0.200000  0.333333      5.0     GA\n",
            "12   0.000000  0.000000  0.000000      5.0    GHA\n",
            "13   1.000000  0.166667  0.285714      6.0     HA\n",
            "14   0.500000  0.666667  0.571429      6.0     JA\n",
            "15   1.000000  0.200000  0.333333      5.0    JHA\n",
            "16   1.000000  0.200000  0.333333      5.0     KA\n",
            "17   0.210526  0.800000  0.333333      5.0    KHA\n",
            "18   0.500000  0.333333  0.400000      6.0     LA\n",
            "19   0.166667  0.142857  0.153846      7.0     MA\n",
            "20   0.000000  0.000000  0.000000      7.0     NA\n",
            "21   0.333333  0.166667  0.222222      6.0      O\n",
            "22   0.230769  0.500000  0.315789      6.0     PA\n",
            "23   0.238095  0.833333  0.370370      6.0    PHA\n",
            "24   0.000000  0.000000  0.000000      7.0     RA\n",
            "25   1.000000  0.400000  0.571429      5.0    RHA\n",
            "26   0.000000  0.000000  0.000000      6.0     SA\n",
            "27   1.000000  0.400000  0.571429      5.0   SCHA\n",
            "28   0.294118  1.000000  0.454545      5.0     TA\n",
            "29   1.000000  0.166667  0.285714      6.0    THA\n",
            "30   1.000000  0.166667  0.285714      6.0    THO\n",
            "31   1.000000  0.333333  0.500000      6.0     TO\n",
            "32   0.300000  0.500000  0.375000      6.0      U\n",
            "33   1.000000  0.333333  0.500000      6.0     UN\n",
            "34   0.000000  0.000000  0.000000      6.0      Y\n",
            "35   0.307692  0.666667  0.421053      6.0     YA\n",
            "36   0.600000  0.750000  0.666667      4.0  joint\n",
            "37   1.000000  0.600000  0.750000      5.0  space\n",
            "38   1.000000  0.200000  0.333333      5.0   stop\n"
          ]
        }
      ]
    },
    {
      "cell_type": "code",
      "source": [
        "from sklearn.metrics import precision_recall_fscore_support\n",
        "res = []\n",
        "for l in range(39):\n",
        "    prec,recall,_,_ = precision_recall_fscore_support(np.array(ground)==l,\n",
        "                                                      np.array(pred)==l,\n",
        "                                                      pos_label=True,average=None)\n",
        "    res.append([li[l],recall[0],recall[1]])"
      ],
      "metadata": {
        "id": "whXsgMycGE8H",
        "colab": {
          "base_uri": "https://localhost:8080/"
        },
        "outputId": "d036d773-a8fd-492b-d6ca-df8326a77586"
      },
      "execution_count": null,
      "outputs": [
        {
          "output_type": "stream",
          "name": "stderr",
          "text": [
            "/usr/local/lib/python3.9/dist-packages/sklearn/metrics/_classification.py:1344: UndefinedMetricWarning: Precision and F-score are ill-defined and being set to 0.0 in labels with no predicted samples. Use `zero_division` parameter to control this behavior.\n",
            "  _warn_prf(average, modifier, msg_start, len(result))\n",
            "/usr/local/lib/python3.9/dist-packages/sklearn/metrics/_classification.py:1344: UndefinedMetricWarning: Precision and F-score are ill-defined and being set to 0.0 in labels with no predicted samples. Use `zero_division` parameter to control this behavior.\n",
            "  _warn_prf(average, modifier, msg_start, len(result))\n",
            "/usr/local/lib/python3.9/dist-packages/sklearn/metrics/_classification.py:1344: UndefinedMetricWarning: Precision and F-score are ill-defined and being set to 0.0 in labels with no predicted samples. Use `zero_division` parameter to control this behavior.\n",
            "  _warn_prf(average, modifier, msg_start, len(result))\n",
            "/usr/local/lib/python3.9/dist-packages/sklearn/metrics/_classification.py:1344: UndefinedMetricWarning: Precision and F-score are ill-defined and being set to 0.0 in labels with no predicted samples. Use `zero_division` parameter to control this behavior.\n",
            "  _warn_prf(average, modifier, msg_start, len(result))\n",
            "/usr/local/lib/python3.9/dist-packages/sklearn/metrics/_classification.py:1344: UndefinedMetricWarning: Precision and F-score are ill-defined and being set to 0.0 in labels with no predicted samples. Use `zero_division` parameter to control this behavior.\n",
            "  _warn_prf(average, modifier, msg_start, len(result))\n",
            "/usr/local/lib/python3.9/dist-packages/sklearn/metrics/_classification.py:1344: UndefinedMetricWarning: Precision and F-score are ill-defined and being set to 0.0 in labels with no predicted samples. Use `zero_division` parameter to control this behavior.\n",
            "  _warn_prf(average, modifier, msg_start, len(result))\n",
            "/usr/local/lib/python3.9/dist-packages/sklearn/metrics/_classification.py:1344: UndefinedMetricWarning: Precision and F-score are ill-defined and being set to 0.0 in labels with no predicted samples. Use `zero_division` parameter to control this behavior.\n",
            "  _warn_prf(average, modifier, msg_start, len(result))\n",
            "/usr/local/lib/python3.9/dist-packages/sklearn/metrics/_classification.py:1344: UndefinedMetricWarning: Precision and F-score are ill-defined and being set to 0.0 in labels with no predicted samples. Use `zero_division` parameter to control this behavior.\n",
            "  _warn_prf(average, modifier, msg_start, len(result))\n",
            "/usr/local/lib/python3.9/dist-packages/sklearn/metrics/_classification.py:1344: UndefinedMetricWarning: Precision and F-score are ill-defined and being set to 0.0 in labels with no predicted samples. Use `zero_division` parameter to control this behavior.\n",
            "  _warn_prf(average, modifier, msg_start, len(result))\n"
          ]
        }
      ]
    },
    {
      "cell_type": "code",
      "source": [
        "import pandas as pd"
      ],
      "metadata": {
        "id": "cyd_p2JVGIY9"
      },
      "execution_count": null,
      "outputs": []
    },
    {
      "cell_type": "code",
      "source": [
        "specicifity=pd.DataFrame(res,columns = ['class','sensitivity','specificity'])"
      ],
      "metadata": {
        "id": "rQ2YFRj_GJ7u"
      },
      "execution_count": null,
      "outputs": []
    },
    {
      "cell_type": "code",
      "source": [
        "print(specicifity)"
      ],
      "metadata": {
        "id": "zCCG3m2SGMmO",
        "colab": {
          "base_uri": "https://localhost:8080/"
        },
        "outputId": "d41cc6aa-633c-4e42-87bb-23fda1a1d3fc"
      },
      "execution_count": null,
      "outputs": [
        {
          "output_type": "stream",
          "name": "stdout",
          "text": [
            "    class  sensitivity  specificity\n",
            "0       A     0.801843     1.000000\n",
            "1      AA     0.907834     1.000000\n",
            "2      BA     1.000000     0.428571\n",
            "3     BHA     1.000000     0.166667\n",
            "4      BI     0.990741     0.500000\n",
            "5     CHA     1.000000     0.000000\n",
            "6      DA     1.000000     0.000000\n",
            "7     DHA     1.000000     0.000000\n",
            "8     DHO     1.000000     0.000000\n",
            "9      DO     1.000000     0.000000\n",
            "10      E     1.000000     0.166667\n",
            "11     GA     1.000000     0.200000\n",
            "12    GHA     0.990783     0.000000\n",
            "13     HA     1.000000     0.166667\n",
            "14     JA     0.981481     0.666667\n",
            "15    JHA     1.000000     0.200000\n",
            "16     KA     1.000000     0.200000\n",
            "17    KHA     0.930876     0.800000\n",
            "18     LA     0.990741     0.333333\n",
            "19     MA     0.976744     0.142857\n",
            "20     NA     1.000000     0.000000\n",
            "21      O     0.990741     0.166667\n",
            "22     PA     0.953704     0.500000\n",
            "23    PHA     0.925926     0.833333\n",
            "24     RA     1.000000     0.000000\n",
            "25    RHA     1.000000     0.400000\n",
            "26     SA     1.000000     0.000000\n",
            "27   SCHA     1.000000     0.400000\n",
            "28     TA     0.944700     1.000000\n",
            "29    THA     1.000000     0.166667\n",
            "30    THO     1.000000     0.166667\n",
            "31     TO     1.000000     0.333333\n",
            "32      U     0.967593     0.500000\n",
            "33     UN     1.000000     0.333333\n",
            "34      Y     1.000000     0.000000\n",
            "35     YA     0.958333     0.666667\n",
            "36  joint     0.990826     0.750000\n",
            "37  space     1.000000     0.600000\n",
            "38   stop     1.000000     0.200000\n"
          ]
        }
      ]
    },
    {
      "cell_type": "code",
      "source": [
        "resnet_matrix=pd.merge(specicifity, resnet_cr, on ='class')"
      ],
      "metadata": {
        "id": "1AV1zrnXzKqG"
      },
      "execution_count": null,
      "outputs": []
    },
    {
      "cell_type": "code",
      "source": [
        "# result = pd.concat([specicifity,resnet_cr], axis=1,ignore_index=True )\n",
        "resnet_matrix"
      ],
      "metadata": {
        "id": "cbrW4e2ps5v_",
        "colab": {
          "base_uri": "https://localhost:8080/",
          "height": 1000
        },
        "outputId": "6a503be2-b7cf-4b36-90e6-9e1694bb2a07"
      },
      "execution_count": null,
      "outputs": [
        {
          "output_type": "execute_result",
          "data": {
            "text/plain": [
              "    class  sensitivity  specificity  precision    recall  f1-score  support\n",
              "0       A     0.801843     1.000000   0.104167  1.000000  0.188679      5.0\n",
              "1      AA     0.907834     1.000000   0.200000  1.000000  0.333333      5.0\n",
              "2      BA     1.000000     0.428571   1.000000  0.428571  0.600000      7.0\n",
              "3     BHA     1.000000     0.166667   1.000000  0.166667  0.285714      6.0\n",
              "4      BI     0.990741     0.500000   0.600000  0.500000  0.545455      6.0\n",
              "5     CHA     1.000000     0.000000   0.000000  0.000000  0.000000      5.0\n",
              "6      DA     1.000000     0.000000   0.000000  0.000000  0.000000      5.0\n",
              "7     DHA     1.000000     0.000000   0.000000  0.000000  0.000000      6.0\n",
              "8     DHO     1.000000     0.000000   0.000000  0.000000  0.000000      6.0\n",
              "9      DO     1.000000     0.000000   0.000000  0.000000  0.000000      6.0\n",
              "10      E     1.000000     0.166667   1.000000  0.166667  0.285714      6.0\n",
              "11     GA     1.000000     0.200000   1.000000  0.200000  0.333333      5.0\n",
              "12    GHA     0.990783     0.000000   0.000000  0.000000  0.000000      5.0\n",
              "13     HA     1.000000     0.166667   1.000000  0.166667  0.285714      6.0\n",
              "14     JA     0.981481     0.666667   0.500000  0.666667  0.571429      6.0\n",
              "15    JHA     1.000000     0.200000   1.000000  0.200000  0.333333      5.0\n",
              "16     KA     1.000000     0.200000   1.000000  0.200000  0.333333      5.0\n",
              "17    KHA     0.930876     0.800000   0.210526  0.800000  0.333333      5.0\n",
              "18     LA     0.990741     0.333333   0.500000  0.333333  0.400000      6.0\n",
              "19     MA     0.976744     0.142857   0.166667  0.142857  0.153846      7.0\n",
              "20     NA     1.000000     0.000000   0.000000  0.000000  0.000000      7.0\n",
              "21      O     0.990741     0.166667   0.333333  0.166667  0.222222      6.0\n",
              "22     PA     0.953704     0.500000   0.230769  0.500000  0.315789      6.0\n",
              "23    PHA     0.925926     0.833333   0.238095  0.833333  0.370370      6.0\n",
              "24     RA     1.000000     0.000000   0.000000  0.000000  0.000000      7.0\n",
              "25    RHA     1.000000     0.400000   1.000000  0.400000  0.571429      5.0\n",
              "26     SA     1.000000     0.000000   0.000000  0.000000  0.000000      6.0\n",
              "27   SCHA     1.000000     0.400000   1.000000  0.400000  0.571429      5.0\n",
              "28     TA     0.944700     1.000000   0.294118  1.000000  0.454545      5.0\n",
              "29    THA     1.000000     0.166667   1.000000  0.166667  0.285714      6.0\n",
              "30    THO     1.000000     0.166667   1.000000  0.166667  0.285714      6.0\n",
              "31     TO     1.000000     0.333333   1.000000  0.333333  0.500000      6.0\n",
              "32      U     0.967593     0.500000   0.300000  0.500000  0.375000      6.0\n",
              "33     UN     1.000000     0.333333   1.000000  0.333333  0.500000      6.0\n",
              "34      Y     1.000000     0.000000   0.000000  0.000000  0.000000      6.0\n",
              "35     YA     0.958333     0.666667   0.307692  0.666667  0.421053      6.0\n",
              "36  joint     0.990826     0.750000   0.600000  0.750000  0.666667      4.0\n",
              "37  space     1.000000     0.600000   1.000000  0.600000  0.750000      5.0\n",
              "38   stop     1.000000     0.200000   1.000000  0.200000  0.333333      5.0"
            ],
            "text/html": [
              "\n",
              "  <div id=\"df-bc1bc9f6-94d4-46f2-b810-2a055a031cde\">\n",
              "    <div class=\"colab-df-container\">\n",
              "      <div>\n",
              "<style scoped>\n",
              "    .dataframe tbody tr th:only-of-type {\n",
              "        vertical-align: middle;\n",
              "    }\n",
              "\n",
              "    .dataframe tbody tr th {\n",
              "        vertical-align: top;\n",
              "    }\n",
              "\n",
              "    .dataframe thead th {\n",
              "        text-align: right;\n",
              "    }\n",
              "</style>\n",
              "<table border=\"1\" class=\"dataframe\">\n",
              "  <thead>\n",
              "    <tr style=\"text-align: right;\">\n",
              "      <th></th>\n",
              "      <th>class</th>\n",
              "      <th>sensitivity</th>\n",
              "      <th>specificity</th>\n",
              "      <th>precision</th>\n",
              "      <th>recall</th>\n",
              "      <th>f1-score</th>\n",
              "      <th>support</th>\n",
              "    </tr>\n",
              "  </thead>\n",
              "  <tbody>\n",
              "    <tr>\n",
              "      <th>0</th>\n",
              "      <td>A</td>\n",
              "      <td>0.801843</td>\n",
              "      <td>1.000000</td>\n",
              "      <td>0.104167</td>\n",
              "      <td>1.000000</td>\n",
              "      <td>0.188679</td>\n",
              "      <td>5.0</td>\n",
              "    </tr>\n",
              "    <tr>\n",
              "      <th>1</th>\n",
              "      <td>AA</td>\n",
              "      <td>0.907834</td>\n",
              "      <td>1.000000</td>\n",
              "      <td>0.200000</td>\n",
              "      <td>1.000000</td>\n",
              "      <td>0.333333</td>\n",
              "      <td>5.0</td>\n",
              "    </tr>\n",
              "    <tr>\n",
              "      <th>2</th>\n",
              "      <td>BA</td>\n",
              "      <td>1.000000</td>\n",
              "      <td>0.428571</td>\n",
              "      <td>1.000000</td>\n",
              "      <td>0.428571</td>\n",
              "      <td>0.600000</td>\n",
              "      <td>7.0</td>\n",
              "    </tr>\n",
              "    <tr>\n",
              "      <th>3</th>\n",
              "      <td>BHA</td>\n",
              "      <td>1.000000</td>\n",
              "      <td>0.166667</td>\n",
              "      <td>1.000000</td>\n",
              "      <td>0.166667</td>\n",
              "      <td>0.285714</td>\n",
              "      <td>6.0</td>\n",
              "    </tr>\n",
              "    <tr>\n",
              "      <th>4</th>\n",
              "      <td>BI</td>\n",
              "      <td>0.990741</td>\n",
              "      <td>0.500000</td>\n",
              "      <td>0.600000</td>\n",
              "      <td>0.500000</td>\n",
              "      <td>0.545455</td>\n",
              "      <td>6.0</td>\n",
              "    </tr>\n",
              "    <tr>\n",
              "      <th>5</th>\n",
              "      <td>CHA</td>\n",
              "      <td>1.000000</td>\n",
              "      <td>0.000000</td>\n",
              "      <td>0.000000</td>\n",
              "      <td>0.000000</td>\n",
              "      <td>0.000000</td>\n",
              "      <td>5.0</td>\n",
              "    </tr>\n",
              "    <tr>\n",
              "      <th>6</th>\n",
              "      <td>DA</td>\n",
              "      <td>1.000000</td>\n",
              "      <td>0.000000</td>\n",
              "      <td>0.000000</td>\n",
              "      <td>0.000000</td>\n",
              "      <td>0.000000</td>\n",
              "      <td>5.0</td>\n",
              "    </tr>\n",
              "    <tr>\n",
              "      <th>7</th>\n",
              "      <td>DHA</td>\n",
              "      <td>1.000000</td>\n",
              "      <td>0.000000</td>\n",
              "      <td>0.000000</td>\n",
              "      <td>0.000000</td>\n",
              "      <td>0.000000</td>\n",
              "      <td>6.0</td>\n",
              "    </tr>\n",
              "    <tr>\n",
              "      <th>8</th>\n",
              "      <td>DHO</td>\n",
              "      <td>1.000000</td>\n",
              "      <td>0.000000</td>\n",
              "      <td>0.000000</td>\n",
              "      <td>0.000000</td>\n",
              "      <td>0.000000</td>\n",
              "      <td>6.0</td>\n",
              "    </tr>\n",
              "    <tr>\n",
              "      <th>9</th>\n",
              "      <td>DO</td>\n",
              "      <td>1.000000</td>\n",
              "      <td>0.000000</td>\n",
              "      <td>0.000000</td>\n",
              "      <td>0.000000</td>\n",
              "      <td>0.000000</td>\n",
              "      <td>6.0</td>\n",
              "    </tr>\n",
              "    <tr>\n",
              "      <th>10</th>\n",
              "      <td>E</td>\n",
              "      <td>1.000000</td>\n",
              "      <td>0.166667</td>\n",
              "      <td>1.000000</td>\n",
              "      <td>0.166667</td>\n",
              "      <td>0.285714</td>\n",
              "      <td>6.0</td>\n",
              "    </tr>\n",
              "    <tr>\n",
              "      <th>11</th>\n",
              "      <td>GA</td>\n",
              "      <td>1.000000</td>\n",
              "      <td>0.200000</td>\n",
              "      <td>1.000000</td>\n",
              "      <td>0.200000</td>\n",
              "      <td>0.333333</td>\n",
              "      <td>5.0</td>\n",
              "    </tr>\n",
              "    <tr>\n",
              "      <th>12</th>\n",
              "      <td>GHA</td>\n",
              "      <td>0.990783</td>\n",
              "      <td>0.000000</td>\n",
              "      <td>0.000000</td>\n",
              "      <td>0.000000</td>\n",
              "      <td>0.000000</td>\n",
              "      <td>5.0</td>\n",
              "    </tr>\n",
              "    <tr>\n",
              "      <th>13</th>\n",
              "      <td>HA</td>\n",
              "      <td>1.000000</td>\n",
              "      <td>0.166667</td>\n",
              "      <td>1.000000</td>\n",
              "      <td>0.166667</td>\n",
              "      <td>0.285714</td>\n",
              "      <td>6.0</td>\n",
              "    </tr>\n",
              "    <tr>\n",
              "      <th>14</th>\n",
              "      <td>JA</td>\n",
              "      <td>0.981481</td>\n",
              "      <td>0.666667</td>\n",
              "      <td>0.500000</td>\n",
              "      <td>0.666667</td>\n",
              "      <td>0.571429</td>\n",
              "      <td>6.0</td>\n",
              "    </tr>\n",
              "    <tr>\n",
              "      <th>15</th>\n",
              "      <td>JHA</td>\n",
              "      <td>1.000000</td>\n",
              "      <td>0.200000</td>\n",
              "      <td>1.000000</td>\n",
              "      <td>0.200000</td>\n",
              "      <td>0.333333</td>\n",
              "      <td>5.0</td>\n",
              "    </tr>\n",
              "    <tr>\n",
              "      <th>16</th>\n",
              "      <td>KA</td>\n",
              "      <td>1.000000</td>\n",
              "      <td>0.200000</td>\n",
              "      <td>1.000000</td>\n",
              "      <td>0.200000</td>\n",
              "      <td>0.333333</td>\n",
              "      <td>5.0</td>\n",
              "    </tr>\n",
              "    <tr>\n",
              "      <th>17</th>\n",
              "      <td>KHA</td>\n",
              "      <td>0.930876</td>\n",
              "      <td>0.800000</td>\n",
              "      <td>0.210526</td>\n",
              "      <td>0.800000</td>\n",
              "      <td>0.333333</td>\n",
              "      <td>5.0</td>\n",
              "    </tr>\n",
              "    <tr>\n",
              "      <th>18</th>\n",
              "      <td>LA</td>\n",
              "      <td>0.990741</td>\n",
              "      <td>0.333333</td>\n",
              "      <td>0.500000</td>\n",
              "      <td>0.333333</td>\n",
              "      <td>0.400000</td>\n",
              "      <td>6.0</td>\n",
              "    </tr>\n",
              "    <tr>\n",
              "      <th>19</th>\n",
              "      <td>MA</td>\n",
              "      <td>0.976744</td>\n",
              "      <td>0.142857</td>\n",
              "      <td>0.166667</td>\n",
              "      <td>0.142857</td>\n",
              "      <td>0.153846</td>\n",
              "      <td>7.0</td>\n",
              "    </tr>\n",
              "    <tr>\n",
              "      <th>20</th>\n",
              "      <td>NA</td>\n",
              "      <td>1.000000</td>\n",
              "      <td>0.000000</td>\n",
              "      <td>0.000000</td>\n",
              "      <td>0.000000</td>\n",
              "      <td>0.000000</td>\n",
              "      <td>7.0</td>\n",
              "    </tr>\n",
              "    <tr>\n",
              "      <th>21</th>\n",
              "      <td>O</td>\n",
              "      <td>0.990741</td>\n",
              "      <td>0.166667</td>\n",
              "      <td>0.333333</td>\n",
              "      <td>0.166667</td>\n",
              "      <td>0.222222</td>\n",
              "      <td>6.0</td>\n",
              "    </tr>\n",
              "    <tr>\n",
              "      <th>22</th>\n",
              "      <td>PA</td>\n",
              "      <td>0.953704</td>\n",
              "      <td>0.500000</td>\n",
              "      <td>0.230769</td>\n",
              "      <td>0.500000</td>\n",
              "      <td>0.315789</td>\n",
              "      <td>6.0</td>\n",
              "    </tr>\n",
              "    <tr>\n",
              "      <th>23</th>\n",
              "      <td>PHA</td>\n",
              "      <td>0.925926</td>\n",
              "      <td>0.833333</td>\n",
              "      <td>0.238095</td>\n",
              "      <td>0.833333</td>\n",
              "      <td>0.370370</td>\n",
              "      <td>6.0</td>\n",
              "    </tr>\n",
              "    <tr>\n",
              "      <th>24</th>\n",
              "      <td>RA</td>\n",
              "      <td>1.000000</td>\n",
              "      <td>0.000000</td>\n",
              "      <td>0.000000</td>\n",
              "      <td>0.000000</td>\n",
              "      <td>0.000000</td>\n",
              "      <td>7.0</td>\n",
              "    </tr>\n",
              "    <tr>\n",
              "      <th>25</th>\n",
              "      <td>RHA</td>\n",
              "      <td>1.000000</td>\n",
              "      <td>0.400000</td>\n",
              "      <td>1.000000</td>\n",
              "      <td>0.400000</td>\n",
              "      <td>0.571429</td>\n",
              "      <td>5.0</td>\n",
              "    </tr>\n",
              "    <tr>\n",
              "      <th>26</th>\n",
              "      <td>SA</td>\n",
              "      <td>1.000000</td>\n",
              "      <td>0.000000</td>\n",
              "      <td>0.000000</td>\n",
              "      <td>0.000000</td>\n",
              "      <td>0.000000</td>\n",
              "      <td>6.0</td>\n",
              "    </tr>\n",
              "    <tr>\n",
              "      <th>27</th>\n",
              "      <td>SCHA</td>\n",
              "      <td>1.000000</td>\n",
              "      <td>0.400000</td>\n",
              "      <td>1.000000</td>\n",
              "      <td>0.400000</td>\n",
              "      <td>0.571429</td>\n",
              "      <td>5.0</td>\n",
              "    </tr>\n",
              "    <tr>\n",
              "      <th>28</th>\n",
              "      <td>TA</td>\n",
              "      <td>0.944700</td>\n",
              "      <td>1.000000</td>\n",
              "      <td>0.294118</td>\n",
              "      <td>1.000000</td>\n",
              "      <td>0.454545</td>\n",
              "      <td>5.0</td>\n",
              "    </tr>\n",
              "    <tr>\n",
              "      <th>29</th>\n",
              "      <td>THA</td>\n",
              "      <td>1.000000</td>\n",
              "      <td>0.166667</td>\n",
              "      <td>1.000000</td>\n",
              "      <td>0.166667</td>\n",
              "      <td>0.285714</td>\n",
              "      <td>6.0</td>\n",
              "    </tr>\n",
              "    <tr>\n",
              "      <th>30</th>\n",
              "      <td>THO</td>\n",
              "      <td>1.000000</td>\n",
              "      <td>0.166667</td>\n",
              "      <td>1.000000</td>\n",
              "      <td>0.166667</td>\n",
              "      <td>0.285714</td>\n",
              "      <td>6.0</td>\n",
              "    </tr>\n",
              "    <tr>\n",
              "      <th>31</th>\n",
              "      <td>TO</td>\n",
              "      <td>1.000000</td>\n",
              "      <td>0.333333</td>\n",
              "      <td>1.000000</td>\n",
              "      <td>0.333333</td>\n",
              "      <td>0.500000</td>\n",
              "      <td>6.0</td>\n",
              "    </tr>\n",
              "    <tr>\n",
              "      <th>32</th>\n",
              "      <td>U</td>\n",
              "      <td>0.967593</td>\n",
              "      <td>0.500000</td>\n",
              "      <td>0.300000</td>\n",
              "      <td>0.500000</td>\n",
              "      <td>0.375000</td>\n",
              "      <td>6.0</td>\n",
              "    </tr>\n",
              "    <tr>\n",
              "      <th>33</th>\n",
              "      <td>UN</td>\n",
              "      <td>1.000000</td>\n",
              "      <td>0.333333</td>\n",
              "      <td>1.000000</td>\n",
              "      <td>0.333333</td>\n",
              "      <td>0.500000</td>\n",
              "      <td>6.0</td>\n",
              "    </tr>\n",
              "    <tr>\n",
              "      <th>34</th>\n",
              "      <td>Y</td>\n",
              "      <td>1.000000</td>\n",
              "      <td>0.000000</td>\n",
              "      <td>0.000000</td>\n",
              "      <td>0.000000</td>\n",
              "      <td>0.000000</td>\n",
              "      <td>6.0</td>\n",
              "    </tr>\n",
              "    <tr>\n",
              "      <th>35</th>\n",
              "      <td>YA</td>\n",
              "      <td>0.958333</td>\n",
              "      <td>0.666667</td>\n",
              "      <td>0.307692</td>\n",
              "      <td>0.666667</td>\n",
              "      <td>0.421053</td>\n",
              "      <td>6.0</td>\n",
              "    </tr>\n",
              "    <tr>\n",
              "      <th>36</th>\n",
              "      <td>joint</td>\n",
              "      <td>0.990826</td>\n",
              "      <td>0.750000</td>\n",
              "      <td>0.600000</td>\n",
              "      <td>0.750000</td>\n",
              "      <td>0.666667</td>\n",
              "      <td>4.0</td>\n",
              "    </tr>\n",
              "    <tr>\n",
              "      <th>37</th>\n",
              "      <td>space</td>\n",
              "      <td>1.000000</td>\n",
              "      <td>0.600000</td>\n",
              "      <td>1.000000</td>\n",
              "      <td>0.600000</td>\n",
              "      <td>0.750000</td>\n",
              "      <td>5.0</td>\n",
              "    </tr>\n",
              "    <tr>\n",
              "      <th>38</th>\n",
              "      <td>stop</td>\n",
              "      <td>1.000000</td>\n",
              "      <td>0.200000</td>\n",
              "      <td>1.000000</td>\n",
              "      <td>0.200000</td>\n",
              "      <td>0.333333</td>\n",
              "      <td>5.0</td>\n",
              "    </tr>\n",
              "  </tbody>\n",
              "</table>\n",
              "</div>\n",
              "      <button class=\"colab-df-convert\" onclick=\"convertToInteractive('df-bc1bc9f6-94d4-46f2-b810-2a055a031cde')\"\n",
              "              title=\"Convert this dataframe to an interactive table.\"\n",
              "              style=\"display:none;\">\n",
              "        \n",
              "  <svg xmlns=\"http://www.w3.org/2000/svg\" height=\"24px\"viewBox=\"0 0 24 24\"\n",
              "       width=\"24px\">\n",
              "    <path d=\"M0 0h24v24H0V0z\" fill=\"none\"/>\n",
              "    <path d=\"M18.56 5.44l.94 2.06.94-2.06 2.06-.94-2.06-.94-.94-2.06-.94 2.06-2.06.94zm-11 1L8.5 8.5l.94-2.06 2.06-.94-2.06-.94L8.5 2.5l-.94 2.06-2.06.94zm10 10l.94 2.06.94-2.06 2.06-.94-2.06-.94-.94-2.06-.94 2.06-2.06.94z\"/><path d=\"M17.41 7.96l-1.37-1.37c-.4-.4-.92-.59-1.43-.59-.52 0-1.04.2-1.43.59L10.3 9.45l-7.72 7.72c-.78.78-.78 2.05 0 2.83L4 21.41c.39.39.9.59 1.41.59.51 0 1.02-.2 1.41-.59l7.78-7.78 2.81-2.81c.8-.78.8-2.07 0-2.86zM5.41 20L4 18.59l7.72-7.72 1.47 1.35L5.41 20z\"/>\n",
              "  </svg>\n",
              "      </button>\n",
              "      \n",
              "  <style>\n",
              "    .colab-df-container {\n",
              "      display:flex;\n",
              "      flex-wrap:wrap;\n",
              "      gap: 12px;\n",
              "    }\n",
              "\n",
              "    .colab-df-convert {\n",
              "      background-color: #E8F0FE;\n",
              "      border: none;\n",
              "      border-radius: 50%;\n",
              "      cursor: pointer;\n",
              "      display: none;\n",
              "      fill: #1967D2;\n",
              "      height: 32px;\n",
              "      padding: 0 0 0 0;\n",
              "      width: 32px;\n",
              "    }\n",
              "\n",
              "    .colab-df-convert:hover {\n",
              "      background-color: #E2EBFA;\n",
              "      box-shadow: 0px 1px 2px rgba(60, 64, 67, 0.3), 0px 1px 3px 1px rgba(60, 64, 67, 0.15);\n",
              "      fill: #174EA6;\n",
              "    }\n",
              "\n",
              "    [theme=dark] .colab-df-convert {\n",
              "      background-color: #3B4455;\n",
              "      fill: #D2E3FC;\n",
              "    }\n",
              "\n",
              "    [theme=dark] .colab-df-convert:hover {\n",
              "      background-color: #434B5C;\n",
              "      box-shadow: 0px 1px 3px 1px rgba(0, 0, 0, 0.15);\n",
              "      filter: drop-shadow(0px 1px 2px rgba(0, 0, 0, 0.3));\n",
              "      fill: #FFFFFF;\n",
              "    }\n",
              "  </style>\n",
              "\n",
              "      <script>\n",
              "        const buttonEl =\n",
              "          document.querySelector('#df-bc1bc9f6-94d4-46f2-b810-2a055a031cde button.colab-df-convert');\n",
              "        buttonEl.style.display =\n",
              "          google.colab.kernel.accessAllowed ? 'block' : 'none';\n",
              "\n",
              "        async function convertToInteractive(key) {\n",
              "          const element = document.querySelector('#df-bc1bc9f6-94d4-46f2-b810-2a055a031cde');\n",
              "          const dataTable =\n",
              "            await google.colab.kernel.invokeFunction('convertToInteractive',\n",
              "                                                     [key], {});\n",
              "          if (!dataTable) return;\n",
              "\n",
              "          const docLinkHtml = 'Like what you see? Visit the ' +\n",
              "            '<a target=\"_blank\" href=https://colab.research.google.com/notebooks/data_table.ipynb>data table notebook</a>'\n",
              "            + ' to learn more about interactive tables.';\n",
              "          element.innerHTML = '';\n",
              "          dataTable['output_type'] = 'display_data';\n",
              "          await google.colab.output.renderOutput(dataTable, element);\n",
              "          const docLink = document.createElement('div');\n",
              "          docLink.innerHTML = docLinkHtml;\n",
              "          element.appendChild(docLink);\n",
              "        }\n",
              "      </script>\n",
              "    </div>\n",
              "  </div>\n",
              "  "
            ]
          },
          "metadata": {},
          "execution_count": 104
        }
      ]
    },
    {
      "cell_type": "code",
      "source": [
        "resnet_matrix.to_csv('/content/drive/MyDrive/PAPER/resnet50/classification_report.csv')\n"
      ],
      "metadata": {
        "id": "GzD4Kg-3tmDx"
      },
      "execution_count": null,
      "outputs": []
    },
    {
      "cell_type": "code",
      "source": [
        "resnet_rep.to_csv('/content/drive/MyDrive/PAPER/resnet50/acc_report.csv')"
      ],
      "metadata": {
        "id": "HaUM52524ZMQ"
      },
      "execution_count": null,
      "outputs": []
    },
    {
      "cell_type": "markdown",
      "source": [
        "#VGG19\n"
      ],
      "metadata": {
        "id": "Kz7_8nQG-edf"
      }
    },
    {
      "cell_type": "code",
      "source": [
        "# Import the VGG16 library as shown below and add preprocessing layer to the front of VGG\n",
        "# Here we will be using imagenet weights\n",
        "\n",
        "vgg19 = VGG19(input_shape=IMAGE_SIZE + [3], weights='imagenet', include_top=False)"
      ],
      "metadata": {
        "colab": {
          "base_uri": "https://localhost:8080/"
        },
        "outputId": "1a6fdf5c-b7d1-4378-d3e0-35e37dac92d1",
        "id": "Zx49xMLv_Rlc"
      },
      "execution_count": null,
      "outputs": [
        {
          "output_type": "stream",
          "name": "stdout",
          "text": [
            "Downloading data from https://storage.googleapis.com/tensorflow/keras-applications/vgg19/vgg19_weights_tf_dim_ordering_tf_kernels_notop.h5\n",
            "80134624/80134624 [==============================] - 1s 0us/step\n"
          ]
        }
      ]
    },
    {
      "cell_type": "code",
      "source": [
        "# don't train existing weights\n",
        "for layer in vgg19.layers:\n",
        "    layer.trainable = False"
      ],
      "metadata": {
        "id": "-JIuGUYt_Rlx"
      },
      "execution_count": null,
      "outputs": []
    },
    {
      "cell_type": "code",
      "source": [
        "v9x = Flatten()(vgg19.output)"
      ],
      "metadata": {
        "id": "N2mpA3vk_Rlx"
      },
      "execution_count": null,
      "outputs": []
    },
    {
      "cell_type": "code",
      "source": [
        "v9_prediction = Dense(len(folders), activation='softmax')(v9x)\n",
        "\n",
        "# create a model object\n",
        "v9_model = Model(inputs=vgg19.input, outputs=v9_prediction)"
      ],
      "metadata": {
        "id": "qfyWInrJ_Rlx"
      },
      "execution_count": null,
      "outputs": []
    },
    {
      "cell_type": "code",
      "source": [
        "# view the structure of the model\n",
        "v9_model.summary()"
      ],
      "metadata": {
        "colab": {
          "base_uri": "https://localhost:8080/"
        },
        "outputId": "ab73f012-b7d4-4219-bd9b-6b74b6d8ca46",
        "id": "TN2GsEnQ_Rly"
      },
      "execution_count": null,
      "outputs": [
        {
          "output_type": "stream",
          "name": "stdout",
          "text": [
            "Model: \"model_2\"\n",
            "_________________________________________________________________\n",
            " Layer (type)                Output Shape              Param #   \n",
            "=================================================================\n",
            " input_3 (InputLayer)        [(None, 224, 224, 3)]     0         \n",
            "                                                                 \n",
            " block1_conv1 (Conv2D)       (None, 224, 224, 64)      1792      \n",
            "                                                                 \n",
            " block1_conv2 (Conv2D)       (None, 224, 224, 64)      36928     \n",
            "                                                                 \n",
            " block1_pool (MaxPooling2D)  (None, 112, 112, 64)      0         \n",
            "                                                                 \n",
            " block2_conv1 (Conv2D)       (None, 112, 112, 128)     73856     \n",
            "                                                                 \n",
            " block2_conv2 (Conv2D)       (None, 112, 112, 128)     147584    \n",
            "                                                                 \n",
            " block2_pool (MaxPooling2D)  (None, 56, 56, 128)       0         \n",
            "                                                                 \n",
            " block3_conv1 (Conv2D)       (None, 56, 56, 256)       295168    \n",
            "                                                                 \n",
            " block3_conv2 (Conv2D)       (None, 56, 56, 256)       590080    \n",
            "                                                                 \n",
            " block3_conv3 (Conv2D)       (None, 56, 56, 256)       590080    \n",
            "                                                                 \n",
            " block3_conv4 (Conv2D)       (None, 56, 56, 256)       590080    \n",
            "                                                                 \n",
            " block3_pool (MaxPooling2D)  (None, 28, 28, 256)       0         \n",
            "                                                                 \n",
            " block4_conv1 (Conv2D)       (None, 28, 28, 512)       1180160   \n",
            "                                                                 \n",
            " block4_conv2 (Conv2D)       (None, 28, 28, 512)       2359808   \n",
            "                                                                 \n",
            " block4_conv3 (Conv2D)       (None, 28, 28, 512)       2359808   \n",
            "                                                                 \n",
            " block4_conv4 (Conv2D)       (None, 28, 28, 512)       2359808   \n",
            "                                                                 \n",
            " block4_pool (MaxPooling2D)  (None, 14, 14, 512)       0         \n",
            "                                                                 \n",
            " block5_conv1 (Conv2D)       (None, 14, 14, 512)       2359808   \n",
            "                                                                 \n",
            " block5_conv2 (Conv2D)       (None, 14, 14, 512)       2359808   \n",
            "                                                                 \n",
            " block5_conv3 (Conv2D)       (None, 14, 14, 512)       2359808   \n",
            "                                                                 \n",
            " block5_conv4 (Conv2D)       (None, 14, 14, 512)       2359808   \n",
            "                                                                 \n",
            " block5_pool (MaxPooling2D)  (None, 7, 7, 512)         0         \n",
            "                                                                 \n",
            " flatten_2 (Flatten)         (None, 25088)             0         \n",
            "                                                                 \n",
            " dense_2 (Dense)             (None, 39)                978471    \n",
            "                                                                 \n",
            "=================================================================\n",
            "Total params: 21,002,855\n",
            "Trainable params: 978,471\n",
            "Non-trainable params: 20,024,384\n",
            "_________________________________________________________________\n"
          ]
        }
      ]
    },
    {
      "cell_type": "code",
      "source": [
        "# tell the model what cost and optimization method to use\n",
        "v9_model.compile(\n",
        "  loss='categorical_crossentropy',\n",
        "  optimizer='adam',\n",
        "  metrics=['accuracy']\n",
        ")"
      ],
      "metadata": {
        "id": "WfsZmYL6_Rly"
      },
      "execution_count": null,
      "outputs": []
    },
    {
      "cell_type": "code",
      "source": [
        "# checkpoint\n",
        "from keras.callbacks import ModelCheckpoint,EarlyStopping,CSVLogger\n",
        "# r_weightpath = \"/content/drive/MyDrive/Thesis/weights/checkpoint/res_best_weights-{epoch:02d}-{val_accuracy:.2f}.hdf5\"\n",
        "v9_weightpath = \"/content/drive/MyDrive/PAPER/VGG19/v19_best_weights.hdf5\"\n",
        "checkpoint = ModelCheckpoint(v9_weightpath, monitor='val_accuracy', verbose=1, save_best_only=True, save_weights_only=True, mode='max')\n",
        "# checkpoint = ModelCheckpoint(r_weightpath, monitor='val_accuracy', verbose=1, save_best_only=True,  mode='max')\n",
        "\n",
        "early_stop=EarlyStopping(monitor='val_loss',patience=10,verbose=1)\n",
        "\n",
        "log_csv=CSVLogger('/content/drive/MyDrive/PAPER/VGG19/v19_logs.csv',separator=',',append=False)\n",
        "\n",
        "callbacks_list = [checkpoint,early_stop,log_csv]\n",
        "\n",
        "# fit the model\n",
        "# Run the cell. It will take some time to execute\n",
        "v9 = v9_model.fit(\n",
        "  training_set,\n",
        "  validation_data=val_set,\n",
        "  epochs=20,\n",
        "  steps_per_epoch=len(training_set),\n",
        "  validation_steps=len(val_set),\n",
        "  callbacks=callbacks_list\n",
        ")\n",
        "\n",
        "v9_model.save('/content/drive/MyDrive/PAPER/VGG19/model_vgg19.h5')"
      ],
      "metadata": {
        "id": "Gp8bd2Ib_Rly",
        "colab": {
          "base_uri": "https://localhost:8080/"
        },
        "outputId": "cad70f0a-9de9-4fab-dd18-d51c2bc4ae4c"
      },
      "execution_count": null,
      "outputs": [
        {
          "output_type": "stream",
          "name": "stdout",
          "text": [
            "Epoch 1/20\n",
            "42/42 [==============================] - ETA: 0s - loss: 3.6674 - accuracy: 0.2600\n",
            "Epoch 1: val_accuracy improved from -inf to 0.47411, saving model to /content/drive/MyDrive/PAPER/VGG19/v19_best_weights.hdf5\n",
            "42/42 [==============================] - 29s 657ms/step - loss: 3.6674 - accuracy: 0.2600 - val_loss: 2.0357 - val_accuracy: 0.4741\n",
            "Epoch 2/20\n",
            "42/42 [==============================] - ETA: 0s - loss: 0.9156 - accuracy: 0.7468\n",
            "Epoch 2: val_accuracy improved from 0.47411 to 0.64033, saving model to /content/drive/MyDrive/PAPER/VGG19/v19_best_weights.hdf5\n",
            "42/42 [==============================] - 30s 706ms/step - loss: 0.9156 - accuracy: 0.7468 - val_loss: 1.2218 - val_accuracy: 0.6403\n",
            "Epoch 3/20\n",
            "42/42 [==============================] - ETA: 0s - loss: 0.4683 - accuracy: 0.8844\n",
            "Epoch 3: val_accuracy improved from 0.64033 to 0.70027, saving model to /content/drive/MyDrive/PAPER/VGG19/v19_best_weights.hdf5\n",
            "42/42 [==============================] - 28s 655ms/step - loss: 0.4683 - accuracy: 0.8844 - val_loss: 1.0405 - val_accuracy: 0.7003\n",
            "Epoch 4/20\n",
            "42/42 [==============================] - ETA: 0s - loss: 0.2482 - accuracy: 0.9448\n",
            "Epoch 4: val_accuracy improved from 0.70027 to 0.73297, saving model to /content/drive/MyDrive/PAPER/VGG19/v19_best_weights.hdf5\n",
            "42/42 [==============================] - 28s 670ms/step - loss: 0.2482 - accuracy: 0.9448 - val_loss: 0.9432 - val_accuracy: 0.7330\n",
            "Epoch 5/20\n",
            "42/42 [==============================] - ETA: 0s - loss: 0.1978 - accuracy: 0.9630\n",
            "Epoch 5: val_accuracy improved from 0.73297 to 0.74114, saving model to /content/drive/MyDrive/PAPER/VGG19/v19_best_weights.hdf5\n",
            "42/42 [==============================] - 28s 656ms/step - loss: 0.1978 - accuracy: 0.9630 - val_loss: 0.9133 - val_accuracy: 0.7411\n",
            "Epoch 6/20\n",
            "42/42 [==============================] - ETA: 0s - loss: 0.1638 - accuracy: 0.9667\n",
            "Epoch 6: val_accuracy did not improve from 0.74114\n",
            "42/42 [==============================] - 27s 636ms/step - loss: 0.1638 - accuracy: 0.9667 - val_loss: 0.8668 - val_accuracy: 0.7411\n",
            "Epoch 7/20\n",
            "42/42 [==============================] - ETA: 0s - loss: 0.0983 - accuracy: 0.9856\n",
            "Epoch 7: val_accuracy improved from 0.74114 to 0.75749, saving model to /content/drive/MyDrive/PAPER/VGG19/v19_best_weights.hdf5\n",
            "42/42 [==============================] - 27s 648ms/step - loss: 0.0983 - accuracy: 0.9856 - val_loss: 0.8009 - val_accuracy: 0.7575\n",
            "Epoch 8/20\n",
            "42/42 [==============================] - ETA: 0s - loss: 0.0582 - accuracy: 0.9955\n",
            "Epoch 8: val_accuracy improved from 0.75749 to 0.76567, saving model to /content/drive/MyDrive/PAPER/VGG19/v19_best_weights.hdf5\n",
            "42/42 [==============================] - 27s 652ms/step - loss: 0.0582 - accuracy: 0.9955 - val_loss: 0.7686 - val_accuracy: 0.7657\n",
            "Epoch 9/20\n",
            "42/42 [==============================] - ETA: 0s - loss: 0.0530 - accuracy: 0.9894\n",
            "Epoch 9: val_accuracy did not improve from 0.76567\n",
            "42/42 [==============================] - 26s 628ms/step - loss: 0.0530 - accuracy: 0.9894 - val_loss: 0.8537 - val_accuracy: 0.7548\n",
            "Epoch 10/20\n",
            "42/42 [==============================] - ETA: 0s - loss: 0.0539 - accuracy: 0.9917\n",
            "Epoch 10: val_accuracy did not improve from 0.76567\n",
            "42/42 [==============================] - 26s 626ms/step - loss: 0.0539 - accuracy: 0.9917 - val_loss: 0.8703 - val_accuracy: 0.7548\n",
            "Epoch 11/20\n",
            "42/42 [==============================] - ETA: 0s - loss: 0.0732 - accuracy: 0.9841\n",
            "Epoch 11: val_accuracy did not improve from 0.76567\n",
            "42/42 [==============================] - 31s 728ms/step - loss: 0.0732 - accuracy: 0.9841 - val_loss: 0.8919 - val_accuracy: 0.7439\n",
            "Epoch 12/20\n",
            "42/42 [==============================] - ETA: 0s - loss: 0.0604 - accuracy: 0.9849\n",
            "Epoch 12: val_accuracy did not improve from 0.76567\n",
            "42/42 [==============================] - 31s 723ms/step - loss: 0.0604 - accuracy: 0.9849 - val_loss: 0.8148 - val_accuracy: 0.7602\n",
            "Epoch 13/20\n",
            "42/42 [==============================] - ETA: 0s - loss: 0.0505 - accuracy: 0.9894\n",
            "Epoch 13: val_accuracy did not improve from 0.76567\n",
            "42/42 [==============================] - 30s 705ms/step - loss: 0.0505 - accuracy: 0.9894 - val_loss: 0.8468 - val_accuracy: 0.7575\n",
            "Epoch 14/20\n",
            "42/42 [==============================] - ETA: 0s - loss: 0.0325 - accuracy: 0.9924\n",
            "Epoch 14: val_accuracy improved from 0.76567 to 0.79019, saving model to /content/drive/MyDrive/PAPER/VGG19/v19_best_weights.hdf5\n",
            "42/42 [==============================] - 32s 752ms/step - loss: 0.0325 - accuracy: 0.9924 - val_loss: 0.7703 - val_accuracy: 0.7902\n",
            "Epoch 15/20\n",
            "42/42 [==============================] - ETA: 0s - loss: 0.0238 - accuracy: 0.9970\n",
            "Epoch 15: val_accuracy did not improve from 0.79019\n",
            "42/42 [==============================] - 28s 660ms/step - loss: 0.0238 - accuracy: 0.9970 - val_loss: 0.8242 - val_accuracy: 0.7575\n",
            "Epoch 16/20\n",
            "42/42 [==============================] - ETA: 0s - loss: 0.0368 - accuracy: 0.9955\n",
            "Epoch 16: val_accuracy did not improve from 0.79019\n",
            "42/42 [==============================] - 26s 617ms/step - loss: 0.0368 - accuracy: 0.9955 - val_loss: 0.8175 - val_accuracy: 0.7711\n",
            "Epoch 17/20\n",
            "42/42 [==============================] - ETA: 0s - loss: 0.0256 - accuracy: 0.9962\n",
            "Epoch 17: val_accuracy did not improve from 0.79019\n",
            "42/42 [==============================] - 28s 668ms/step - loss: 0.0256 - accuracy: 0.9962 - val_loss: 0.7620 - val_accuracy: 0.7738\n",
            "Epoch 18/20\n",
            "42/42 [==============================] - ETA: 0s - loss: 0.0195 - accuracy: 0.9962\n",
            "Epoch 18: val_accuracy did not improve from 0.79019\n",
            "42/42 [==============================] - 26s 629ms/step - loss: 0.0195 - accuracy: 0.9962 - val_loss: 0.7806 - val_accuracy: 0.7738\n",
            "Epoch 19/20\n",
            "42/42 [==============================] - ETA: 0s - loss: 0.0198 - accuracy: 0.9962\n",
            "Epoch 19: val_accuracy did not improve from 0.79019\n",
            "42/42 [==============================] - 27s 654ms/step - loss: 0.0198 - accuracy: 0.9962 - val_loss: 0.7595 - val_accuracy: 0.7820\n",
            "Epoch 20/20\n",
            "42/42 [==============================] - ETA: 0s - loss: 0.0129 - accuracy: 0.9992\n",
            "Epoch 20: val_accuracy did not improve from 0.79019\n",
            "42/42 [==============================] - 27s 652ms/step - loss: 0.0129 - accuracy: 0.9992 - val_loss: 0.7335 - val_accuracy: 0.7766\n"
          ]
        }
      ]
    },
    {
      "cell_type": "code",
      "source": [
        "# plot the loss\n",
        "plt.plot(v9.history['loss'], label='train loss')\n",
        "plt.plot(v9.history['val_loss'], label='val loss')\n",
        "plt.legend()\n",
        "plt.show()\n",
        "plt.savefig('/content/drive/MyDrive/Thesis/model/vgg19/vLossVal_loss')\n",
        "\n",
        "# plot the accuracy\n",
        "plt.plot(v9.history['accuracy'], label='train acc')\n",
        "plt.plot(v9.history['val_accuracy'], label='val acc')\n",
        "plt.legend()\n",
        "plt.show()\n",
        "plt.savefig('/content/drive/MyDrive/Thesis/model/vgg19/vAccVal_acc')"
      ],
      "metadata": {
        "colab": {
          "base_uri": "https://localhost:8080/",
          "height": 860
        },
        "id": "IAruD5AJ_Rlz",
        "outputId": "34d0e7ca-5a6d-46b5-f263-2c1e352dda5f"
      },
      "execution_count": null,
      "outputs": [
        {
          "output_type": "display_data",
          "data": {
            "text/plain": [
              "<Figure size 640x480 with 1 Axes>"
            ],
            "image/png": "[encoded data removed]"
          },
          "metadata": {}
        },
        {
          "output_type": "display_data",
          "data": {
            "text/plain": [
              "<Figure size 640x480 with 1 Axes>"
            ],
            "image/png": "[encoded data removed]"
          },
          "metadata": {}
        },
        {
          "output_type": "display_data",
          "data": {
            "text/plain": [
              "<Figure size 640x480 with 0 Axes>"
            ]
          },
          "metadata": {}
        }
      ]
    },
    {
      "cell_type": "code",
      "source": [
        "from tensorflow.keras.models import load_model\n",
        "model=load_model('/content/drive/MyDrive/PAPER/VGG19/model_vgg19.h5')"
      ],
      "metadata": {
        "id": "5aAC64oi_Rlz"
      },
      "execution_count": null,
      "outputs": []
    },
    {
      "cell_type": "code",
      "source": [
        "from sklearn.metrics import classification_report\n"
      ],
      "metadata": {
        "id": "pshiiEXB_Rlz"
      },
      "execution_count": null,
      "outputs": []
    },
    {
      "cell_type": "code",
      "source": [
        "ypred = model.predict(images)\n",
        "pred=np.argmax(ypred, axis=1)\n",
        "ground = np.argmax(labels,axis=1)\n",
        "print(classification_report(ground,pred))"
      ],
      "metadata": {
        "colab": {
          "base_uri": "https://localhost:8080/"
        },
        "outputId": "9b7d0410-d3a0-4098-ebfb-a93dc271e2fd",
        "id": "83E5JqRd_Rlz"
      },
      "execution_count": null,
      "outputs": [
        {
          "output_type": "stream",
          "name": "stdout",
          "text": [
            "7/7 [==============================] - 1s 161ms/step\n",
            "              precision    recall  f1-score   support\n",
            "\n",
            "           0       0.50      0.80      0.62         5\n",
            "           1       1.00      1.00      1.00         5\n",
            "           2       0.86      0.86      0.86         7\n",
            "           3       0.83      0.83      0.83         6\n",
            "           4       1.00      0.83      0.91         6\n",
            "           5       0.83      1.00      0.91         5\n",
            "           6       1.00      0.80      0.89         5\n",
            "           7       0.60      0.50      0.55         6\n",
            "           8       1.00      1.00      1.00         6\n",
            "           9       1.00      1.00      1.00         6\n",
            "          10       0.86      1.00      0.92         6\n",
            "          11       0.67      0.80      0.73         5\n",
            "          12       0.75      0.60      0.67         5\n",
            "          13       1.00      1.00      1.00         6\n",
            "          14       1.00      1.00      1.00         6\n",
            "          15       1.00      1.00      1.00         5\n",
            "          16       1.00      0.80      0.89         5\n",
            "          17       1.00      0.80      0.89         5\n",
            "          18       1.00      0.67      0.80         6\n",
            "          19       0.86      0.86      0.86         7\n",
            "          20       0.75      0.86      0.80         7\n",
            "          21       0.67      0.67      0.67         6\n",
            "          22       0.83      0.83      0.83         6\n",
            "          23       1.00      1.00      1.00         6\n",
            "          24       0.83      0.71      0.77         7\n",
            "          25       0.80      0.80      0.80         5\n",
            "          26       0.71      0.83      0.77         6\n",
            "          27       0.62      1.00      0.77         5\n",
            "          28       1.00      1.00      1.00         5\n",
            "          29       1.00      1.00      1.00         6\n",
            "          30       0.83      0.83      0.83         6\n",
            "          31       0.57      0.67      0.62         6\n",
            "          32       0.50      0.17      0.25         6\n",
            "          33       1.00      0.83      0.91         6\n",
            "          34       0.33      0.50      0.40         6\n",
            "          35       1.00      1.00      1.00         6\n",
            "          36       1.00      1.00      1.00         4\n",
            "          37       1.00      0.80      0.89         5\n",
            "          38       1.00      1.00      1.00         5\n",
            "\n",
            "    accuracy                           0.83       222\n",
            "   macro avg       0.85      0.84      0.84       222\n",
            "weighted avg       0.85      0.83      0.83       222\n",
            "\n"
          ]
        }
      ]
    },
    {
      "cell_type": "code",
      "source": [
        "cr=classification_report(ground,pred, output_dict=True)\n",
        "v9_cr = pd.DataFrame(cr).transpose()"
      ],
      "metadata": {
        "id": "x8iaF-Ra_Rl0"
      },
      "execution_count": null,
      "outputs": []
    },
    {
      "cell_type": "code",
      "source": [
        "v9_rep=v9_cr.iloc[39:42,:]\n",
        "v9_rep"
      ],
      "metadata": {
        "colab": {
          "base_uri": "https://localhost:8080/",
          "height": 143
        },
        "outputId": "ae0a617c-05e5-4da4-fc73-6bff8c402554",
        "id": "6FmuYVPx_Rl1"
      },
      "execution_count": null,
      "outputs": [
        {
          "output_type": "execute_result",
          "data": {
            "text/plain": [
              "              precision    recall  f1-score     support\n",
              "accuracy       0.833333  0.833333  0.833333    0.833333\n",
              "macro avg      0.851679  0.837241  0.836275  222.000000\n",
              "weighted avg   0.848718  0.833333  0.833012  222.000000"
            ],
            "text/html": [
              "\n",
              "  <div id=\"df-cce00d39-f516-407d-bb60-d6d8a78e62b9\">\n",
              "    <div class=\"colab-df-container\">\n",
              "      <div>\n",
              "<style scoped>\n",
              "    .dataframe tbody tr th:only-of-type {\n",
              "        vertical-align: middle;\n",
              "    }\n",
              "\n",
              "    .dataframe tbody tr th {\n",
              "        vertical-align: top;\n",
              "    }\n",
              "\n",
              "    .dataframe thead th {\n",
              "        text-align: right;\n",
              "    }\n",
              "</style>\n",
              "<table border=\"1\" class=\"dataframe\">\n",
              "  <thead>\n",
              "    <tr style=\"text-align: right;\">\n",
              "      <th></th>\n",
              "      <th>precision</th>\n",
              "      <th>recall</th>\n",
              "      <th>f1-score</th>\n",
              "      <th>support</th>\n",
              "    </tr>\n",
              "  </thead>\n",
              "  <tbody>\n",
              "    <tr>\n",
              "      <th>accuracy</th>\n",
              "      <td>0.833333</td>\n",
              "      <td>0.833333</td>\n",
              "      <td>0.833333</td>\n",
              "      <td>0.833333</td>\n",
              "    </tr>\n",
              "    <tr>\n",
              "      <th>macro avg</th>\n",
              "      <td>0.851679</td>\n",
              "      <td>0.837241</td>\n",
              "      <td>0.836275</td>\n",
              "      <td>222.000000</td>\n",
              "    </tr>\n",
              "    <tr>\n",
              "      <th>weighted avg</th>\n",
              "      <td>0.848718</td>\n",
              "      <td>0.833333</td>\n",
              "      <td>0.833012</td>\n",
              "      <td>222.000000</td>\n",
              "    </tr>\n",
              "  </tbody>\n",
              "</table>\n",
              "</div>\n",
              "      <button class=\"colab-df-convert\" onclick=\"convertToInteractive('df-cce00d39-f516-407d-bb60-d6d8a78e62b9')\"\n",
              "              title=\"Convert this dataframe to an interactive table.\"\n",
              "              style=\"display:none;\">\n",
              "        \n",
              "  <svg xmlns=\"http://www.w3.org/2000/svg\" height=\"24px\"viewBox=\"0 0 24 24\"\n",
              "       width=\"24px\">\n",
              "    <path d=\"M0 0h24v24H0V0z\" fill=\"none\"/>\n",
              "    <path d=\"M18.56 5.44l.94 2.06.94-2.06 2.06-.94-2.06-.94-.94-2.06-.94 2.06-2.06.94zm-11 1L8.5 8.5l.94-2.06 2.06-.94-2.06-.94L8.5 2.5l-.94 2.06-2.06.94zm10 10l.94 2.06.94-2.06 2.06-.94-2.06-.94-.94-2.06-.94 2.06-2.06.94z\"/><path d=\"M17.41 7.96l-1.37-1.37c-.4-.4-.92-.59-1.43-.59-.52 0-1.04.2-1.43.59L10.3 9.45l-7.72 7.72c-.78.78-.78 2.05 0 2.83L4 21.41c.39.39.9.59 1.41.59.51 0 1.02-.2 1.41-.59l7.78-7.78 2.81-2.81c.8-.78.8-2.07 0-2.86zM5.41 20L4 18.59l7.72-7.72 1.47 1.35L5.41 20z\"/>\n",
              "  </svg>\n",
              "      </button>\n",
              "      \n",
              "  <style>\n",
              "    .colab-df-container {\n",
              "      display:flex;\n",
              "      flex-wrap:wrap;\n",
              "      gap: 12px;\n",
              "    }\n",
              "\n",
              "    .colab-df-convert {\n",
              "      background-color: #E8F0FE;\n",
              "      border: none;\n",
              "      border-radius: 50%;\n",
              "      cursor: pointer;\n",
              "      display: none;\n",
              "      fill: #1967D2;\n",
              "      height: 32px;\n",
              "      padding: 0 0 0 0;\n",
              "      width: 32px;\n",
              "    }\n",
              "\n",
              "    .colab-df-convert:hover {\n",
              "      background-color: #E2EBFA;\n",
              "      box-shadow: 0px 1px 2px rgba(60, 64, 67, 0.3), 0px 1px 3px 1px rgba(60, 64, 67, 0.15);\n",
              "      fill: #174EA6;\n",
              "    }\n",
              "\n",
              "    [theme=dark] .colab-df-convert {\n",
              "      background-color: #3B4455;\n",
              "      fill: #D2E3FC;\n",
              "    }\n",
              "\n",
              "    [theme=dark] .colab-df-convert:hover {\n",
              "      background-color: #434B5C;\n",
              "      box-shadow: 0px 1px 3px 1px rgba(0, 0, 0, 0.15);\n",
              "      filter: drop-shadow(0px 1px 2px rgba(0, 0, 0, 0.3));\n",
              "      fill: #FFFFFF;\n",
              "    }\n",
              "  </style>\n",
              "\n",
              "      <script>\n",
              "        const buttonEl =\n",
              "          document.querySelector('#df-cce00d39-f516-407d-bb60-d6d8a78e62b9 button.colab-df-convert');\n",
              "        buttonEl.style.display =\n",
              "          google.colab.kernel.accessAllowed ? 'block' : 'none';\n",
              "\n",
              "        async function convertToInteractive(key) {\n",
              "          const element = document.querySelector('#df-cce00d39-f516-407d-bb60-d6d8a78e62b9');\n",
              "          const dataTable =\n",
              "            await google.colab.kernel.invokeFunction('convertToInteractive',\n",
              "                                                     [key], {});\n",
              "          if (!dataTable) return;\n",
              "\n",
              "          const docLinkHtml = 'Like what you see? Visit the ' +\n",
              "            '<a target=\"_blank\" href=https://colab.research.google.com/notebooks/data_table.ipynb>data table notebook</a>'\n",
              "            + ' to learn more about interactive tables.';\n",
              "          element.innerHTML = '';\n",
              "          dataTable['output_type'] = 'display_data';\n",
              "          await google.colab.output.renderOutput(dataTable, element);\n",
              "          const docLink = document.createElement('div');\n",
              "          docLink.innerHTML = docLinkHtml;\n",
              "          element.appendChild(docLink);\n",
              "        }\n",
              "      </script>\n",
              "    </div>\n",
              "  </div>\n",
              "  "
            ]
          },
          "metadata": {},
          "execution_count": 120
        }
      ]
    },
    {
      "cell_type": "code",
      "source": [
        "v9_cr=v9_cr.iloc[0:39,:]"
      ],
      "metadata": {
        "id": "Y71HOsy-_Rl1"
      },
      "execution_count": null,
      "outputs": []
    },
    {
      "cell_type": "code",
      "source": [
        "v9_cr['class']=li"
      ],
      "metadata": {
        "id": "rIzRNpFI_Rl2"
      },
      "execution_count": null,
      "outputs": []
    },
    {
      "cell_type": "code",
      "source": [
        "print(v9_cr)"
      ],
      "metadata": {
        "colab": {
          "base_uri": "https://localhost:8080/"
        },
        "id": "6YYQ_WVF_Rl2",
        "outputId": "6b4ac1d9-f8e6-461c-d1e4-d2799c6fb35f"
      },
      "execution_count": null,
      "outputs": [
        {
          "output_type": "stream",
          "name": "stdout",
          "text": [
            "    precision    recall  f1-score  support  class\n",
            "0    0.500000  0.800000  0.615385      5.0      A\n",
            "1    1.000000  1.000000  1.000000      5.0     AA\n",
            "2    0.857143  0.857143  0.857143      7.0     BA\n",
            "3    0.833333  0.833333  0.833333      6.0    BHA\n",
            "4    1.000000  0.833333  0.909091      6.0     BI\n",
            "5    0.833333  1.000000  0.909091      5.0    CHA\n",
            "6    1.000000  0.800000  0.888889      5.0     DA\n",
            "7    0.600000  0.500000  0.545455      6.0    DHA\n",
            "8    1.000000  1.000000  1.000000      6.0    DHO\n",
            "9    1.000000  1.000000  1.000000      6.0     DO\n",
            "10   0.857143  1.000000  0.923077      6.0      E\n",
            "11   0.666667  0.800000  0.727273      5.0     GA\n",
            "12   0.750000  0.600000  0.666667      5.0    GHA\n",
            "13   1.000000  1.000000  1.000000      6.0     HA\n",
            "14   1.000000  1.000000  1.000000      6.0     JA\n",
            "15   1.000000  1.000000  1.000000      5.0    JHA\n",
            "16   1.000000  0.800000  0.888889      5.0     KA\n",
            "17   1.000000  0.800000  0.888889      5.0    KHA\n",
            "18   1.000000  0.666667  0.800000      6.0     LA\n",
            "19   0.857143  0.857143  0.857143      7.0     MA\n",
            "20   0.750000  0.857143  0.800000      7.0     NA\n",
            "21   0.666667  0.666667  0.666667      6.0      O\n",
            "22   0.833333  0.833333  0.833333      6.0     PA\n",
            "23   1.000000  1.000000  1.000000      6.0    PHA\n",
            "24   0.833333  0.714286  0.769231      7.0     RA\n",
            "25   0.800000  0.800000  0.800000      5.0    RHA\n",
            "26   0.714286  0.833333  0.769231      6.0     SA\n",
            "27   0.625000  1.000000  0.769231      5.0   SCHA\n",
            "28   1.000000  1.000000  1.000000      5.0     TA\n",
            "29   1.000000  1.000000  1.000000      6.0    THA\n",
            "30   0.833333  0.833333  0.833333      6.0    THO\n",
            "31   0.571429  0.666667  0.615385      6.0     TO\n",
            "32   0.500000  0.166667  0.250000      6.0      U\n",
            "33   1.000000  0.833333  0.909091      6.0     UN\n",
            "34   0.333333  0.500000  0.400000      6.0      Y\n",
            "35   1.000000  1.000000  1.000000      6.0     YA\n",
            "36   1.000000  1.000000  1.000000      4.0  joint\n",
            "37   1.000000  0.800000  0.888889      5.0  space\n",
            "38   1.000000  1.000000  1.000000      5.0   stop\n"
          ]
        }
      ]
    },
    {
      "cell_type": "code",
      "source": [
        "from sklearn.metrics import precision_recall_fscore_support\n",
        "res = []\n",
        "for l in range(39):\n",
        "    prec,recall,_,_ = precision_recall_fscore_support(np.array(ground)==l,\n",
        "                                                      np.array(pred)==l,\n",
        "                                                      pos_label=True,average=None)\n",
        "    res.append([li[l],recall[0],recall[1]])"
      ],
      "metadata": {
        "id": "4zU6dBBw_Rl2"
      },
      "execution_count": null,
      "outputs": []
    },
    {
      "cell_type": "code",
      "source": [
        "specicifity=pd.DataFrame(res,columns = ['class','sensitivity','specificity'])"
      ],
      "metadata": {
        "id": "QhBHjlug_Rl3"
      },
      "execution_count": null,
      "outputs": []
    },
    {
      "cell_type": "code",
      "source": [
        "print(specicifity)"
      ],
      "metadata": {
        "colab": {
          "base_uri": "https://localhost:8080/"
        },
        "id": "FZFUQR-r_Rl4",
        "outputId": "d110e03a-be8e-4cd7-d027-fae945bbf658"
      },
      "execution_count": null,
      "outputs": [
        {
          "output_type": "stream",
          "name": "stdout",
          "text": [
            "    class  sensitivity  specificity\n",
            "0       A     0.981567     0.800000\n",
            "1      AA     1.000000     1.000000\n",
            "2      BA     0.995349     0.857143\n",
            "3     BHA     0.995370     0.833333\n",
            "4      BI     1.000000     0.833333\n",
            "5     CHA     0.995392     1.000000\n",
            "6      DA     1.000000     0.800000\n",
            "7     DHA     0.990741     0.500000\n",
            "8     DHO     1.000000     1.000000\n",
            "9      DO     1.000000     1.000000\n",
            "10      E     0.995370     1.000000\n",
            "11     GA     0.990783     0.800000\n",
            "12    GHA     0.995392     0.600000\n",
            "13     HA     1.000000     1.000000\n",
            "14     JA     1.000000     1.000000\n",
            "15    JHA     1.000000     1.000000\n",
            "16     KA     1.000000     0.800000\n",
            "17    KHA     1.000000     0.800000\n",
            "18     LA     1.000000     0.666667\n",
            "19     MA     0.995349     0.857143\n",
            "20     NA     0.990698     0.857143\n",
            "21      O     0.990741     0.666667\n",
            "22     PA     0.995370     0.833333\n",
            "23    PHA     1.000000     1.000000\n",
            "24     RA     0.995349     0.714286\n",
            "25    RHA     0.995392     0.800000\n",
            "26     SA     0.990741     0.833333\n",
            "27   SCHA     0.986175     1.000000\n",
            "28     TA     1.000000     1.000000\n",
            "29    THA     1.000000     1.000000\n",
            "30    THO     0.995370     0.833333\n",
            "31     TO     0.986111     0.666667\n",
            "32      U     0.995370     0.166667\n",
            "33     UN     1.000000     0.833333\n",
            "34      Y     0.972222     0.500000\n",
            "35     YA     1.000000     1.000000\n",
            "36  joint     1.000000     1.000000\n",
            "37  space     1.000000     0.800000\n",
            "38   stop     1.000000     1.000000\n"
          ]
        }
      ]
    },
    {
      "cell_type": "code",
      "source": [
        "v9_matrix=pd.merge(specicifity, v9_cr, on ='class')"
      ],
      "metadata": {
        "id": "SdF0RoiF_Rl4"
      },
      "execution_count": null,
      "outputs": []
    },
    {
      "cell_type": "code",
      "source": [
        "# result = pd.concat([specicifity,resnet_cr], axis=1,ignore_index=True )\n",
        "v9_matrix"
      ],
      "metadata": {
        "colab": {
          "base_uri": "https://localhost:8080/",
          "height": 1000
        },
        "id": "I6xPHrwZ_Rl4",
        "outputId": "6db44b86-5bb8-4236-b1c1-9792c7ea949f"
      },
      "execution_count": null,
      "outputs": [
        {
          "output_type": "execute_result",
          "data": {
            "text/plain": [
              "    class  sensitivity  specificity  precision    recall  f1-score  support\n",
              "0       A     0.981567     0.800000   0.500000  0.800000  0.615385      5.0\n",
              "1      AA     1.000000     1.000000   1.000000  1.000000  1.000000      5.0\n",
              "2      BA     0.995349     0.857143   0.857143  0.857143  0.857143      7.0\n",
              "3     BHA     0.995370     0.833333   0.833333  0.833333  0.833333      6.0\n",
              "4      BI     1.000000     0.833333   1.000000  0.833333  0.909091      6.0\n",
              "5     CHA     0.995392     1.000000   0.833333  1.000000  0.909091      5.0\n",
              "6      DA     1.000000     0.800000   1.000000  0.800000  0.888889      5.0\n",
              "7     DHA     0.990741     0.500000   0.600000  0.500000  0.545455      6.0\n",
              "8     DHO     1.000000     1.000000   1.000000  1.000000  1.000000      6.0\n",
              "9      DO     1.000000     1.000000   1.000000  1.000000  1.000000      6.0\n",
              "10      E     0.995370     1.000000   0.857143  1.000000  0.923077      6.0\n",
              "11     GA     0.990783     0.800000   0.666667  0.800000  0.727273      5.0\n",
              "12    GHA     0.995392     0.600000   0.750000  0.600000  0.666667      5.0\n",
              "13     HA     1.000000     1.000000   1.000000  1.000000  1.000000      6.0\n",
              "14     JA     1.000000     1.000000   1.000000  1.000000  1.000000      6.0\n",
              "15    JHA     1.000000     1.000000   1.000000  1.000000  1.000000      5.0\n",
              "16     KA     1.000000     0.800000   1.000000  0.800000  0.888889      5.0\n",
              "17    KHA     1.000000     0.800000   1.000000  0.800000  0.888889      5.0\n",
              "18     LA     1.000000     0.666667   1.000000  0.666667  0.800000      6.0\n",
              "19     MA     0.995349     0.857143   0.857143  0.857143  0.857143      7.0\n",
              "20     NA     0.990698     0.857143   0.750000  0.857143  0.800000      7.0\n",
              "21      O     0.990741     0.666667   0.666667  0.666667  0.666667      6.0\n",
              "22     PA     0.995370     0.833333   0.833333  0.833333  0.833333      6.0\n",
              "23    PHA     1.000000     1.000000   1.000000  1.000000  1.000000      6.0\n",
              "24     RA     0.995349     0.714286   0.833333  0.714286  0.769231      7.0\n",
              "25    RHA     0.995392     0.800000   0.800000  0.800000  0.800000      5.0\n",
              "26     SA     0.990741     0.833333   0.714286  0.833333  0.769231      6.0\n",
              "27   SCHA     0.986175     1.000000   0.625000  1.000000  0.769231      5.0\n",
              "28     TA     1.000000     1.000000   1.000000  1.000000  1.000000      5.0\n",
              "29    THA     1.000000     1.000000   1.000000  1.000000  1.000000      6.0\n",
              "30    THO     0.995370     0.833333   0.833333  0.833333  0.833333      6.0\n",
              "31     TO     0.986111     0.666667   0.571429  0.666667  0.615385      6.0\n",
              "32      U     0.995370     0.166667   0.500000  0.166667  0.250000      6.0\n",
              "33     UN     1.000000     0.833333   1.000000  0.833333  0.909091      6.0\n",
              "34      Y     0.972222     0.500000   0.333333  0.500000  0.400000      6.0\n",
              "35     YA     1.000000     1.000000   1.000000  1.000000  1.000000      6.0\n",
              "36  joint     1.000000     1.000000   1.000000  1.000000  1.000000      4.0\n",
              "37  space     1.000000     0.800000   1.000000  0.800000  0.888889      5.0\n",
              "38   stop     1.000000     1.000000   1.000000  1.000000  1.000000      5.0"
            ],
            "text/html": [
              "\n",
              "  <div id=\"df-d27c167b-d81a-4425-8aa8-e361151fe91b\">\n",
              "    <div class=\"colab-df-container\">\n",
              "      <div>\n",
              "<style scoped>\n",
              "    .dataframe tbody tr th:only-of-type {\n",
              "        vertical-align: middle;\n",
              "    }\n",
              "\n",
              "    .dataframe tbody tr th {\n",
              "        vertical-align: top;\n",
              "    }\n",
              "\n",
              "    .dataframe thead th {\n",
              "        text-align: right;\n",
              "    }\n",
              "</style>\n",
              "<table border=\"1\" class=\"dataframe\">\n",
              "  <thead>\n",
              "    <tr style=\"text-align: right;\">\n",
              "      <th></th>\n",
              "      <th>class</th>\n",
              "      <th>sensitivity</th>\n",
              "      <th>specificity</th>\n",
              "      <th>precision</th>\n",
              "      <th>recall</th>\n",
              "      <th>f1-score</th>\n",
              "      <th>support</th>\n",
              "    </tr>\n",
              "  </thead>\n",
              "  <tbody>\n",
              "    <tr>\n",
              "      <th>0</th>\n",
              "      <td>A</td>\n",
              "      <td>0.981567</td>\n",
              "      <td>0.800000</td>\n",
              "      <td>0.500000</td>\n",
              "      <td>0.800000</td>\n",
              "      <td>0.615385</td>\n",
              "      <td>5.0</td>\n",
              "    </tr>\n",
              "    <tr>\n",
              "      <th>1</th>\n",
              "      <td>AA</td>\n",
              "      <td>1.000000</td>\n",
              "      <td>1.000000</td>\n",
              "      <td>1.000000</td>\n",
              "      <td>1.000000</td>\n",
              "      <td>1.000000</td>\n",
              "      <td>5.0</td>\n",
              "    </tr>\n",
              "    <tr>\n",
              "      <th>2</th>\n",
              "      <td>BA</td>\n",
              "      <td>0.995349</td>\n",
              "      <td>0.857143</td>\n",
              "      <td>0.857143</td>\n",
              "      <td>0.857143</td>\n",
              "      <td>0.857143</td>\n",
              "      <td>7.0</td>\n",
              "    </tr>\n",
              "    <tr>\n",
              "      <th>3</th>\n",
              "      <td>BHA</td>\n",
              "      <td>0.995370</td>\n",
              "      <td>0.833333</td>\n",
              "      <td>0.833333</td>\n",
              "      <td>0.833333</td>\n",
              "      <td>0.833333</td>\n",
              "      <td>6.0</td>\n",
              "    </tr>\n",
              "    <tr>\n",
              "      <th>4</th>\n",
              "      <td>BI</td>\n",
              "      <td>1.000000</td>\n",
              "      <td>0.833333</td>\n",
              "      <td>1.000000</td>\n",
              "      <td>0.833333</td>\n",
              "      <td>0.909091</td>\n",
              "      <td>6.0</td>\n",
              "    </tr>\n",
              "    <tr>\n",
              "      <th>5</th>\n",
              "      <td>CHA</td>\n",
              "      <td>0.995392</td>\n",
              "      <td>1.000000</td>\n",
              "      <td>0.833333</td>\n",
              "      <td>1.000000</td>\n",
              "      <td>0.909091</td>\n",
              "      <td>5.0</td>\n",
              "    </tr>\n",
              "    <tr>\n",
              "      <th>6</th>\n",
              "      <td>DA</td>\n",
              "      <td>1.000000</td>\n",
              "      <td>0.800000</td>\n",
              "      <td>1.000000</td>\n",
              "      <td>0.800000</td>\n",
              "      <td>0.888889</td>\n",
              "      <td>5.0</td>\n",
              "    </tr>\n",
              "    <tr>\n",
              "      <th>7</th>\n",
              "      <td>DHA</td>\n",
              "      <td>0.990741</td>\n",
              "      <td>0.500000</td>\n",
              "      <td>0.600000</td>\n",
              "      <td>0.500000</td>\n",
              "      <td>0.545455</td>\n",
              "      <td>6.0</td>\n",
              "    </tr>\n",
              "    <tr>\n",
              "      <th>8</th>\n",
              "      <td>DHO</td>\n",
              "      <td>1.000000</td>\n",
              "      <td>1.000000</td>\n",
              "      <td>1.000000</td>\n",
              "      <td>1.000000</td>\n",
              "      <td>1.000000</td>\n",
              "      <td>6.0</td>\n",
              "    </tr>\n",
              "    <tr>\n",
              "      <th>9</th>\n",
              "      <td>DO</td>\n",
              "      <td>1.000000</td>\n",
              "      <td>1.000000</td>\n",
              "      <td>1.000000</td>\n",
              "      <td>1.000000</td>\n",
              "      <td>1.000000</td>\n",
              "      <td>6.0</td>\n",
              "    </tr>\n",
              "    <tr>\n",
              "      <th>10</th>\n",
              "      <td>E</td>\n",
              "      <td>0.995370</td>\n",
              "      <td>1.000000</td>\n",
              "      <td>0.857143</td>\n",
              "      <td>1.000000</td>\n",
              "      <td>0.923077</td>\n",
              "      <td>6.0</td>\n",
              "    </tr>\n",
              "    <tr>\n",
              "      <th>11</th>\n",
              "      <td>GA</td>\n",
              "      <td>0.990783</td>\n",
              "      <td>0.800000</td>\n",
              "      <td>0.666667</td>\n",
              "      <td>0.800000</td>\n",
              "      <td>0.727273</td>\n",
              "      <td>5.0</td>\n",
              "    </tr>\n",
              "    <tr>\n",
              "      <th>12</th>\n",
              "      <td>GHA</td>\n",
              "      <td>0.995392</td>\n",
              "      <td>0.600000</td>\n",
              "      <td>0.750000</td>\n",
              "      <td>0.600000</td>\n",
              "      <td>0.666667</td>\n",
              "      <td>5.0</td>\n",
              "    </tr>\n",
              "    <tr>\n",
              "      <th>13</th>\n",
              "      <td>HA</td>\n",
              "      <td>1.000000</td>\n",
              "      <td>1.000000</td>\n",
              "      <td>1.000000</td>\n",
              "      <td>1.000000</td>\n",
              "      <td>1.000000</td>\n",
              "      <td>6.0</td>\n",
              "    </tr>\n",
              "    <tr>\n",
              "      <th>14</th>\n",
              "      <td>JA</td>\n",
              "      <td>1.000000</td>\n",
              "      <td>1.000000</td>\n",
              "      <td>1.000000</td>\n",
              "      <td>1.000000</td>\n",
              "      <td>1.000000</td>\n",
              "      <td>6.0</td>\n",
              "    </tr>\n",
              "    <tr>\n",
              "      <th>15</th>\n",
              "      <td>JHA</td>\n",
              "      <td>1.000000</td>\n",
              "      <td>1.000000</td>\n",
              "      <td>1.000000</td>\n",
              "      <td>1.000000</td>\n",
              "      <td>1.000000</td>\n",
              "      <td>5.0</td>\n",
              "    </tr>\n",
              "    <tr>\n",
              "      <th>16</th>\n",
              "      <td>KA</td>\n",
              "      <td>1.000000</td>\n",
              "      <td>0.800000</td>\n",
              "      <td>1.000000</td>\n",
              "      <td>0.800000</td>\n",
              "      <td>0.888889</td>\n",
              "      <td>5.0</td>\n",
              "    </tr>\n",
              "    <tr>\n",
              "      <th>17</th>\n",
              "      <td>KHA</td>\n",
              "      <td>1.000000</td>\n",
              "      <td>0.800000</td>\n",
              "      <td>1.000000</td>\n",
              "      <td>0.800000</td>\n",
              "      <td>0.888889</td>\n",
              "      <td>5.0</td>\n",
              "    </tr>\n",
              "    <tr>\n",
              "      <th>18</th>\n",
              "      <td>LA</td>\n",
              "      <td>1.000000</td>\n",
              "      <td>0.666667</td>\n",
              "      <td>1.000000</td>\n",
              "      <td>0.666667</td>\n",
              "      <td>0.800000</td>\n",
              "      <td>6.0</td>\n",
              "    </tr>\n",
              "    <tr>\n",
              "      <th>19</th>\n",
              "      <td>MA</td>\n",
              "      <td>0.995349</td>\n",
              "      <td>0.857143</td>\n",
              "      <td>0.857143</td>\n",
              "      <td>0.857143</td>\n",
              "      <td>0.857143</td>\n",
              "      <td>7.0</td>\n",
              "    </tr>\n",
              "    <tr>\n",
              "      <th>20</th>\n",
              "      <td>NA</td>\n",
              "      <td>0.990698</td>\n",
              "      <td>0.857143</td>\n",
              "      <td>0.750000</td>\n",
              "      <td>0.857143</td>\n",
              "      <td>0.800000</td>\n",
              "      <td>7.0</td>\n",
              "    </tr>\n",
              "    <tr>\n",
              "      <th>21</th>\n",
              "      <td>O</td>\n",
              "      <td>0.990741</td>\n",
              "      <td>0.666667</td>\n",
              "      <td>0.666667</td>\n",
              "      <td>0.666667</td>\n",
              "      <td>0.666667</td>\n",
              "      <td>6.0</td>\n",
              "    </tr>\n",
              "    <tr>\n",
              "      <th>22</th>\n",
              "      <td>PA</td>\n",
              "      <td>0.995370</td>\n",
              "      <td>0.833333</td>\n",
              "      <td>0.833333</td>\n",
              "      <td>0.833333</td>\n",
              "      <td>0.833333</td>\n",
              "      <td>6.0</td>\n",
              "    </tr>\n",
              "    <tr>\n",
              "      <th>23</th>\n",
              "      <td>PHA</td>\n",
              "      <td>1.000000</td>\n",
              "      <td>1.000000</td>\n",
              "      <td>1.000000</td>\n",
              "      <td>1.000000</td>\n",
              "      <td>1.000000</td>\n",
              "      <td>6.0</td>\n",
              "    </tr>\n",
              "    <tr>\n",
              "      <th>24</th>\n",
              "      <td>RA</td>\n",
              "      <td>0.995349</td>\n",
              "      <td>0.714286</td>\n",
              "      <td>0.833333</td>\n",
              "      <td>0.714286</td>\n",
              "      <td>0.769231</td>\n",
              "      <td>7.0</td>\n",
              "    </tr>\n",
              "    <tr>\n",
              "      <th>25</th>\n",
              "      <td>RHA</td>\n",
              "      <td>0.995392</td>\n",
              "      <td>0.800000</td>\n",
              "      <td>0.800000</td>\n",
              "      <td>0.800000</td>\n",
              "      <td>0.800000</td>\n",
              "      <td>5.0</td>\n",
              "    </tr>\n",
              "    <tr>\n",
              "      <th>26</th>\n",
              "      <td>SA</td>\n",
              "      <td>0.990741</td>\n",
              "      <td>0.833333</td>\n",
              "      <td>0.714286</td>\n",
              "      <td>0.833333</td>\n",
              "      <td>0.769231</td>\n",
              "      <td>6.0</td>\n",
              "    </tr>\n",
              "    <tr>\n",
              "      <th>27</th>\n",
              "      <td>SCHA</td>\n",
              "      <td>0.986175</td>\n",
              "      <td>1.000000</td>\n",
              "      <td>0.625000</td>\n",
              "      <td>1.000000</td>\n",
              "      <td>0.769231</td>\n",
              "      <td>5.0</td>\n",
              "    </tr>\n",
              "    <tr>\n",
              "      <th>28</th>\n",
              "      <td>TA</td>\n",
              "      <td>1.000000</td>\n",
              "      <td>1.000000</td>\n",
              "      <td>1.000000</td>\n",
              "      <td>1.000000</td>\n",
              "      <td>1.000000</td>\n",
              "      <td>5.0</td>\n",
              "    </tr>\n",
              "    <tr>\n",
              "      <th>29</th>\n",
              "      <td>THA</td>\n",
              "      <td>1.000000</td>\n",
              "      <td>1.000000</td>\n",
              "      <td>1.000000</td>\n",
              "      <td>1.000000</td>\n",
              "      <td>1.000000</td>\n",
              "      <td>6.0</td>\n",
              "    </tr>\n",
              "    <tr>\n",
              "      <th>30</th>\n",
              "      <td>THO</td>\n",
              "      <td>0.995370</td>\n",
              "      <td>0.833333</td>\n",
              "      <td>0.833333</td>\n",
              "      <td>0.833333</td>\n",
              "      <td>0.833333</td>\n",
              "      <td>6.0</td>\n",
              "    </tr>\n",
              "    <tr>\n",
              "      <th>31</th>\n",
              "      <td>TO</td>\n",
              "      <td>0.986111</td>\n",
              "      <td>0.666667</td>\n",
              "      <td>0.571429</td>\n",
              "      <td>0.666667</td>\n",
              "      <td>0.615385</td>\n",
              "      <td>6.0</td>\n",
              "    </tr>\n",
              "    <tr>\n",
              "      <th>32</th>\n",
              "      <td>U</td>\n",
              "      <td>0.995370</td>\n",
              "      <td>0.166667</td>\n",
              "      <td>0.500000</td>\n",
              "      <td>0.166667</td>\n",
              "      <td>0.250000</td>\n",
              "      <td>6.0</td>\n",
              "    </tr>\n",
              "    <tr>\n",
              "      <th>33</th>\n",
              "      <td>UN</td>\n",
              "      <td>1.000000</td>\n",
              "      <td>0.833333</td>\n",
              "      <td>1.000000</td>\n",
              "      <td>0.833333</td>\n",
              "      <td>0.909091</td>\n",
              "      <td>6.0</td>\n",
              "    </tr>\n",
              "    <tr>\n",
              "      <th>34</th>\n",
              "      <td>Y</td>\n",
              "      <td>0.972222</td>\n",
              "      <td>0.500000</td>\n",
              "      <td>0.333333</td>\n",
              "      <td>0.500000</td>\n",
              "      <td>0.400000</td>\n",
              "      <td>6.0</td>\n",
              "    </tr>\n",
              "    <tr>\n",
              "      <th>35</th>\n",
              "      <td>YA</td>\n",
              "      <td>1.000000</td>\n",
              "      <td>1.000000</td>\n",
              "      <td>1.000000</td>\n",
              "      <td>1.000000</td>\n",
              "      <td>1.000000</td>\n",
              "      <td>6.0</td>\n",
              "    </tr>\n",
              "    <tr>\n",
              "      <th>36</th>\n",
              "      <td>joint</td>\n",
              "      <td>1.000000</td>\n",
              "      <td>1.000000</td>\n",
              "      <td>1.000000</td>\n",
              "      <td>1.000000</td>\n",
              "      <td>1.000000</td>\n",
              "      <td>4.0</td>\n",
              "    </tr>\n",
              "    <tr>\n",
              "      <th>37</th>\n",
              "      <td>space</td>\n",
              "      <td>1.000000</td>\n",
              "      <td>0.800000</td>\n",
              "      <td>1.000000</td>\n",
              "      <td>0.800000</td>\n",
              "      <td>0.888889</td>\n",
              "      <td>5.0</td>\n",
              "    </tr>\n",
              "    <tr>\n",
              "      <th>38</th>\n",
              "      <td>stop</td>\n",
              "      <td>1.000000</td>\n",
              "      <td>1.000000</td>\n",
              "      <td>1.000000</td>\n",
              "      <td>1.000000</td>\n",
              "      <td>1.000000</td>\n",
              "      <td>5.0</td>\n",
              "    </tr>\n",
              "  </tbody>\n",
              "</table>\n",
              "</div>\n",
              "      <button class=\"colab-df-convert\" onclick=\"convertToInteractive('df-d27c167b-d81a-4425-8aa8-e361151fe91b')\"\n",
              "              title=\"Convert this dataframe to an interactive table.\"\n",
              "              style=\"display:none;\">\n",
              "        \n",
              "  <svg xmlns=\"http://www.w3.org/2000/svg\" height=\"24px\"viewBox=\"0 0 24 24\"\n",
              "       width=\"24px\">\n",
              "    <path d=\"M0 0h24v24H0V0z\" fill=\"none\"/>\n",
              "    <path d=\"M18.56 5.44l.94 2.06.94-2.06 2.06-.94-2.06-.94-.94-2.06-.94 2.06-2.06.94zm-11 1L8.5 8.5l.94-2.06 2.06-.94-2.06-.94L8.5 2.5l-.94 2.06-2.06.94zm10 10l.94 2.06.94-2.06 2.06-.94-2.06-.94-.94-2.06-.94 2.06-2.06.94z\"/><path d=\"M17.41 7.96l-1.37-1.37c-.4-.4-.92-.59-1.43-.59-.52 0-1.04.2-1.43.59L10.3 9.45l-7.72 7.72c-.78.78-.78 2.05 0 2.83L4 21.41c.39.39.9.59 1.41.59.51 0 1.02-.2 1.41-.59l7.78-7.78 2.81-2.81c.8-.78.8-2.07 0-2.86zM5.41 20L4 18.59l7.72-7.72 1.47 1.35L5.41 20z\"/>\n",
              "  </svg>\n",
              "      </button>\n",
              "      \n",
              "  <style>\n",
              "    .colab-df-container {\n",
              "      display:flex;\n",
              "      flex-wrap:wrap;\n",
              "      gap: 12px;\n",
              "    }\n",
              "\n",
              "    .colab-df-convert {\n",
              "      background-color: #E8F0FE;\n",
              "      border: none;\n",
              "      border-radius: 50%;\n",
              "      cursor: pointer;\n",
              "      display: none;\n",
              "      fill: #1967D2;\n",
              "      height: 32px;\n",
              "      padding: 0 0 0 0;\n",
              "      width: 32px;\n",
              "    }\n",
              "\n",
              "    .colab-df-convert:hover {\n",
              "      background-color: #E2EBFA;\n",
              "      box-shadow: 0px 1px 2px rgba(60, 64, 67, 0.3), 0px 1px 3px 1px rgba(60, 64, 67, 0.15);\n",
              "      fill: #174EA6;\n",
              "    }\n",
              "\n",
              "    [theme=dark] .colab-df-convert {\n",
              "      background-color: #3B4455;\n",
              "      fill: #D2E3FC;\n",
              "    }\n",
              "\n",
              "    [theme=dark] .colab-df-convert:hover {\n",
              "      background-color: #434B5C;\n",
              "      box-shadow: 0px 1px 3px 1px rgba(0, 0, 0, 0.15);\n",
              "      filter: drop-shadow(0px 1px 2px rgba(0, 0, 0, 0.3));\n",
              "      fill: #FFFFFF;\n",
              "    }\n",
              "  </style>\n",
              "\n",
              "      <script>\n",
              "        const buttonEl =\n",
              "          document.querySelector('#df-d27c167b-d81a-4425-8aa8-e361151fe91b button.colab-df-convert');\n",
              "        buttonEl.style.display =\n",
              "          google.colab.kernel.accessAllowed ? 'block' : 'none';\n",
              "\n",
              "        async function convertToInteractive(key) {\n",
              "          const element = document.querySelector('#df-d27c167b-d81a-4425-8aa8-e361151fe91b');\n",
              "          const dataTable =\n",
              "            await google.colab.kernel.invokeFunction('convertToInteractive',\n",
              "                                                     [key], {});\n",
              "          if (!dataTable) return;\n",
              "\n",
              "          const docLinkHtml = 'Like what you see? Visit the ' +\n",
              "            '<a target=\"_blank\" href=https://colab.research.google.com/notebooks/data_table.ipynb>data table notebook</a>'\n",
              "            + ' to learn more about interactive tables.';\n",
              "          element.innerHTML = '';\n",
              "          dataTable['output_type'] = 'display_data';\n",
              "          await google.colab.output.renderOutput(dataTable, element);\n",
              "          const docLink = document.createElement('div');\n",
              "          docLink.innerHTML = docLinkHtml;\n",
              "          element.appendChild(docLink);\n",
              "        }\n",
              "      </script>\n",
              "    </div>\n",
              "  </div>\n",
              "  "
            ]
          },
          "metadata": {},
          "execution_count": 128
        }
      ]
    },
    {
      "cell_type": "code",
      "source": [
        "v9_matrix.to_csv('/content/drive/MyDrive/Thesis/model/vgg19/classification_report.csv')\n"
      ],
      "metadata": {
        "id": "NkR6iNOT_Rl4"
      },
      "execution_count": null,
      "outputs": []
    },
    {
      "cell_type": "code",
      "source": [
        "v9_rep.to_csv('/content/drive/MyDrive/Thesis/model/vgg19/acc_report.csv')"
      ],
      "metadata": {
        "id": "NRmhr5cR_Rl5"
      },
      "execution_count": null,
      "outputs": []
    },
    {
      "cell_type": "markdown",
      "source": [
        "\n",
        "#**Alexnet**"
      ],
      "metadata": {
        "id": "rg3q7pciWepN"
      }
    },
    {
      "cell_type": "code",
      "execution_count": null,
      "metadata": {
        "id": "7F2zlgW5QZCF"
      },
      "outputs": [],
      "source": [
        "# Use the Image Data Generator to import the images from the dataset\n",
        "from tensorflow.keras.preprocessing.image import ImageDataGenerator\n",
        "\n",
        "train_datagen = ImageDataGenerator(rescale = 1./255,\n",
        "                                   shear_range = 0.2,\n",
        "                                   zoom_range = 0.2)\n",
        "\n",
        "val_datagen = ImageDataGenerator(rescale = 1./255)"
      ]
    },
    {
      "cell_type": "code",
      "execution_count": null,
      "metadata": {
        "colab": {
          "base_uri": "https://localhost:8080/"
        },
        "outputId": "acc6a5b9-d21d-46b8-9527-5488b308f4a5",
        "id": "JoGFo1WNQZCI"
      },
      "outputs": [
        {
          "output_type": "stream",
          "name": "stdout",
          "text": [
            "Found 1323 images belonging to 39 classes.\n"
          ]
        }
      ],
      "source": [
        "# Make sure you provide the same target size as initialied for the image size\n",
        "training_set = train_datagen.flow_from_directory(train_path,\n",
        "                                                 target_size = (227, 227),\n",
        "                                                 batch_size = 80,\n",
        "                                                 class_mode = 'categorical')"
      ]
    },
    {
      "cell_type": "code",
      "source": [
        "len(training_set)"
      ],
      "metadata": {
        "colab": {
          "base_uri": "https://localhost:8080/"
        },
        "outputId": "72cee1f5-05a2-4537-e388-7307fab31205",
        "id": "UcAyIUpyQZCK"
      },
      "execution_count": null,
      "outputs": [
        {
          "output_type": "execute_result",
          "data": {
            "text/plain": [
              "17"
            ]
          },
          "metadata": {},
          "execution_count": 133
        }
      ]
    },
    {
      "cell_type": "code",
      "execution_count": null,
      "metadata": {
        "colab": {
          "base_uri": "https://localhost:8080/"
        },
        "outputId": "0e241fa4-4919-4e90-fa89-d86eb3984f7b",
        "id": "FLi43vU_QZCL"
      },
      "outputs": [
        {
          "output_type": "stream",
          "name": "stdout",
          "text": [
            "Found 367 images belonging to 39 classes.\n"
          ]
        }
      ],
      "source": [
        "val_set = val_datagen.flow_from_directory(valid_path,\n",
        "                                            target_size = (227, 227),\n",
        "                                            batch_size = 32,\n",
        "                                            class_mode = 'categorical')"
      ]
    },
    {
      "cell_type": "code",
      "source": [
        "len(val_set)"
      ],
      "metadata": {
        "colab": {
          "base_uri": "https://localhost:8080/"
        },
        "outputId": "0e6c0ccf-d67d-446c-88b8-1d3c9b1a89d8",
        "id": "KlXlly-PQZCM"
      },
      "execution_count": null,
      "outputs": [
        {
          "output_type": "execute_result",
          "data": {
            "text/plain": [
              "12"
            ]
          },
          "metadata": {},
          "execution_count": 135
        }
      ]
    },
    {
      "cell_type": "code",
      "execution_count": null,
      "metadata": {
        "id": "e48HNJoEQZCN"
      },
      "outputs": [],
      "source": [
        "test_datagen = ImageDataGenerator(rescale = 1./255)\n"
      ]
    },
    {
      "cell_type": "code",
      "execution_count": null,
      "metadata": {
        "colab": {
          "base_uri": "https://localhost:8080/"
        },
        "outputId": "4c545936-c629-4ebc-95c9-7342f02bff5a",
        "id": "Qp5MyO_lQZCN"
      },
      "outputs": [
        {
          "output_type": "stream",
          "name": "stdout",
          "text": [
            "Found 222 images belonging to 39 classes.\n",
            "(222, 227, 227, 3)\n",
            "(222, 39)\n"
          ]
        },
        {
          "output_type": "execute_result",
          "data": {
            "text/plain": [
              "numpy.ndarray"
            ]
          },
          "metadata": {},
          "execution_count": 162
        }
      ],
      "source": [
        "test_set = test_datagen.flow_from_directory(test_path,\n",
        "                                            target_size = (227, 227),\n",
        "                                            batch_size = 222,\n",
        "                                            class_mode = 'categorical')\n",
        "images, labels = next(test_set)\n",
        "print(images.shape)\n",
        "print(labels.shape)\n",
        "type(images)"
      ]
    },
    {
      "metadata": {
        "trusted": true,
        "scrolled": true,
        "_uuid": "af2fad01907a8eed0474eccf1eb18f9fc1a03c55",
        "colab": {
          "base_uri": "https://localhost:8080/"
        },
        "id": "c6DpR9faGaWf",
        "outputId": "12b4f361-3a68-45e5-da02-91a5f634330a"
      },
      "cell_type": "code",
      "source": [
        "# Initializing the CNN\n",
        "classifier = Sequential()\n",
        "\n",
        "# Convolution Step 1\n",
        "classifier.add(Convolution2D(96, 11, strides = (4, 4), padding = 'valid', input_shape=(227, 227, 3), activation = 'relu'))\n",
        "\n",
        "# Max Pooling Step 1\n",
        "classifier.add(MaxPooling2D(pool_size = (2, 2), strides = (2, 2), padding = 'valid'))\n",
        "classifier.add(BatchNormalization())\n",
        "\n",
        "# Convolution Step 2\n",
        "classifier.add(Convolution2D(256, 11, strides = (1, 1), padding='valid', activation = 'relu'))\n",
        "\n",
        "# Max Pooling Step 2\n",
        "classifier.add(MaxPooling2D(pool_size = (2, 2), strides = (2, 2), padding='valid'))\n",
        "classifier.add(BatchNormalization())\n",
        "\n",
        "# Convolution Step 3\n",
        "classifier.add(Convolution2D(384, 3, strides = (1, 1), padding='valid', activation = 'relu'))\n",
        "classifier.add(BatchNormalization())\n",
        "\n",
        "# Convolution Step 4\n",
        "classifier.add(Convolution2D(384, 3, strides = (1, 1), padding='valid', activation = 'relu'))\n",
        "classifier.add(BatchNormalization())\n",
        "\n",
        "# Convolution Step 5\n",
        "classifier.add(Convolution2D(256, 3, strides=(1,1), padding='valid', activation = 'relu'))\n",
        "\n",
        "# Max Pooling Step 3\n",
        "classifier.add(MaxPooling2D(pool_size = (2, 2), strides = (2, 2), padding = 'valid'))\n",
        "classifier.add(BatchNormalization())\n",
        "\n",
        "# Flattening Step\n",
        "classifier.add(Flatten())\n",
        "\n",
        "# Full Connection Step\n",
        "classifier.add(Dense(units = 4096, activation = 'relu'))\n",
        "classifier.add(Dropout(0.4))\n",
        "classifier.add(BatchNormalization())\n",
        "classifier.add(Dense(units = 4096, activation = 'relu'))\n",
        "classifier.add(Dropout(0.4))\n",
        "classifier.add(BatchNormalization())\n",
        "classifier.add(Dense(units = 1000, activation = 'relu'))\n",
        "classifier.add(Dropout(0.2))\n",
        "classifier.add(BatchNormalization())\n",
        "classifier.add(Dense(units = 39, activation = 'softmax'))\n",
        "classifier.summary()"
      ],
      "execution_count": null,
      "outputs": [
        {
          "output_type": "stream",
          "name": "stdout",
          "text": [
            "Model: \"sequential\"\n",
            "_________________________________________________________________\n",
            " Layer (type)                Output Shape              Param #   \n",
            "=================================================================\n",
            " conv2d (Conv2D)             (None, 55, 55, 96)        34944     \n",
            "                                                                 \n",
            " max_pooling2d (MaxPooling2D  (None, 27, 27, 96)       0         \n",
            " )                                                               \n",
            "                                                                 \n",
            " batch_normalization (BatchN  (None, 27, 27, 96)       384       \n",
            " ormalization)                                                   \n",
            "                                                                 \n",
            " conv2d_1 (Conv2D)           (None, 17, 17, 256)       2973952   \n",
            "                                                                 \n",
            " max_pooling2d_1 (MaxPooling  (None, 8, 8, 256)        0         \n",
            " 2D)                                                             \n",
            "                                                                 \n",
            " batch_normalization_1 (Batc  (None, 8, 8, 256)        1024      \n",
            " hNormalization)                                                 \n",
            "                                                                 \n",
            " conv2d_2 (Conv2D)           (None, 6, 6, 384)         885120    \n",
            "                                                                 \n",
            " batch_normalization_2 (Batc  (None, 6, 6, 384)        1536      \n",
            " hNormalization)                                                 \n",
            "                                                                 \n",
            " conv2d_3 (Conv2D)           (None, 4, 4, 384)         1327488   \n",
            "                                                                 \n",
            " batch_normalization_3 (Batc  (None, 4, 4, 384)        1536      \n",
            " hNormalization)                                                 \n",
            "                                                                 \n",
            " conv2d_4 (Conv2D)           (None, 2, 2, 256)         884992    \n",
            "                                                                 \n",
            " max_pooling2d_2 (MaxPooling  (None, 1, 1, 256)        0         \n",
            " 2D)                                                             \n",
            "                                                                 \n",
            " batch_normalization_4 (Batc  (None, 1, 1, 256)        1024      \n",
            " hNormalization)                                                 \n",
            "                                                                 \n",
            " flatten_3 (Flatten)         (None, 256)               0         \n",
            "                                                                 \n",
            " dense_3 (Dense)             (None, 4096)              1052672   \n",
            "                                                                 \n",
            " dropout (Dropout)           (None, 4096)              0         \n",
            "                                                                 \n",
            " batch_normalization_5 (Batc  (None, 4096)             16384     \n",
            " hNormalization)                                                 \n",
            "                                                                 \n",
            " dense_4 (Dense)             (None, 4096)              16781312  \n",
            "                                                                 \n",
            " dropout_1 (Dropout)         (None, 4096)              0         \n",
            "                                                                 \n",
            " batch_normalization_6 (Batc  (None, 4096)             16384     \n",
            " hNormalization)                                                 \n",
            "                                                                 \n",
            " dense_5 (Dense)             (None, 1000)              4097000   \n",
            "                                                                 \n",
            " dropout_2 (Dropout)         (None, 1000)              0         \n",
            "                                                                 \n",
            " batch_normalization_7 (Batc  (None, 1000)             4000      \n",
            " hNormalization)                                                 \n",
            "                                                                 \n",
            " dense_6 (Dense)             (None, 39)                39039     \n",
            "                                                                 \n",
            "=================================================================\n",
            "Total params: 28,118,791\n",
            "Trainable params: 28,097,655\n",
            "Non-trainable params: 21,136\n",
            "_________________________________________________________________\n"
          ]
        }
      ]
    },
    {
      "metadata": {
        "_uuid": "5ffa474faf670f8c35cf60ce34cf50a713543fa8",
        "id": "VYPt4wmOGaWh"
      },
      "cell_type": "markdown",
      "source": [
        "**Loading Weights To The Model**"
      ]
    },
    {
      "metadata": {
        "trusted": true,
        "_uuid": "1c7d226d8c6f531024e4fd7c9c434cd136823926",
        "id": "yalz5__nGaWi"
      },
      "cell_type": "code",
      "source": [
        "# classifier.load_weights('/content/drive/MyDrive/Thesis/model_weights/model_vgg16_5pm_3.h5')"
      ],
      "execution_count": null,
      "outputs": []
    },
    {
      "metadata": {
        "_uuid": "08217a22b90fd2d7fca2307f93d9a17fd28433fa",
        "id": "9TkEdwBIGaWk"
      },
      "cell_type": "markdown",
      "source": [
        "**Fine Tuning By Freezing Some Layers Of Our Model**"
      ]
    },
    {
      "metadata": {
        "trusted": true,
        "scrolled": true,
        "_uuid": "9fddd94297d8e9ad341304b9fae2495cd9b79725",
        "colab": {
          "base_uri": "https://localhost:8080/"
        },
        "id": "3Izk026zGaWk",
        "outputId": "7811c4e0-4979-446c-d435-d7850316a186"
      },
      "cell_type": "code",
      "source": [
        "# let's visualize layer names and layer indices to see how many layers\n",
        "# we should freeze:\n",
        "from keras import layers\n",
        "for i, layer in enumerate(classifier.layers):\n",
        "   print(i, layer.name)"
      ],
      "execution_count": null,
      "outputs": [
        {
          "output_type": "stream",
          "name": "stdout",
          "text": [
            "0 conv2d\n",
            "1 max_pooling2d\n",
            "2 batch_normalization\n",
            "3 conv2d_1\n",
            "4 max_pooling2d_1\n",
            "5 batch_normalization_1\n",
            "6 conv2d_2\n",
            "7 batch_normalization_2\n",
            "8 conv2d_3\n",
            "9 batch_normalization_3\n",
            "10 conv2d_4\n",
            "11 max_pooling2d_2\n",
            "12 batch_normalization_4\n",
            "13 flatten_3\n",
            "14 dense_3\n",
            "15 dropout\n",
            "16 batch_normalization_5\n",
            "17 dense_4\n",
            "18 dropout_1\n",
            "19 batch_normalization_6\n",
            "20 dense_5\n",
            "21 dropout_2\n",
            "22 batch_normalization_7\n",
            "23 dense_6\n"
          ]
        }
      ]
    },
    {
      "metadata": {
        "trusted": true,
        "_uuid": "086c14cae8141a28e3092d0b9bef20ff30435d6b",
        "scrolled": true,
        "colab": {
          "base_uri": "https://localhost:8080/"
        },
        "id": "pLG3_1e2GaWl",
        "outputId": "55ac5663-5b8a-4a2f-bcc3-153803863831"
      },
      "cell_type": "code",
      "source": [
        "# we chose to train the top 2 conv blocks, i.e. we will freeze\n",
        "# the first 8 layers and unfreeze the rest:\n",
        "print(\"Freezed layers:\")\n",
        "for i, layer in enumerate(classifier.layers[:20]):\n",
        "    print(i, layer.name)\n",
        "    layer.trainable = True\n"
      ],
      "execution_count": null,
      "outputs": [
        {
          "output_type": "stream",
          "name": "stdout",
          "text": [
            "Freezed layers:\n",
            "0 conv2d\n",
            "1 max_pooling2d\n",
            "2 batch_normalization\n",
            "3 conv2d_1\n",
            "4 max_pooling2d_1\n",
            "5 batch_normalization_1\n",
            "6 conv2d_2\n",
            "7 batch_normalization_2\n",
            "8 conv2d_3\n",
            "9 batch_normalization_3\n",
            "10 conv2d_4\n",
            "11 max_pooling2d_2\n",
            "12 batch_normalization_4\n",
            "13 flatten_3\n",
            "14 dense_3\n",
            "15 dropout\n",
            "16 batch_normalization_5\n",
            "17 dense_4\n",
            "18 dropout_1\n",
            "19 batch_normalization_6\n"
          ]
        }
      ]
    },
    {
      "metadata": {
        "_uuid": "4f188a43baf34e7e3385ef3d85c08dac2dd95e5a",
        "id": "bKdNW_A9GaWl"
      },
      "cell_type": "markdown",
      "source": [
        "**Model Summary After Freezing**"
      ]
    },
    {
      "metadata": {
        "trusted": true,
        "scrolled": true,
        "_uuid": "1968e72ca3ad31e10e18a7f8c8628fe8a6e51591",
        "colab": {
          "base_uri": "https://localhost:8080/"
        },
        "id": "gFv1Gd4PGaWm",
        "outputId": "0800196c-a0e2-43c5-bbf0-56de6cb706fc"
      },
      "cell_type": "code",
      "source": [
        "#trainable parameters decrease after freezing some bottom layers   \n",
        "classifier.summary()"
      ],
      "execution_count": null,
      "outputs": [
        {
          "output_type": "stream",
          "name": "stdout",
          "text": [
            "Model: \"sequential\"\n",
            "_________________________________________________________________\n",
            " Layer (type)                Output Shape              Param #   \n",
            "=================================================================\n",
            " conv2d (Conv2D)             (None, 55, 55, 96)        34944     \n",
            "                                                                 \n",
            " max_pooling2d (MaxPooling2D  (None, 27, 27, 96)       0         \n",
            " )                                                               \n",
            "                                                                 \n",
            " batch_normalization (BatchN  (None, 27, 27, 96)       384       \n",
            " ormalization)                                                   \n",
            "                                                                 \n",
            " conv2d_1 (Conv2D)           (None, 17, 17, 256)       2973952   \n",
            "                                                                 \n",
            " max_pooling2d_1 (MaxPooling  (None, 8, 8, 256)        0         \n",
            " 2D)                                                             \n",
            "                                                                 \n",
            " batch_normalization_1 (Batc  (None, 8, 8, 256)        1024      \n",
            " hNormalization)                                                 \n",
            "                                                                 \n",
            " conv2d_2 (Conv2D)           (None, 6, 6, 384)         885120    \n",
            "                                                                 \n",
            " batch_normalization_2 (Batc  (None, 6, 6, 384)        1536      \n",
            " hNormalization)                                                 \n",
            "                                                                 \n",
            " conv2d_3 (Conv2D)           (None, 4, 4, 384)         1327488   \n",
            "                                                                 \n",
            " batch_normalization_3 (Batc  (None, 4, 4, 384)        1536      \n",
            " hNormalization)                                                 \n",
            "                                                                 \n",
            " conv2d_4 (Conv2D)           (None, 2, 2, 256)         884992    \n",
            "                                                                 \n",
            " max_pooling2d_2 (MaxPooling  (None, 1, 1, 256)        0         \n",
            " 2D)                                                             \n",
            "                                                                 \n",
            " batch_normalization_4 (Batc  (None, 1, 1, 256)        1024      \n",
            " hNormalization)                                                 \n",
            "                                                                 \n",
            " flatten_3 (Flatten)         (None, 256)               0         \n",
            "                                                                 \n",
            " dense_3 (Dense)             (None, 4096)              1052672   \n",
            "                                                                 \n",
            " dropout (Dropout)           (None, 4096)              0         \n",
            "                                                                 \n",
            " batch_normalization_5 (Batc  (None, 4096)             16384     \n",
            " hNormalization)                                                 \n",
            "                                                                 \n",
            " dense_4 (Dense)             (None, 4096)              16781312  \n",
            "                                                                 \n",
            " dropout_1 (Dropout)         (None, 4096)              0         \n",
            "                                                                 \n",
            " batch_normalization_6 (Batc  (None, 4096)             16384     \n",
            " hNormalization)                                                 \n",
            "                                                                 \n",
            " dense_5 (Dense)             (None, 1000)              4097000   \n",
            "                                                                 \n",
            " dropout_2 (Dropout)         (None, 1000)              0         \n",
            "                                                                 \n",
            " batch_normalization_7 (Batc  (None, 1000)             4000      \n",
            " hNormalization)                                                 \n",
            "                                                                 \n",
            " dense_6 (Dense)             (None, 39)                39039     \n",
            "                                                                 \n",
            "=================================================================\n",
            "Total params: 28,118,791\n",
            "Trainable params: 28,097,655\n",
            "Non-trainable params: 21,136\n",
            "_________________________________________________________________\n"
          ]
        }
      ]
    },
    {
      "metadata": {
        "_uuid": "84979b7759e5b0b7b6df16b4e89973a599b828b0",
        "id": "buAdsQh9GaWm"
      },
      "cell_type": "markdown",
      "source": [
        "**Compiling the Model**"
      ]
    },
    {
      "metadata": {
        "trusted": true,
        "_uuid": "e948e04a3d87563a1f3b14ed27aefecca83f9c34",
        "id": "Vk-u0TSqGaWm"
      },
      "cell_type": "code",
      "source": [
        "# from tensorflow.keras.optimizers.optimizer_v2 import adam\n",
        "# Compiling the Model\n",
        "from tensorflow.keras import optimizers\n",
        "classifier.compile(optimizer='adam',\n",
        "              loss='categorical_crossentropy',\n",
        "              metrics=['accuracy'])"
      ],
      "execution_count": null,
      "outputs": []
    },
    {
      "metadata": {
        "trusted": true,
        "_uuid": "232d2543395e74045d5181f51b75064c2683f2fb",
        "id": "zoWrG8z_GaWo",
        "colab": {
          "base_uri": "https://localhost:8080/"
        },
        "outputId": "1888070b-1be4-4dfd-adf4-4957b0ccee69"
      },
      "cell_type": "code",
      "source": [
        "# checkpoint\n",
        "from keras.callbacks import ModelCheckpoint,EarlyStopping,CSVLogger\n",
        "# r_weightpath = \"/content/drive/MyDrive/Thesis/weights/checkpoint/res_best_weights-{epoch:02d}-{val_accuracy:.2f}.hdf5\"\n",
        "v9_weightpath = \"/content/drive/MyDrive/PAPER/alex/alex_best_weights.hdf5\"\n",
        "checkpoint = ModelCheckpoint(v9_weightpath, monitor='val_accuracy', verbose=1, save_best_only=True, save_weights_only=True, mode='max')\n",
        "# checkpoint = ModelCheckpoint(r_weightpath, monitor='val_accuracy', verbose=1, save_best_only=True,  mode='max')\n",
        "\n",
        "early_stop=EarlyStopping(monitor='val_loss',patience=10,verbose=1)\n",
        "\n",
        "log_csv=CSVLogger('/content/drive/MyDrive/PAPER/alex/alex_logs.csv',separator=',',append=False)\n",
        "\n",
        "callbacks_list = [checkpoint,early_stop,log_csv]\n",
        "\n",
        "#fitting images to CNN\n",
        "history = classifier.fit_generator(training_set,\n",
        "                         steps_per_epoch=len(training_set),\n",
        "                         validation_data=val_set,\n",
        "                         epochs=50,\n",
        "                         validation_steps=len(val_set),\n",
        "                         callbacks=callbacks_list)\n",
        "#saving model\n",
        "filepath=\"/content/drive/MyDrive/PAPER/alex/AlexNetModel.h5\"\n",
        "classifier.save(filepath)"
      ],
      "execution_count": null,
      "outputs": [
        {
          "output_type": "stream",
          "name": "stderr",
          "text": [
            "<ipython-input-146-71d45806fa7e>:15: UserWarning: `Model.fit_generator` is deprecated and will be removed in a future version. Please use `Model.fit`, which supports generators.\n",
            "  history = classifier.fit_generator(training_set,\n"
          ]
        },
        {
          "output_type": "stream",
          "name": "stdout",
          "text": [
            "Epoch 1/50\n",
            "17/17 [==============================] - ETA: 0s - loss: 4.1089 - accuracy: 0.0937\n",
            "Epoch 1: val_accuracy improved from -inf to 0.02725, saving model to /content/drive/MyDrive/PAPER/alex/alex_best_weights.hdf5\n",
            "17/17 [==============================] - 38s 2s/step - loss: 4.1089 - accuracy: 0.0937 - val_loss: 130.0572 - val_accuracy: 0.0272\n",
            "Epoch 2/50\n",
            "17/17 [==============================] - ETA: 0s - loss: 3.1448 - accuracy: 0.2116\n",
            "Epoch 2: val_accuracy improved from 0.02725 to 0.02997, saving model to /content/drive/MyDrive/PAPER/alex/alex_best_weights.hdf5\n",
            "17/17 [==============================] - 28s 2s/step - loss: 3.1448 - accuracy: 0.2116 - val_loss: 112.1887 - val_accuracy: 0.0300\n",
            "Epoch 3/50\n",
            "17/17 [==============================] - ETA: 0s - loss: 2.5187 - accuracy: 0.3122\n",
            "Epoch 3: val_accuracy did not improve from 0.02997\n",
            "17/17 [==============================] - 26s 2s/step - loss: 2.5187 - accuracy: 0.3122 - val_loss: 46.7428 - val_accuracy: 0.0300\n",
            "Epoch 4/50\n",
            "17/17 [==============================] - ETA: 0s - loss: 2.0869 - accuracy: 0.4142\n",
            "Epoch 4: val_accuracy did not improve from 0.02997\n",
            "17/17 [==============================] - 26s 2s/step - loss: 2.0869 - accuracy: 0.4142 - val_loss: 19.5571 - val_accuracy: 0.0191\n",
            "Epoch 5/50\n",
            "17/17 [==============================] - ETA: 0s - loss: 1.8378 - accuracy: 0.4482\n",
            "Epoch 5: val_accuracy improved from 0.02997 to 0.06267, saving model to /content/drive/MyDrive/PAPER/alex/alex_best_weights.hdf5\n",
            "17/17 [==============================] - 27s 2s/step - loss: 1.8378 - accuracy: 0.4482 - val_loss: 6.9158 - val_accuracy: 0.0627\n",
            "Epoch 6/50\n",
            "17/17 [==============================] - ETA: 0s - loss: 1.5640 - accuracy: 0.5329\n",
            "Epoch 6: val_accuracy improved from 0.06267 to 0.11989, saving model to /content/drive/MyDrive/PAPER/alex/alex_best_weights.hdf5\n",
            "17/17 [==============================] - 27s 2s/step - loss: 1.5640 - accuracy: 0.5329 - val_loss: 4.7327 - val_accuracy: 0.1199\n",
            "Epoch 7/50\n",
            "17/17 [==============================] - ETA: 0s - loss: 1.4365 - accuracy: 0.5518\n",
            "Epoch 7: val_accuracy did not improve from 0.11989\n",
            "17/17 [==============================] - 26s 1s/step - loss: 1.4365 - accuracy: 0.5518 - val_loss: 5.8189 - val_accuracy: 0.0599\n",
            "Epoch 8/50\n",
            "17/17 [==============================] - ETA: 0s - loss: 1.1779 - accuracy: 0.6387\n",
            "Epoch 8: val_accuracy did not improve from 0.11989\n",
            "17/17 [==============================] - 26s 2s/step - loss: 1.1779 - accuracy: 0.6387 - val_loss: 5.2632 - val_accuracy: 0.0790\n",
            "Epoch 9/50\n",
            "17/17 [==============================] - ETA: 0s - loss: 1.0437 - accuracy: 0.6689\n",
            "Epoch 9: val_accuracy improved from 0.11989 to 0.12262, saving model to /content/drive/MyDrive/PAPER/alex/alex_best_weights.hdf5\n",
            "17/17 [==============================] - 27s 2s/step - loss: 1.0437 - accuracy: 0.6689 - val_loss: 4.9303 - val_accuracy: 0.1226\n",
            "Epoch 10/50\n",
            "17/17 [==============================] - ETA: 0s - loss: 0.8968 - accuracy: 0.7143\n",
            "Epoch 10: val_accuracy improved from 0.12262 to 0.12534, saving model to /content/drive/MyDrive/PAPER/alex/alex_best_weights.hdf5\n",
            "17/17 [==============================] - 27s 2s/step - loss: 0.8968 - accuracy: 0.7143 - val_loss: 4.4087 - val_accuracy: 0.1253\n",
            "Epoch 11/50\n",
            "17/17 [==============================] - ETA: 0s - loss: 0.7839 - accuracy: 0.7339\n",
            "Epoch 11: val_accuracy improved from 0.12534 to 0.14714, saving model to /content/drive/MyDrive/PAPER/alex/alex_best_weights.hdf5\n",
            "17/17 [==============================] - 28s 2s/step - loss: 0.7839 - accuracy: 0.7339 - val_loss: 4.8469 - val_accuracy: 0.1471\n",
            "Epoch 12/50\n",
            "17/17 [==============================] - ETA: 0s - loss: 0.7569 - accuracy: 0.7506\n",
            "Epoch 12: val_accuracy improved from 0.14714 to 0.22343, saving model to /content/drive/MyDrive/PAPER/alex/alex_best_weights.hdf5\n",
            "17/17 [==============================] - 27s 2s/step - loss: 0.7569 - accuracy: 0.7506 - val_loss: 4.8785 - val_accuracy: 0.2234\n",
            "Epoch 13/50\n",
            "17/17 [==============================] - ETA: 0s - loss: 0.7144 - accuracy: 0.7634\n",
            "Epoch 13: val_accuracy did not improve from 0.22343\n",
            "17/17 [==============================] - 26s 2s/step - loss: 0.7144 - accuracy: 0.7634 - val_loss: 4.3093 - val_accuracy: 0.2207\n",
            "Epoch 14/50\n",
            "17/17 [==============================] - ETA: 0s - loss: 0.6216 - accuracy: 0.7838\n",
            "Epoch 14: val_accuracy improved from 0.22343 to 0.39782, saving model to /content/drive/MyDrive/PAPER/alex/alex_best_weights.hdf5\n",
            "17/17 [==============================] - 27s 2s/step - loss: 0.6216 - accuracy: 0.7838 - val_loss: 2.8367 - val_accuracy: 0.3978\n",
            "Epoch 15/50\n",
            "17/17 [==============================] - ETA: 0s - loss: 0.4446 - accuracy: 0.8473\n",
            "Epoch 15: val_accuracy improved from 0.39782 to 0.48229, saving model to /content/drive/MyDrive/PAPER/alex/alex_best_weights.hdf5\n",
            "17/17 [==============================] - 26s 2s/step - loss: 0.4446 - accuracy: 0.8473 - val_loss: 2.1087 - val_accuracy: 0.4823\n",
            "Epoch 16/50\n",
            "17/17 [==============================] - ETA: 0s - loss: 0.4184 - accuracy: 0.8587\n",
            "Epoch 16: val_accuracy improved from 0.48229 to 0.49319, saving model to /content/drive/MyDrive/PAPER/alex/alex_best_weights.hdf5\n",
            "17/17 [==============================] - 29s 2s/step - loss: 0.4184 - accuracy: 0.8587 - val_loss: 2.3814 - val_accuracy: 0.4932\n",
            "Epoch 17/50\n",
            "17/17 [==============================] - ETA: 0s - loss: 0.4753 - accuracy: 0.8428\n",
            "Epoch 17: val_accuracy did not improve from 0.49319\n",
            "17/17 [==============================] - 26s 2s/step - loss: 0.4753 - accuracy: 0.8428 - val_loss: 2.9952 - val_accuracy: 0.3815\n",
            "Epoch 18/50\n",
            "17/17 [==============================] - ETA: 0s - loss: 0.4878 - accuracy: 0.8420\n",
            "Epoch 18: val_accuracy did not improve from 0.49319\n",
            "17/17 [==============================] - 25s 1s/step - loss: 0.4878 - accuracy: 0.8420 - val_loss: 3.5797 - val_accuracy: 0.3569\n",
            "Epoch 19/50\n",
            "17/17 [==============================] - ETA: 0s - loss: 0.3785 - accuracy: 0.8806\n",
            "Epoch 19: val_accuracy improved from 0.49319 to 0.53678, saving model to /content/drive/MyDrive/PAPER/alex/alex_best_weights.hdf5\n",
            "17/17 [==============================] - 26s 2s/step - loss: 0.3785 - accuracy: 0.8806 - val_loss: 2.1794 - val_accuracy: 0.5368\n",
            "Epoch 20/50\n",
            "17/17 [==============================] - ETA: 0s - loss: 0.3279 - accuracy: 0.8904\n",
            "Epoch 20: val_accuracy did not improve from 0.53678\n",
            "17/17 [==============================] - 27s 2s/step - loss: 0.3279 - accuracy: 0.8904 - val_loss: 2.7814 - val_accuracy: 0.4823\n",
            "Epoch 21/50\n",
            "17/17 [==============================] - ETA: 0s - loss: 0.3809 - accuracy: 0.8768\n",
            "Epoch 21: val_accuracy did not improve from 0.53678\n",
            "17/17 [==============================] - 27s 2s/step - loss: 0.3809 - accuracy: 0.8768 - val_loss: 3.0061 - val_accuracy: 0.4605\n",
            "Epoch 22/50\n",
            "17/17 [==============================] - ETA: 0s - loss: 0.3022 - accuracy: 0.8927\n",
            "Epoch 22: val_accuracy improved from 0.53678 to 0.54223, saving model to /content/drive/MyDrive/PAPER/alex/alex_best_weights.hdf5\n",
            "17/17 [==============================] - 27s 2s/step - loss: 0.3022 - accuracy: 0.8927 - val_loss: 2.2823 - val_accuracy: 0.5422\n",
            "Epoch 23/50\n",
            "17/17 [==============================] - ETA: 0s - loss: 0.2742 - accuracy: 0.9033\n",
            "Epoch 23: val_accuracy did not improve from 0.54223\n",
            "17/17 [==============================] - 26s 2s/step - loss: 0.2742 - accuracy: 0.9033 - val_loss: 2.3369 - val_accuracy: 0.5422\n",
            "Epoch 24/50\n",
            "17/17 [==============================] - ETA: 0s - loss: 0.2716 - accuracy: 0.9123\n",
            "Epoch 24: val_accuracy improved from 0.54223 to 0.54496, saving model to /content/drive/MyDrive/PAPER/alex/alex_best_weights.hdf5\n",
            "17/17 [==============================] - 29s 2s/step - loss: 0.2716 - accuracy: 0.9123 - val_loss: 2.3127 - val_accuracy: 0.5450\n",
            "Epoch 25/50\n",
            "17/17 [==============================] - ETA: 0s - loss: 0.2253 - accuracy: 0.9289\n",
            "Epoch 25: val_accuracy did not improve from 0.54496\n",
            "17/17 [==============================] - 26s 2s/step - loss: 0.2253 - accuracy: 0.9289 - val_loss: 2.7928 - val_accuracy: 0.4605\n",
            "Epoch 25: early stopping\n"
          ]
        }
      ]
    },
    {
      "metadata": {
        "_uuid": "db1d7eecfff95a4ad80d96dee3ef45d4360486c9",
        "id": "bw9a7OaOGaWo"
      },
      "cell_type": "markdown",
      "source": [
        "**Visualising Training Progress**"
      ]
    },
    {
      "metadata": {
        "trusted": true,
        "_uuid": "9d4090ff76d659e769c6e9d5bde191b09302b098",
        "id": "Qo9lNdbAGaWo",
        "colab": {
          "base_uri": "https://localhost:8080/",
          "height": 943
        },
        "outputId": "cca17023-6f8e-475f-de7d-c6c4b2fef4ef"
      },
      "cell_type": "code",
      "source": [
        "#plotting training values\n",
        "import matplotlib.pyplot as plt\n",
        "import seaborn as sns\n",
        "sns.set()\n",
        "\n",
        "acc = history.history['accuracy']\n",
        "val_acc = history.history['val_accuracy']\n",
        "loss = history.history['loss']\n",
        "val_loss = history.history['val_loss']\n",
        "epochs = range(1, len(loss) + 1)\n",
        "\n",
        "#accuracy plot\n",
        "plt.plot(epochs, acc, color='green', label='Training Accuracy')\n",
        "plt.plot(epochs, val_acc, color='blue', label='Validation Accuracy')\n",
        "plt.title('Training and Validation Accuracy for Alexnet')\n",
        "plt.ylabel('Accuracy')\n",
        "plt.xlabel('Epoch')\n",
        "plt.legend()\n",
        "\n",
        "plt.figure()\n",
        "#loss plot\n",
        "plt.plot(epochs, loss, color='pink', label='Training Loss')\n",
        "plt.plot(epochs, val_loss, color='red', label='Validation Loss')\n",
        "plt.title('Training and Validation Loss for Alexnet')\n",
        "plt.xlabel('Epoch')\n",
        "plt.ylabel('Loss')\n",
        "plt.legend()\n",
        "\n",
        "plt.show()"
      ],
      "execution_count": null,
      "outputs": [
        {
          "output_type": "display_data",
          "data": {
            "text/plain": [
              "<Figure size 640x480 with 1 Axes>"
            ],
            "image/png": "[encoded data removed]"
          },
          "metadata": {}
        },
        {
          "output_type": "display_data",
          "data": {
            "text/plain": [
              "<Figure size 640x480 with 1 Axes>"
            ],
            "image/png": "[encoded data removed]"
          },
          "metadata": {}
        }
      ]
    },
    {
      "cell_type": "code",
      "source": [
        "from tensorflow.keras.models import load_model"
      ],
      "metadata": {
        "id": "c7EA9UEwbI_x"
      },
      "execution_count": null,
      "outputs": []
    },
    {
      "cell_type": "code",
      "source": [
        "model=load_model(\"/content/drive/MyDrive/PAPER/alex/AlexNetModel.h5\")"
      ],
      "metadata": {
        "id": "ohEbpViZUgZS"
      },
      "execution_count": null,
      "outputs": []
    },
    {
      "cell_type": "code",
      "source": [
        "from sklearn.metrics import classification_report,confusion_matrix"
      ],
      "metadata": {
        "id": "P2-mfE7DVM8O"
      },
      "execution_count": null,
      "outputs": []
    },
    {
      "cell_type": "code",
      "source": [
        "import numpy as np"
      ],
      "metadata": {
        "id": "WGGNfaox9Xtn"
      },
      "execution_count": null,
      "outputs": []
    },
    {
      "cell_type": "code",
      "source": [
        "len(ground)"
      ],
      "metadata": {
        "colab": {
          "base_uri": "https://localhost:8080/"
        },
        "id": "U45658YPbcJM",
        "outputId": "982bad2c-efc6-44ba-d5bb-50304dd6ce25"
      },
      "execution_count": null,
      "outputs": [
        {
          "output_type": "execute_result",
          "data": {
            "text/plain": [
              "222"
            ]
          },
          "metadata": {},
          "execution_count": 152
        }
      ]
    },
    {
      "cell_type": "code",
      "source": [
        "ypred = model.predict(images)\n",
        "pred=np.argmax(ypred, axis=1)\n",
        "ground = np.argmax(labels,axis=1)\n",
        "print(classification_report(ground,pred))"
      ],
      "metadata": {
        "colab": {
          "base_uri": "https://localhost:8080/"
        },
        "id": "1cZcldgPVOg3",
        "outputId": "b16b5028-f733-4493-e8a2-4f4c4ec2a80c"
      },
      "execution_count": null,
      "outputs": [
        {
          "output_type": "stream",
          "name": "stdout",
          "text": [
            "7/7 [==============================] - 1s 91ms/step\n",
            "              precision    recall  f1-score   support\n",
            "\n",
            "           0       0.50      0.40      0.44         5\n",
            "           1       0.50      0.60      0.55         5\n",
            "           2       1.00      0.29      0.44         7\n",
            "           3       0.30      0.50      0.37         6\n",
            "           4       0.42      0.83      0.56         6\n",
            "           5       0.40      0.40      0.40         5\n",
            "           6       0.33      0.80      0.47         5\n",
            "           7       0.67      0.67      0.67         6\n",
            "           8       0.67      0.33      0.44         6\n",
            "           9       0.71      0.83      0.77         6\n",
            "          10       1.00      0.50      0.67         6\n",
            "          11       0.33      0.80      0.47         5\n",
            "          12       0.50      0.20      0.29         5\n",
            "          13       1.00      0.33      0.50         6\n",
            "          14       0.12      0.50      0.20         6\n",
            "          15       0.50      0.80      0.62         5\n",
            "          16       0.62      1.00      0.77         5\n",
            "          17       0.30      0.60      0.40         5\n",
            "          18       1.00      0.17      0.29         6\n",
            "          19       1.00      0.29      0.44         7\n",
            "          20       0.57      0.57      0.57         7\n",
            "          21       0.50      0.17      0.25         6\n",
            "          22       0.00      0.00      0.00         6\n",
            "          23       1.00      0.83      0.91         6\n",
            "          24       1.00      0.43      0.60         7\n",
            "          25       0.38      0.60      0.46         5\n",
            "          26       1.00      0.33      0.50         6\n",
            "          27       0.20      0.20      0.20         5\n",
            "          28       0.60      0.60      0.60         5\n",
            "          29       0.40      0.33      0.36         6\n",
            "          30       0.40      0.33      0.36         6\n",
            "          31       1.00      0.17      0.29         6\n",
            "          32       0.20      0.33      0.25         6\n",
            "          33       0.60      0.50      0.55         6\n",
            "          34       0.33      0.17      0.22         6\n",
            "          35       0.33      0.17      0.22         6\n",
            "          36       0.60      0.75      0.67         4\n",
            "          37       0.75      0.60      0.67         5\n",
            "          38       0.60      0.60      0.60         5\n",
            "\n",
            "    accuracy                           0.46       222\n",
            "   macro avg       0.57      0.47      0.46       222\n",
            "weighted avg       0.59      0.46      0.46       222\n",
            "\n"
          ]
        },
        {
          "output_type": "stream",
          "name": "stderr",
          "text": [
            "/usr/local/lib/python3.9/dist-packages/sklearn/metrics/_classification.py:1344: UndefinedMetricWarning: Precision and F-score are ill-defined and being set to 0.0 in labels with no predicted samples. Use `zero_division` parameter to control this behavior.\n",
            "  _warn_prf(average, modifier, msg_start, len(result))\n",
            "/usr/local/lib/python3.9/dist-packages/sklearn/metrics/_classification.py:1344: UndefinedMetricWarning: Precision and F-score are ill-defined and being set to 0.0 in labels with no predicted samples. Use `zero_division` parameter to control this behavior.\n",
            "  _warn_prf(average, modifier, msg_start, len(result))\n",
            "/usr/local/lib/python3.9/dist-packages/sklearn/metrics/_classification.py:1344: UndefinedMetricWarning: Precision and F-score are ill-defined and being set to 0.0 in labels with no predicted samples. Use `zero_division` parameter to control this behavior.\n",
            "  _warn_prf(average, modifier, msg_start, len(result))\n"
          ]
        }
      ]
    },
    {
      "cell_type": "code",
      "source": [
        "cr=classification_report(ground,pred, output_dict=True)\n",
        "a_cr = pd.DataFrame(cr).transpose()"
      ],
      "metadata": {
        "colab": {
          "base_uri": "https://localhost:8080/"
        },
        "id": "UdCCgw6oOnKd",
        "outputId": "49894e43-297a-4100-cdac-064dd5c351b1"
      },
      "execution_count": null,
      "outputs": [
        {
          "output_type": "stream",
          "name": "stderr",
          "text": [
            "/usr/local/lib/python3.9/dist-packages/sklearn/metrics/_classification.py:1344: UndefinedMetricWarning: Precision and F-score are ill-defined and being set to 0.0 in labels with no predicted samples. Use `zero_division` parameter to control this behavior.\n",
            "  _warn_prf(average, modifier, msg_start, len(result))\n",
            "/usr/local/lib/python3.9/dist-packages/sklearn/metrics/_classification.py:1344: UndefinedMetricWarning: Precision and F-score are ill-defined and being set to 0.0 in labels with no predicted samples. Use `zero_division` parameter to control this behavior.\n",
            "  _warn_prf(average, modifier, msg_start, len(result))\n",
            "/usr/local/lib/python3.9/dist-packages/sklearn/metrics/_classification.py:1344: UndefinedMetricWarning: Precision and F-score are ill-defined and being set to 0.0 in labels with no predicted samples. Use `zero_division` parameter to control this behavior.\n",
            "  _warn_prf(average, modifier, msg_start, len(result))\n"
          ]
        }
      ]
    },
    {
      "cell_type": "code",
      "source": [
        "a_rep=a_cr.iloc[39:42,:]\n",
        "a_rep"
      ],
      "metadata": {
        "colab": {
          "base_uri": "https://localhost:8080/",
          "height": 143
        },
        "outputId": "ef403410-f795-4196-c176-ec5ca3d8e000",
        "id": "mvDnzvoxOnKd"
      },
      "execution_count": null,
      "outputs": [
        {
          "output_type": "execute_result",
          "data": {
            "text/plain": [
              "              precision    recall  f1-score     support\n",
              "accuracy       0.463964  0.463964  0.463964    0.463964\n",
              "macro avg      0.572924  0.474908  0.462355  222.000000\n",
              "weighted avg   0.585221  0.463964  0.459408  222.000000"
            ],
            "text/html": [
              "\n",
              "  <div id=\"df-423cc0c1-7c0a-4692-a3eb-931de93cd3b3\">\n",
              "    <div class=\"colab-df-container\">\n",
              "      <div>\n",
              "<style scoped>\n",
              "    .dataframe tbody tr th:only-of-type {\n",
              "        vertical-align: middle;\n",
              "    }\n",
              "\n",
              "    .dataframe tbody tr th {\n",
              "        vertical-align: top;\n",
              "    }\n",
              "\n",
              "    .dataframe thead th {\n",
              "        text-align: right;\n",
              "    }\n",
              "</style>\n",
              "<table border=\"1\" class=\"dataframe\">\n",
              "  <thead>\n",
              "    <tr style=\"text-align: right;\">\n",
              "      <th></th>\n",
              "      <th>precision</th>\n",
              "      <th>recall</th>\n",
              "      <th>f1-score</th>\n",
              "      <th>support</th>\n",
              "    </tr>\n",
              "  </thead>\n",
              "  <tbody>\n",
              "    <tr>\n",
              "      <th>accuracy</th>\n",
              "      <td>0.463964</td>\n",
              "      <td>0.463964</td>\n",
              "      <td>0.463964</td>\n",
              "      <td>0.463964</td>\n",
              "    </tr>\n",
              "    <tr>\n",
              "      <th>macro avg</th>\n",
              "      <td>0.572924</td>\n",
              "      <td>0.474908</td>\n",
              "      <td>0.462355</td>\n",
              "      <td>222.000000</td>\n",
              "    </tr>\n",
              "    <tr>\n",
              "      <th>weighted avg</th>\n",
              "      <td>0.585221</td>\n",
              "      <td>0.463964</td>\n",
              "      <td>0.459408</td>\n",
              "      <td>222.000000</td>\n",
              "    </tr>\n",
              "  </tbody>\n",
              "</table>\n",
              "</div>\n",
              "      <button class=\"colab-df-convert\" onclick=\"convertToInteractive('df-423cc0c1-7c0a-4692-a3eb-931de93cd3b3')\"\n",
              "              title=\"Convert this dataframe to an interactive table.\"\n",
              "              style=\"display:none;\">\n",
              "        \n",
              "  <svg xmlns=\"http://www.w3.org/2000/svg\" height=\"24px\"viewBox=\"0 0 24 24\"\n",
              "       width=\"24px\">\n",
              "    <path d=\"M0 0h24v24H0V0z\" fill=\"none\"/>\n",
              "    <path d=\"M18.56 5.44l.94 2.06.94-2.06 2.06-.94-2.06-.94-.94-2.06-.94 2.06-2.06.94zm-11 1L8.5 8.5l.94-2.06 2.06-.94-2.06-.94L8.5 2.5l-.94 2.06-2.06.94zm10 10l.94 2.06.94-2.06 2.06-.94-2.06-.94-.94-2.06-.94 2.06-2.06.94z\"/><path d=\"M17.41 7.96l-1.37-1.37c-.4-.4-.92-.59-1.43-.59-.52 0-1.04.2-1.43.59L10.3 9.45l-7.72 7.72c-.78.78-.78 2.05 0 2.83L4 21.41c.39.39.9.59 1.41.59.51 0 1.02-.2 1.41-.59l7.78-7.78 2.81-2.81c.8-.78.8-2.07 0-2.86zM5.41 20L4 18.59l7.72-7.72 1.47 1.35L5.41 20z\"/>\n",
              "  </svg>\n",
              "      </button>\n",
              "      \n",
              "  <style>\n",
              "    .colab-df-container {\n",
              "      display:flex;\n",
              "      flex-wrap:wrap;\n",
              "      gap: 12px;\n",
              "    }\n",
              "\n",
              "    .colab-df-convert {\n",
              "      background-color: #E8F0FE;\n",
              "      border: none;\n",
              "      border-radius: 50%;\n",
              "      cursor: pointer;\n",
              "      display: none;\n",
              "      fill: #1967D2;\n",
              "      height: 32px;\n",
              "      padding: 0 0 0 0;\n",
              "      width: 32px;\n",
              "    }\n",
              "\n",
              "    .colab-df-convert:hover {\n",
              "      background-color: #E2EBFA;\n",
              "      box-shadow: 0px 1px 2px rgba(60, 64, 67, 0.3), 0px 1px 3px 1px rgba(60, 64, 67, 0.15);\n",
              "      fill: #174EA6;\n",
              "    }\n",
              "\n",
              "    [theme=dark] .colab-df-convert {\n",
              "      background-color: #3B4455;\n",
              "      fill: #D2E3FC;\n",
              "    }\n",
              "\n",
              "    [theme=dark] .colab-df-convert:hover {\n",
              "      background-color: #434B5C;\n",
              "      box-shadow: 0px 1px 3px 1px rgba(0, 0, 0, 0.15);\n",
              "      filter: drop-shadow(0px 1px 2px rgba(0, 0, 0, 0.3));\n",
              "      fill: #FFFFFF;\n",
              "    }\n",
              "  </style>\n",
              "\n",
              "      <script>\n",
              "        const buttonEl =\n",
              "          document.querySelector('#df-423cc0c1-7c0a-4692-a3eb-931de93cd3b3 button.colab-df-convert');\n",
              "        buttonEl.style.display =\n",
              "          google.colab.kernel.accessAllowed ? 'block' : 'none';\n",
              "\n",
              "        async function convertToInteractive(key) {\n",
              "          const element = document.querySelector('#df-423cc0c1-7c0a-4692-a3eb-931de93cd3b3');\n",
              "          const dataTable =\n",
              "            await google.colab.kernel.invokeFunction('convertToInteractive',\n",
              "                                                     [key], {});\n",
              "          if (!dataTable) return;\n",
              "\n",
              "          const docLinkHtml = 'Like what you see? Visit the ' +\n",
              "            '<a target=\"_blank\" href=https://colab.research.google.com/notebooks/data_table.ipynb>data table notebook</a>'\n",
              "            + ' to learn more about interactive tables.';\n",
              "          element.innerHTML = '';\n",
              "          dataTable['output_type'] = 'display_data';\n",
              "          await google.colab.output.renderOutput(dataTable, element);\n",
              "          const docLink = document.createElement('div');\n",
              "          docLink.innerHTML = docLinkHtml;\n",
              "          element.appendChild(docLink);\n",
              "        }\n",
              "      </script>\n",
              "    </div>\n",
              "  </div>\n",
              "  "
            ]
          },
          "metadata": {},
          "execution_count": 173
        }
      ]
    },
    {
      "cell_type": "code",
      "source": [
        "a_cr=a_cr.iloc[0:39,:]"
      ],
      "metadata": {
        "id": "DA5QTtw1OnKd"
      },
      "execution_count": null,
      "outputs": []
    },
    {
      "cell_type": "code",
      "source": [
        "a_cr['class']=li"
      ],
      "metadata": {
        "id": "xWPz3e5jOnKe"
      },
      "execution_count": null,
      "outputs": []
    },
    {
      "cell_type": "code",
      "source": [
        "print(a_cr)"
      ],
      "metadata": {
        "colab": {
          "base_uri": "https://localhost:8080/"
        },
        "outputId": "6f5c35e9-a804-4abd-a177-84ea9edf07c3",
        "id": "TKHvbhJZOnKe"
      },
      "execution_count": null,
      "outputs": [
        {
          "output_type": "stream",
          "name": "stdout",
          "text": [
            "    precision    recall  f1-score  support  class\n",
            "0    0.500000  0.400000  0.444444      5.0      A\n",
            "1    0.500000  0.600000  0.545455      5.0     AA\n",
            "2    1.000000  0.285714  0.444444      7.0     BA\n",
            "3    0.300000  0.500000  0.375000      6.0    BHA\n",
            "4    0.416667  0.833333  0.555556      6.0     BI\n",
            "5    0.400000  0.400000  0.400000      5.0    CHA\n",
            "6    0.333333  0.800000  0.470588      5.0     DA\n",
            "7    0.666667  0.666667  0.666667      6.0    DHA\n",
            "8    0.666667  0.333333  0.444444      6.0    DHO\n",
            "9    0.714286  0.833333  0.769231      6.0     DO\n",
            "10   1.000000  0.500000  0.666667      6.0      E\n",
            "11   0.333333  0.800000  0.470588      5.0     GA\n",
            "12   0.500000  0.200000  0.285714      5.0    GHA\n",
            "13   1.000000  0.333333  0.500000      6.0     HA\n",
            "14   0.125000  0.500000  0.200000      6.0     JA\n",
            "15   0.500000  0.800000  0.615385      5.0    JHA\n",
            "16   0.625000  1.000000  0.769231      5.0     KA\n",
            "17   0.300000  0.600000  0.400000      5.0    KHA\n",
            "18   1.000000  0.166667  0.285714      6.0     LA\n",
            "19   1.000000  0.285714  0.444444      7.0     MA\n",
            "20   0.571429  0.571429  0.571429      7.0     NA\n",
            "21   0.500000  0.166667  0.250000      6.0      O\n",
            "22   0.000000  0.000000  0.000000      6.0     PA\n",
            "23   1.000000  0.833333  0.909091      6.0    PHA\n",
            "24   1.000000  0.428571  0.600000      7.0     RA\n",
            "25   0.375000  0.600000  0.461538      5.0    RHA\n",
            "26   1.000000  0.333333  0.500000      6.0     SA\n",
            "27   0.200000  0.200000  0.200000      5.0   SCHA\n",
            "28   0.600000  0.600000  0.600000      5.0     TA\n",
            "29   0.400000  0.333333  0.363636      6.0    THA\n",
            "30   0.400000  0.333333  0.363636      6.0    THO\n",
            "31   1.000000  0.166667  0.285714      6.0     TO\n",
            "32   0.200000  0.333333  0.250000      6.0      U\n",
            "33   0.600000  0.500000  0.545455      6.0     UN\n",
            "34   0.333333  0.166667  0.222222      6.0      Y\n",
            "35   0.333333  0.166667  0.222222      6.0     YA\n",
            "36   0.600000  0.750000  0.666667      4.0  joint\n",
            "37   0.750000  0.600000  0.666667      5.0  space\n",
            "38   0.600000  0.600000  0.600000      5.0   stop\n"
          ]
        }
      ]
    },
    {
      "cell_type": "code",
      "source": [
        "from sklearn.metrics import precision_recall_fscore_support\n",
        "res = []\n",
        "for l in range(39):\n",
        "    prec,recall,_,_ = precision_recall_fscore_support(np.array(ground)==l,\n",
        "                                                      np.array(pred)==l,\n",
        "                                                      pos_label=True,average=None)\n",
        "    res.append([li[l],recall[0],recall[1]])"
      ],
      "metadata": {
        "id": "Zg70QRnUOnKe",
        "colab": {
          "base_uri": "https://localhost:8080/"
        },
        "outputId": "e696e4fb-cd52-406a-f34b-2aeac14f6836"
      },
      "execution_count": null,
      "outputs": [
        {
          "output_type": "stream",
          "name": "stderr",
          "text": [
            "/usr/local/lib/python3.9/dist-packages/sklearn/metrics/_classification.py:1344: UndefinedMetricWarning: Precision and F-score are ill-defined and being set to 0.0 in labels with no predicted samples. Use `zero_division` parameter to control this behavior.\n",
            "  _warn_prf(average, modifier, msg_start, len(result))\n"
          ]
        }
      ]
    },
    {
      "cell_type": "code",
      "source": [
        "specicifity=pd.DataFrame(res,columns = ['class','sensitivity','specificity'])"
      ],
      "metadata": {
        "id": "zJmgi-eHOnKe"
      },
      "execution_count": null,
      "outputs": []
    },
    {
      "cell_type": "code",
      "source": [
        "print(specicifity)"
      ],
      "metadata": {
        "id": "Wcfz1lBPOnKe",
        "colab": {
          "base_uri": "https://localhost:8080/"
        },
        "outputId": "06b61bcb-03c5-4653-92a2-4eb9e9ccccb0"
      },
      "execution_count": null,
      "outputs": [
        {
          "output_type": "stream",
          "name": "stdout",
          "text": [
            "    class  sensitivity  specificity\n",
            "0       A     0.990783     0.400000\n",
            "1      AA     0.986175     0.600000\n",
            "2      BA     1.000000     0.285714\n",
            "3     BHA     0.967593     0.500000\n",
            "4      BI     0.967593     0.833333\n",
            "5     CHA     0.986175     0.400000\n",
            "6      DA     0.963134     0.800000\n",
            "7     DHA     0.990741     0.666667\n",
            "8     DHO     0.995370     0.333333\n",
            "9      DO     0.990741     0.833333\n",
            "10      E     1.000000     0.500000\n",
            "11     GA     0.963134     0.800000\n",
            "12    GHA     0.995392     0.200000\n",
            "13     HA     1.000000     0.333333\n",
            "14     JA     0.902778     0.500000\n",
            "15    JHA     0.981567     0.800000\n",
            "16     KA     0.986175     1.000000\n",
            "17    KHA     0.967742     0.600000\n",
            "18     LA     1.000000     0.166667\n",
            "19     MA     1.000000     0.285714\n",
            "20     NA     0.986047     0.571429\n",
            "21      O     0.995370     0.166667\n",
            "22     PA     1.000000     0.000000\n",
            "23    PHA     1.000000     0.833333\n",
            "24     RA     1.000000     0.428571\n",
            "25    RHA     0.976959     0.600000\n",
            "26     SA     1.000000     0.333333\n",
            "27   SCHA     0.981567     0.200000\n",
            "28     TA     0.990783     0.600000\n",
            "29    THA     0.986111     0.333333\n",
            "30    THO     0.986111     0.333333\n",
            "31     TO     1.000000     0.166667\n",
            "32      U     0.962963     0.333333\n",
            "33     UN     0.990741     0.500000\n",
            "34      Y     0.990741     0.166667\n",
            "35     YA     0.990741     0.166667\n",
            "36  joint     0.990826     0.750000\n",
            "37  space     0.995392     0.600000\n",
            "38   stop     0.990783     0.600000\n"
          ]
        }
      ]
    },
    {
      "cell_type": "code",
      "source": [
        "a_matrix=pd.merge(specicifity, a_cr, on ='class')"
      ],
      "metadata": {
        "id": "YVtap-DdOnKe"
      },
      "execution_count": null,
      "outputs": []
    },
    {
      "cell_type": "code",
      "source": [
        "# result = pd.concat([specicifity,resnet_cr], axis=1,ignore_index=True )\n",
        "a_matrix"
      ],
      "metadata": {
        "id": "wZg0NIJ-OnKf",
        "colab": {
          "base_uri": "https://localhost:8080/",
          "height": 1000
        },
        "outputId": "6b2316db-e9c9-4b83-dd1d-ad2cff35d86e"
      },
      "execution_count": null,
      "outputs": [
        {
          "output_type": "execute_result",
          "data": {
            "text/plain": [
              "    class  sensitivity  specificity  precision    recall  f1-score  support\n",
              "0       A     0.990783     0.400000   0.500000  0.400000  0.444444      5.0\n",
              "1      AA     0.986175     0.600000   0.500000  0.600000  0.545455      5.0\n",
              "2      BA     1.000000     0.285714   1.000000  0.285714  0.444444      7.0\n",
              "3     BHA     0.967593     0.500000   0.300000  0.500000  0.375000      6.0\n",
              "4      BI     0.967593     0.833333   0.416667  0.833333  0.555556      6.0\n",
              "5     CHA     0.986175     0.400000   0.400000  0.400000  0.400000      5.0\n",
              "6      DA     0.963134     0.800000   0.333333  0.800000  0.470588      5.0\n",
              "7     DHA     0.990741     0.666667   0.666667  0.666667  0.666667      6.0\n",
              "8     DHO     0.995370     0.333333   0.666667  0.333333  0.444444      6.0\n",
              "9      DO     0.990741     0.833333   0.714286  0.833333  0.769231      6.0\n",
              "10      E     1.000000     0.500000   1.000000  0.500000  0.666667      6.0\n",
              "11     GA     0.963134     0.800000   0.333333  0.800000  0.470588      5.0\n",
              "12    GHA     0.995392     0.200000   0.500000  0.200000  0.285714      5.0\n",
              "13     HA     1.000000     0.333333   1.000000  0.333333  0.500000      6.0\n",
              "14     JA     0.902778     0.500000   0.125000  0.500000  0.200000      6.0\n",
              "15    JHA     0.981567     0.800000   0.500000  0.800000  0.615385      5.0\n",
              "16     KA     0.986175     1.000000   0.625000  1.000000  0.769231      5.0\n",
              "17    KHA     0.967742     0.600000   0.300000  0.600000  0.400000      5.0\n",
              "18     LA     1.000000     0.166667   1.000000  0.166667  0.285714      6.0\n",
              "19     MA     1.000000     0.285714   1.000000  0.285714  0.444444      7.0\n",
              "20     NA     0.986047     0.571429   0.571429  0.571429  0.571429      7.0\n",
              "21      O     0.995370     0.166667   0.500000  0.166667  0.250000      6.0\n",
              "22     PA     1.000000     0.000000   0.000000  0.000000  0.000000      6.0\n",
              "23    PHA     1.000000     0.833333   1.000000  0.833333  0.909091      6.0\n",
              "24     RA     1.000000     0.428571   1.000000  0.428571  0.600000      7.0\n",
              "25    RHA     0.976959     0.600000   0.375000  0.600000  0.461538      5.0\n",
              "26     SA     1.000000     0.333333   1.000000  0.333333  0.500000      6.0\n",
              "27   SCHA     0.981567     0.200000   0.200000  0.200000  0.200000      5.0\n",
              "28     TA     0.990783     0.600000   0.600000  0.600000  0.600000      5.0\n",
              "29    THA     0.986111     0.333333   0.400000  0.333333  0.363636      6.0\n",
              "30    THO     0.986111     0.333333   0.400000  0.333333  0.363636      6.0\n",
              "31     TO     1.000000     0.166667   1.000000  0.166667  0.285714      6.0\n",
              "32      U     0.962963     0.333333   0.200000  0.333333  0.250000      6.0\n",
              "33     UN     0.990741     0.500000   0.600000  0.500000  0.545455      6.0\n",
              "34      Y     0.990741     0.166667   0.333333  0.166667  0.222222      6.0\n",
              "35     YA     0.990741     0.166667   0.333333  0.166667  0.222222      6.0\n",
              "36  joint     0.990826     0.750000   0.600000  0.750000  0.666667      4.0\n",
              "37  space     0.995392     0.600000   0.750000  0.600000  0.666667      5.0\n",
              "38   stop     0.990783     0.600000   0.600000  0.600000  0.600000      5.0"
            ],
            "text/html": [
              "\n",
              "  <div id=\"df-85e62480-5c2f-478b-be87-c7e418376f4d\">\n",
              "    <div class=\"colab-df-container\">\n",
              "      <div>\n",
              "<style scoped>\n",
              "    .dataframe tbody tr th:only-of-type {\n",
              "        vertical-align: middle;\n",
              "    }\n",
              "\n",
              "    .dataframe tbody tr th {\n",
              "        vertical-align: top;\n",
              "    }\n",
              "\n",
              "    .dataframe thead th {\n",
              "        text-align: right;\n",
              "    }\n",
              "</style>\n",
              "<table border=\"1\" class=\"dataframe\">\n",
              "  <thead>\n",
              "    <tr style=\"text-align: right;\">\n",
              "      <th></th>\n",
              "      <th>class</th>\n",
              "      <th>sensitivity</th>\n",
              "      <th>specificity</th>\n",
              "      <th>precision</th>\n",
              "      <th>recall</th>\n",
              "      <th>f1-score</th>\n",
              "      <th>support</th>\n",
              "    </tr>\n",
              "  </thead>\n",
              "  <tbody>\n",
              "    <tr>\n",
              "      <th>0</th>\n",
              "      <td>A</td>\n",
              "      <td>0.990783</td>\n",
              "      <td>0.400000</td>\n",
              "      <td>0.500000</td>\n",
              "      <td>0.400000</td>\n",
              "      <td>0.444444</td>\n",
              "      <td>5.0</td>\n",
              "    </tr>\n",
              "    <tr>\n",
              "      <th>1</th>\n",
              "      <td>AA</td>\n",
              "      <td>0.986175</td>\n",
              "      <td>0.600000</td>\n",
              "      <td>0.500000</td>\n",
              "      <td>0.600000</td>\n",
              "      <td>0.545455</td>\n",
              "      <td>5.0</td>\n",
              "    </tr>\n",
              "    <tr>\n",
              "      <th>2</th>\n",
              "      <td>BA</td>\n",
              "      <td>1.000000</td>\n",
              "      <td>0.285714</td>\n",
              "      <td>1.000000</td>\n",
              "      <td>0.285714</td>\n",
              "      <td>0.444444</td>\n",
              "      <td>7.0</td>\n",
              "    </tr>\n",
              "    <tr>\n",
              "      <th>3</th>\n",
              "      <td>BHA</td>\n",
              "      <td>0.967593</td>\n",
              "      <td>0.500000</td>\n",
              "      <td>0.300000</td>\n",
              "      <td>0.500000</td>\n",
              "      <td>0.375000</td>\n",
              "      <td>6.0</td>\n",
              "    </tr>\n",
              "    <tr>\n",
              "      <th>4</th>\n",
              "      <td>BI</td>\n",
              "      <td>0.967593</td>\n",
              "      <td>0.833333</td>\n",
              "      <td>0.416667</td>\n",
              "      <td>0.833333</td>\n",
              "      <td>0.555556</td>\n",
              "      <td>6.0</td>\n",
              "    </tr>\n",
              "    <tr>\n",
              "      <th>5</th>\n",
              "      <td>CHA</td>\n",
              "      <td>0.986175</td>\n",
              "      <td>0.400000</td>\n",
              "      <td>0.400000</td>\n",
              "      <td>0.400000</td>\n",
              "      <td>0.400000</td>\n",
              "      <td>5.0</td>\n",
              "    </tr>\n",
              "    <tr>\n",
              "      <th>6</th>\n",
              "      <td>DA</td>\n",
              "      <td>0.963134</td>\n",
              "      <td>0.800000</td>\n",
              "      <td>0.333333</td>\n",
              "      <td>0.800000</td>\n",
              "      <td>0.470588</td>\n",
              "      <td>5.0</td>\n",
              "    </tr>\n",
              "    <tr>\n",
              "      <th>7</th>\n",
              "      <td>DHA</td>\n",
              "      <td>0.990741</td>\n",
              "      <td>0.666667</td>\n",
              "      <td>0.666667</td>\n",
              "      <td>0.666667</td>\n",
              "      <td>0.666667</td>\n",
              "      <td>6.0</td>\n",
              "    </tr>\n",
              "    <tr>\n",
              "      <th>8</th>\n",
              "      <td>DHO</td>\n",
              "      <td>0.995370</td>\n",
              "      <td>0.333333</td>\n",
              "      <td>0.666667</td>\n",
              "      <td>0.333333</td>\n",
              "      <td>0.444444</td>\n",
              "      <td>6.0</td>\n",
              "    </tr>\n",
              "    <tr>\n",
              "      <th>9</th>\n",
              "      <td>DO</td>\n",
              "      <td>0.990741</td>\n",
              "      <td>0.833333</td>\n",
              "      <td>0.714286</td>\n",
              "      <td>0.833333</td>\n",
              "      <td>0.769231</td>\n",
              "      <td>6.0</td>\n",
              "    </tr>\n",
              "    <tr>\n",
              "      <th>10</th>\n",
              "      <td>E</td>\n",
              "      <td>1.000000</td>\n",
              "      <td>0.500000</td>\n",
              "      <td>1.000000</td>\n",
              "      <td>0.500000</td>\n",
              "      <td>0.666667</td>\n",
              "      <td>6.0</td>\n",
              "    </tr>\n",
              "    <tr>\n",
              "      <th>11</th>\n",
              "      <td>GA</td>\n",
              "      <td>0.963134</td>\n",
              "      <td>0.800000</td>\n",
              "      <td>0.333333</td>\n",
              "      <td>0.800000</td>\n",
              "      <td>0.470588</td>\n",
              "      <td>5.0</td>\n",
              "    </tr>\n",
              "    <tr>\n",
              "      <th>12</th>\n",
              "      <td>GHA</td>\n",
              "      <td>0.995392</td>\n",
              "      <td>0.200000</td>\n",
              "      <td>0.500000</td>\n",
              "      <td>0.200000</td>\n",
              "      <td>0.285714</td>\n",
              "      <td>5.0</td>\n",
              "    </tr>\n",
              "    <tr>\n",
              "      <th>13</th>\n",
              "      <td>HA</td>\n",
              "      <td>1.000000</td>\n",
              "      <td>0.333333</td>\n",
              "      <td>1.000000</td>\n",
              "      <td>0.333333</td>\n",
              "      <td>0.500000</td>\n",
              "      <td>6.0</td>\n",
              "    </tr>\n",
              "    <tr>\n",
              "      <th>14</th>\n",
              "      <td>JA</td>\n",
              "      <td>0.902778</td>\n",
              "      <td>0.500000</td>\n",
              "      <td>0.125000</td>\n",
              "      <td>0.500000</td>\n",
              "      <td>0.200000</td>\n",
              "      <td>6.0</td>\n",
              "    </tr>\n",
              "    <tr>\n",
              "      <th>15</th>\n",
              "      <td>JHA</td>\n",
              "      <td>0.981567</td>\n",
              "      <td>0.800000</td>\n",
              "      <td>0.500000</td>\n",
              "      <td>0.800000</td>\n",
              "      <td>0.615385</td>\n",
              "      <td>5.0</td>\n",
              "    </tr>\n",
              "    <tr>\n",
              "      <th>16</th>\n",
              "      <td>KA</td>\n",
              "      <td>0.986175</td>\n",
              "      <td>1.000000</td>\n",
              "      <td>0.625000</td>\n",
              "      <td>1.000000</td>\n",
              "      <td>0.769231</td>\n",
              "      <td>5.0</td>\n",
              "    </tr>\n",
              "    <tr>\n",
              "      <th>17</th>\n",
              "      <td>KHA</td>\n",
              "      <td>0.967742</td>\n",
              "      <td>0.600000</td>\n",
              "      <td>0.300000</td>\n",
              "      <td>0.600000</td>\n",
              "      <td>0.400000</td>\n",
              "      <td>5.0</td>\n",
              "    </tr>\n",
              "    <tr>\n",
              "      <th>18</th>\n",
              "      <td>LA</td>\n",
              "      <td>1.000000</td>\n",
              "      <td>0.166667</td>\n",
              "      <td>1.000000</td>\n",
              "      <td>0.166667</td>\n",
              "      <td>0.285714</td>\n",
              "      <td>6.0</td>\n",
              "    </tr>\n",
              "    <tr>\n",
              "      <th>19</th>\n",
              "      <td>MA</td>\n",
              "      <td>1.000000</td>\n",
              "      <td>0.285714</td>\n",
              "      <td>1.000000</td>\n",
              "      <td>0.285714</td>\n",
              "      <td>0.444444</td>\n",
              "      <td>7.0</td>\n",
              "    </tr>\n",
              "    <tr>\n",
              "      <th>20</th>\n",
              "      <td>NA</td>\n",
              "      <td>0.986047</td>\n",
              "      <td>0.571429</td>\n",
              "      <td>0.571429</td>\n",
              "      <td>0.571429</td>\n",
              "      <td>0.571429</td>\n",
              "      <td>7.0</td>\n",
              "    </tr>\n",
              "    <tr>\n",
              "      <th>21</th>\n",
              "      <td>O</td>\n",
              "      <td>0.995370</td>\n",
              "      <td>0.166667</td>\n",
              "      <td>0.500000</td>\n",
              "      <td>0.166667</td>\n",
              "      <td>0.250000</td>\n",
              "      <td>6.0</td>\n",
              "    </tr>\n",
              "    <tr>\n",
              "      <th>22</th>\n",
              "      <td>PA</td>\n",
              "      <td>1.000000</td>\n",
              "      <td>0.000000</td>\n",
              "      <td>0.000000</td>\n",
              "      <td>0.000000</td>\n",
              "      <td>0.000000</td>\n",
              "      <td>6.0</td>\n",
              "    </tr>\n",
              "    <tr>\n",
              "      <th>23</th>\n",
              "      <td>PHA</td>\n",
              "      <td>1.000000</td>\n",
              "      <td>0.833333</td>\n",
              "      <td>1.000000</td>\n",
              "      <td>0.833333</td>\n",
              "      <td>0.909091</td>\n",
              "      <td>6.0</td>\n",
              "    </tr>\n",
              "    <tr>\n",
              "      <th>24</th>\n",
              "      <td>RA</td>\n",
              "      <td>1.000000</td>\n",
              "      <td>0.428571</td>\n",
              "      <td>1.000000</td>\n",
              "      <td>0.428571</td>\n",
              "      <td>0.600000</td>\n",
              "      <td>7.0</td>\n",
              "    </tr>\n",
              "    <tr>\n",
              "      <th>25</th>\n",
              "      <td>RHA</td>\n",
              "      <td>0.976959</td>\n",
              "      <td>0.600000</td>\n",
              "      <td>0.375000</td>\n",
              "      <td>0.600000</td>\n",
              "      <td>0.461538</td>\n",
              "      <td>5.0</td>\n",
              "    </tr>\n",
              "    <tr>\n",
              "      <th>26</th>\n",
              "      <td>SA</td>\n",
              "      <td>1.000000</td>\n",
              "      <td>0.333333</td>\n",
              "      <td>1.000000</td>\n",
              "      <td>0.333333</td>\n",
              "      <td>0.500000</td>\n",
              "      <td>6.0</td>\n",
              "    </tr>\n",
              "    <tr>\n",
              "      <th>27</th>\n",
              "      <td>SCHA</td>\n",
              "      <td>0.981567</td>\n",
              "      <td>0.200000</td>\n",
              "      <td>0.200000</td>\n",
              "      <td>0.200000</td>\n",
              "      <td>0.200000</td>\n",
              "      <td>5.0</td>\n",
              "    </tr>\n",
              "    <tr>\n",
              "      <th>28</th>\n",
              "      <td>TA</td>\n",
              "      <td>0.990783</td>\n",
              "      <td>0.600000</td>\n",
              "      <td>0.600000</td>\n",
              "      <td>0.600000</td>\n",
              "      <td>0.600000</td>\n",
              "      <td>5.0</td>\n",
              "    </tr>\n",
              "    <tr>\n",
              "      <th>29</th>\n",
              "      <td>THA</td>\n",
              "      <td>0.986111</td>\n",
              "      <td>0.333333</td>\n",
              "      <td>0.400000</td>\n",
              "      <td>0.333333</td>\n",
              "      <td>0.363636</td>\n",
              "      <td>6.0</td>\n",
              "    </tr>\n",
              "    <tr>\n",
              "      <th>30</th>\n",
              "      <td>THO</td>\n",
              "      <td>0.986111</td>\n",
              "      <td>0.333333</td>\n",
              "      <td>0.400000</td>\n",
              "      <td>0.333333</td>\n",
              "      <td>0.363636</td>\n",
              "      <td>6.0</td>\n",
              "    </tr>\n",
              "    <tr>\n",
              "      <th>31</th>\n",
              "      <td>TO</td>\n",
              "      <td>1.000000</td>\n",
              "      <td>0.166667</td>\n",
              "      <td>1.000000</td>\n",
              "      <td>0.166667</td>\n",
              "      <td>0.285714</td>\n",
              "      <td>6.0</td>\n",
              "    </tr>\n",
              "    <tr>\n",
              "      <th>32</th>\n",
              "      <td>U</td>\n",
              "      <td>0.962963</td>\n",
              "      <td>0.333333</td>\n",
              "      <td>0.200000</td>\n",
              "      <td>0.333333</td>\n",
              "      <td>0.250000</td>\n",
              "      <td>6.0</td>\n",
              "    </tr>\n",
              "    <tr>\n",
              "      <th>33</th>\n",
              "      <td>UN</td>\n",
              "      <td>0.990741</td>\n",
              "      <td>0.500000</td>\n",
              "      <td>0.600000</td>\n",
              "      <td>0.500000</td>\n",
              "      <td>0.545455</td>\n",
              "      <td>6.0</td>\n",
              "    </tr>\n",
              "    <tr>\n",
              "      <th>34</th>\n",
              "      <td>Y</td>\n",
              "      <td>0.990741</td>\n",
              "      <td>0.166667</td>\n",
              "      <td>0.333333</td>\n",
              "      <td>0.166667</td>\n",
              "      <td>0.222222</td>\n",
              "      <td>6.0</td>\n",
              "    </tr>\n",
              "    <tr>\n",
              "      <th>35</th>\n",
              "      <td>YA</td>\n",
              "      <td>0.990741</td>\n",
              "      <td>0.166667</td>\n",
              "      <td>0.333333</td>\n",
              "      <td>0.166667</td>\n",
              "      <td>0.222222</td>\n",
              "      <td>6.0</td>\n",
              "    </tr>\n",
              "    <tr>\n",
              "      <th>36</th>\n",
              "      <td>joint</td>\n",
              "      <td>0.990826</td>\n",
              "      <td>0.750000</td>\n",
              "      <td>0.600000</td>\n",
              "      <td>0.750000</td>\n",
              "      <td>0.666667</td>\n",
              "      <td>4.0</td>\n",
              "    </tr>\n",
              "    <tr>\n",
              "      <th>37</th>\n",
              "      <td>space</td>\n",
              "      <td>0.995392</td>\n",
              "      <td>0.600000</td>\n",
              "      <td>0.750000</td>\n",
              "      <td>0.600000</td>\n",
              "      <td>0.666667</td>\n",
              "      <td>5.0</td>\n",
              "    </tr>\n",
              "    <tr>\n",
              "      <th>38</th>\n",
              "      <td>stop</td>\n",
              "      <td>0.990783</td>\n",
              "      <td>0.600000</td>\n",
              "      <td>0.600000</td>\n",
              "      <td>0.600000</td>\n",
              "      <td>0.600000</td>\n",
              "      <td>5.0</td>\n",
              "    </tr>\n",
              "  </tbody>\n",
              "</table>\n",
              "</div>\n",
              "      <button class=\"colab-df-convert\" onclick=\"convertToInteractive('df-85e62480-5c2f-478b-be87-c7e418376f4d')\"\n",
              "              title=\"Convert this dataframe to an interactive table.\"\n",
              "              style=\"display:none;\">\n",
              "        \n",
              "  <svg xmlns=\"http://www.w3.org/2000/svg\" height=\"24px\"viewBox=\"0 0 24 24\"\n",
              "       width=\"24px\">\n",
              "    <path d=\"M0 0h24v24H0V0z\" fill=\"none\"/>\n",
              "    <path d=\"M18.56 5.44l.94 2.06.94-2.06 2.06-.94-2.06-.94-.94-2.06-.94 2.06-2.06.94zm-11 1L8.5 8.5l.94-2.06 2.06-.94-2.06-.94L8.5 2.5l-.94 2.06-2.06.94zm10 10l.94 2.06.94-2.06 2.06-.94-2.06-.94-.94-2.06-.94 2.06-2.06.94z\"/><path d=\"M17.41 7.96l-1.37-1.37c-.4-.4-.92-.59-1.43-.59-.52 0-1.04.2-1.43.59L10.3 9.45l-7.72 7.72c-.78.78-.78 2.05 0 2.83L4 21.41c.39.39.9.59 1.41.59.51 0 1.02-.2 1.41-.59l7.78-7.78 2.81-2.81c.8-.78.8-2.07 0-2.86zM5.41 20L4 18.59l7.72-7.72 1.47 1.35L5.41 20z\"/>\n",
              "  </svg>\n",
              "      </button>\n",
              "      \n",
              "  <style>\n",
              "    .colab-df-container {\n",
              "      display:flex;\n",
              "      flex-wrap:wrap;\n",
              "      gap: 12px;\n",
              "    }\n",
              "\n",
              "    .colab-df-convert {\n",
              "      background-color: #E8F0FE;\n",
              "      border: none;\n",
              "      border-radius: 50%;\n",
              "      cursor: pointer;\n",
              "      display: none;\n",
              "      fill: #1967D2;\n",
              "      height: 32px;\n",
              "      padding: 0 0 0 0;\n",
              "      width: 32px;\n",
              "    }\n",
              "\n",
              "    .colab-df-convert:hover {\n",
              "      background-color: #E2EBFA;\n",
              "      box-shadow: 0px 1px 2px rgba(60, 64, 67, 0.3), 0px 1px 3px 1px rgba(60, 64, 67, 0.15);\n",
              "      fill: #174EA6;\n",
              "    }\n",
              "\n",
              "    [theme=dark] .colab-df-convert {\n",
              "      background-color: #3B4455;\n",
              "      fill: #D2E3FC;\n",
              "    }\n",
              "\n",
              "    [theme=dark] .colab-df-convert:hover {\n",
              "      background-color: #434B5C;\n",
              "      box-shadow: 0px 1px 3px 1px rgba(0, 0, 0, 0.15);\n",
              "      filter: drop-shadow(0px 1px 2px rgba(0, 0, 0, 0.3));\n",
              "      fill: #FFFFFF;\n",
              "    }\n",
              "  </style>\n",
              "\n",
              "      <script>\n",
              "        const buttonEl =\n",
              "          document.querySelector('#df-85e62480-5c2f-478b-be87-c7e418376f4d button.colab-df-convert');\n",
              "        buttonEl.style.display =\n",
              "          google.colab.kernel.accessAllowed ? 'block' : 'none';\n",
              "\n",
              "        async function convertToInteractive(key) {\n",
              "          const element = document.querySelector('#df-85e62480-5c2f-478b-be87-c7e418376f4d');\n",
              "          const dataTable =\n",
              "            await google.colab.kernel.invokeFunction('convertToInteractive',\n",
              "                                                     [key], {});\n",
              "          if (!dataTable) return;\n",
              "\n",
              "          const docLinkHtml = 'Like what you see? Visit the ' +\n",
              "            '<a target=\"_blank\" href=https://colab.research.google.com/notebooks/data_table.ipynb>data table notebook</a>'\n",
              "            + ' to learn more about interactive tables.';\n",
              "          element.innerHTML = '';\n",
              "          dataTable['output_type'] = 'display_data';\n",
              "          await google.colab.output.renderOutput(dataTable, element);\n",
              "          const docLink = document.createElement('div');\n",
              "          docLink.innerHTML = docLinkHtml;\n",
              "          element.appendChild(docLink);\n",
              "        }\n",
              "      </script>\n",
              "    </div>\n",
              "  </div>\n",
              "  "
            ]
          },
          "metadata": {},
          "execution_count": 181
        }
      ]
    },
    {
      "cell_type": "code",
      "source": [
        "a_matrix.to_csv('/content/drive/MyDrive/PAPER/alex/classification_report.csv')\n"
      ],
      "metadata": {
        "id": "Og4sMteqOnKf"
      },
      "execution_count": null,
      "outputs": []
    },
    {
      "cell_type": "code",
      "source": [
        "a_rep.to_csv('/content/drive/MyDrive/PAPER/alex/acc_report.csv')"
      ],
      "metadata": {
        "id": "XDYoOdILOnKf"
      },
      "execution_count": null,
      "outputs": []
    },
    {
      "metadata": {
        "_uuid": "41ce7e2c92640cab238862be76bc215c5276e1b0",
        "id": "dE9g5GdKGaWp"
      },
      "cell_type": "markdown",
      "source": [
        "#**Predicting New Test Image(s)**"
      ]
    },
    {
      "metadata": {
        "trusted": true,
        "_uuid": "d7555c94c00798f04c7bbc0d2ddc4e50e20c7d16",
        "id": "2gMWzziWGaWp"
      },
      "cell_type": "code",
      "source": [
        "# predicting an image\n",
        "from keras.preprocessing import image\n",
        "import numpy as np\n",
        "image_path = \"../input/new-plant-diseases-dataset/test/test/TomatoEarlyBlight1.JPG\"\n",
        "new_img = image.load_img(image_path, target_size=(224, 224))\n",
        "img = image.img_to_array(new_img)\n",
        "img = np.expand_dims(img, axis=0)\n",
        "img = img/255\n",
        "\n",
        "print(\"Following is our prediction:\")\n",
        "prediction = classifier.predict(img)\n",
        "# decode the results into a list of tuples (class, description, probability)\n",
        "# (one such list for each sample in the batch)\n",
        "d = prediction.flatten()\n",
        "j = d.max()\n",
        "for index,item in enumerate(d):\n",
        "    if item == j:\n",
        "        class_name = li[index]\n",
        "\n",
        "##Another way\n",
        "# img_class = classifier.predict_classes(img)\n",
        "# img_prob = classifier.predict_proba(img)\n",
        "# print(img_class ,img_prob )\n",
        "\n",
        "\n",
        "#ploting image with predicted class name        \n",
        "plt.figure(figsize = (4,4))\n",
        "plt.imshow(new_img)\n",
        "plt.axis('off')\n",
        "plt.title(class_name)\n",
        "plt.show()"
      ],
      "execution_count": null,
      "outputs": []
    },
    {
      "cell_type": "markdown",
      "source": [
        "#Overall"
      ],
      "metadata": {
        "id": "S16HSYFUrlvw"
      }
    },
    {
      "cell_type": "code",
      "source": [
        "res = pd.read_csv('/content/drive/MyDrive/PAPER/resnet50/logs.csv')\n",
        "v6= pd.read_csv('/content/drive/MyDrive/PAPER/v16_logs_280223_sparse.csv')\n",
        "v9=pd.read_csv('/content/drive/MyDrive/PAPER/VGG19/v19_logs.csv')\n",
        "al=pd.read_csv('/content/drive/MyDrive/PAPER/alex/alex_logs.csv')"
      ],
      "metadata": {
        "id": "Yq2gWlmtrlX7"
      },
      "execution_count": null,
      "outputs": []
    },
    {
      "cell_type": "code",
      "source": [
        "res = res.iloc[:20,:]"
      ],
      "metadata": {
        "id": "WGxtQDzrwnM8"
      },
      "execution_count": null,
      "outputs": []
    },
    {
      "cell_type": "code",
      "source": [
        "import matplotlib.pyplot as plt\n",
        "import seaborn as sns\n",
        "sns.set()\n",
        "\n",
        "acc = res['accuracy']\n",
        "# val_acc = history.history['val_accuracy']\n",
        "# loss = history.history['loss']\n",
        "# val_loss = history.history['val_loss']\n",
        "epochs = range(1, len(res['loss']) + 1)\n",
        "\n",
        "#accuracy plot\n",
        "plt.plot(epochs, acc, color='green', label='ResNet')\n",
        "plt.plot(epochs, v6['accuracy'], color='red', label='VGG16')\n",
        "plt.plot(epochs, v9['accuracy'], color='blue', label='VGG19')\n",
        "plt.plot(epochs, al['accuracy'], color='purple', label='AlexNet')\n",
        "# plt.plot(epochs, val_acc, color='blue', label='Validation Accuracy')\n",
        "plt.title('Training Accuracy Comparision')\n",
        "plt.ylabel('Accuracy')\n",
        "plt.xlabel('Epoch')\n",
        "plt.legend()\n",
        "\n",
        "# plt.figure()\n",
        "# #loss plot\n",
        "# plt.plot(epochs, loss, color='pink', label='Training Loss')\n",
        "# plt.plot(epochs, val_loss, color='red', label='Validation Loss')\n",
        "# plt.title('Training and Validation Loss for Alexnet')\n",
        "# plt.xlabel('Epoch')\n",
        "# plt.ylabel('Loss')\n",
        "# plt.legend()\n",
        "\n",
        "plt.show()"
      ],
      "metadata": {
        "colab": {
          "base_uri": "https://localhost:8080/",
          "height": 797
        },
        "id": "fXDvLih8uEn1",
        "outputId": "cbcc614b-32f1-4e6d-ad41-5656712f870e"
      },
      "execution_count": null,
      "outputs": [
        {
          "output_type": "error",
          "ename": "ValueError",
          "evalue": "ignored",
          "traceback": [
            "\u001b[0;31m---------------------------------------------------------------------------\u001b[0m",
            "\u001b[0;31mValueError\u001b[0m                                Traceback (most recent call last)",
            "\u001b[0;32m<ipython-input-189-975fdc719694>\u001b[0m in \u001b[0;36m<cell line: 13>\u001b[0;34m()\u001b[0m\n\u001b[1;32m     11\u001b[0m \u001b[0;31m#accuracy plot\u001b[0m\u001b[0;34m\u001b[0m\u001b[0;34m\u001b[0m\u001b[0m\n\u001b[1;32m     12\u001b[0m \u001b[0mplt\u001b[0m\u001b[0;34m.\u001b[0m\u001b[0mplot\u001b[0m\u001b[0;34m(\u001b[0m\u001b[0mepochs\u001b[0m\u001b[0;34m,\u001b[0m \u001b[0macc\u001b[0m\u001b[0;34m,\u001b[0m \u001b[0mcolor\u001b[0m\u001b[0;34m=\u001b[0m\u001b[0;34m'green'\u001b[0m\u001b[0;34m,\u001b[0m \u001b[0mlabel\u001b[0m\u001b[0;34m=\u001b[0m\u001b[0;34m'ResNet'\u001b[0m\u001b[0;34m)\u001b[0m\u001b[0;34m\u001b[0m\u001b[0;34m\u001b[0m\u001b[0m\n\u001b[0;32m---> 13\u001b[0;31m \u001b[0mplt\u001b[0m\u001b[0;34m.\u001b[0m\u001b[0mplot\u001b[0m\u001b[0;34m(\u001b[0m\u001b[0mepochs\u001b[0m\u001b[0;34m,\u001b[0m \u001b[0mv6\u001b[0m\u001b[0;34m[\u001b[0m\u001b[0;34m'accuracy'\u001b[0m\u001b[0;34m]\u001b[0m\u001b[0;34m,\u001b[0m \u001b[0mcolor\u001b[0m\u001b[0;34m=\u001b[0m\u001b[0;34m'red'\u001b[0m\u001b[0;34m,\u001b[0m \u001b[0mlabel\u001b[0m\u001b[0;34m=\u001b[0m\u001b[0;34m'VGG16'\u001b[0m\u001b[0;34m)\u001b[0m\u001b[0;34m\u001b[0m\u001b[0;34m\u001b[0m\u001b[0m\n\u001b[0m\u001b[1;32m     14\u001b[0m \u001b[0mplt\u001b[0m\u001b[0;34m.\u001b[0m\u001b[0mplot\u001b[0m\u001b[0;34m(\u001b[0m\u001b[0mepochs\u001b[0m\u001b[0;34m,\u001b[0m \u001b[0mv9\u001b[0m\u001b[0;34m[\u001b[0m\u001b[0;34m'accuracy'\u001b[0m\u001b[0;34m]\u001b[0m\u001b[0;34m,\u001b[0m \u001b[0mcolor\u001b[0m\u001b[0;34m=\u001b[0m\u001b[0;34m'blue'\u001b[0m\u001b[0;34m,\u001b[0m \u001b[0mlabel\u001b[0m\u001b[0;34m=\u001b[0m\u001b[0;34m'VGG19'\u001b[0m\u001b[0;34m)\u001b[0m\u001b[0;34m\u001b[0m\u001b[0;34m\u001b[0m\u001b[0m\n\u001b[1;32m     15\u001b[0m \u001b[0mplt\u001b[0m\u001b[0;34m.\u001b[0m\u001b[0mplot\u001b[0m\u001b[0;34m(\u001b[0m\u001b[0mepochs\u001b[0m\u001b[0;34m,\u001b[0m \u001b[0mal\u001b[0m\u001b[0;34m[\u001b[0m\u001b[0;34m'accuracy'\u001b[0m\u001b[0;34m]\u001b[0m\u001b[0;34m,\u001b[0m \u001b[0mcolor\u001b[0m\u001b[0;34m=\u001b[0m\u001b[0;34m'purple'\u001b[0m\u001b[0;34m,\u001b[0m \u001b[0mlabel\u001b[0m\u001b[0;34m=\u001b[0m\u001b[0;34m'AlexNet'\u001b[0m\u001b[0;34m)\u001b[0m\u001b[0;34m\u001b[0m\u001b[0;34m\u001b[0m\u001b[0m\n",
            "\u001b[0;32m/usr/local/lib/python3.9/dist-packages/matplotlib/pyplot.py\u001b[0m in \u001b[0;36mplot\u001b[0;34m(scalex, scaley, data, *args, **kwargs)\u001b[0m\n\u001b[1;32m   2810\u001b[0m \u001b[0;34m@\u001b[0m\u001b[0m_copy_docstring_and_deprecators\u001b[0m\u001b[0;34m(\u001b[0m\u001b[0mAxes\u001b[0m\u001b[0;34m.\u001b[0m\u001b[0mplot\u001b[0m\u001b[0;34m)\u001b[0m\u001b[0;34m\u001b[0m\u001b[0;34m\u001b[0m\u001b[0m\n\u001b[1;32m   2811\u001b[0m \u001b[0;32mdef\u001b[0m \u001b[0mplot\u001b[0m\u001b[0;34m(\u001b[0m\u001b[0;34m*\u001b[0m\u001b[0margs\u001b[0m\u001b[0;34m,\u001b[0m \u001b[0mscalex\u001b[0m\u001b[0;34m=\u001b[0m\u001b[0;32mTrue\u001b[0m\u001b[0;34m,\u001b[0m \u001b[0mscaley\u001b[0m\u001b[0;34m=\u001b[0m\u001b[0;32mTrue\u001b[0m\u001b[0;34m,\u001b[0m \u001b[0mdata\u001b[0m\u001b[0;34m=\u001b[0m\u001b[0;32mNone\u001b[0m\u001b[0;34m,\u001b[0m \u001b[0;34m**\u001b[0m\u001b[0mkwargs\u001b[0m\u001b[0;34m)\u001b[0m\u001b[0;34m:\u001b[0m\u001b[0;34m\u001b[0m\u001b[0;34m\u001b[0m\u001b[0m\n\u001b[0;32m-> 2812\u001b[0;31m     return gca().plot(\n\u001b[0m\u001b[1;32m   2813\u001b[0m         \u001b[0;34m*\u001b[0m\u001b[0margs\u001b[0m\u001b[0;34m,\u001b[0m \u001b[0mscalex\u001b[0m\u001b[0;34m=\u001b[0m\u001b[0mscalex\u001b[0m\u001b[0;34m,\u001b[0m \u001b[0mscaley\u001b[0m\u001b[0;34m=\u001b[0m\u001b[0mscaley\u001b[0m\u001b[0;34m,\u001b[0m\u001b[0;34m\u001b[0m\u001b[0;34m\u001b[0m\u001b[0m\n\u001b[1;32m   2814\u001b[0m         **({\"data\": data} if data is not None else {}), **kwargs)\n",
            "\u001b[0;32m/usr/local/lib/python3.9/dist-packages/matplotlib/axes/_axes.py\u001b[0m in \u001b[0;36mplot\u001b[0;34m(self, scalex, scaley, data, *args, **kwargs)\u001b[0m\n\u001b[1;32m   1686\u001b[0m         \"\"\"\n\u001b[1;32m   1687\u001b[0m         \u001b[0mkwargs\u001b[0m \u001b[0;34m=\u001b[0m \u001b[0mcbook\u001b[0m\u001b[0;34m.\u001b[0m\u001b[0mnormalize_kwargs\u001b[0m\u001b[0;34m(\u001b[0m\u001b[0mkwargs\u001b[0m\u001b[0;34m,\u001b[0m \u001b[0mmlines\u001b[0m\u001b[0;34m.\u001b[0m\u001b[0mLine2D\u001b[0m\u001b[0;34m)\u001b[0m\u001b[0;34m\u001b[0m\u001b[0;34m\u001b[0m\u001b[0m\n\u001b[0;32m-> 1688\u001b[0;31m         \u001b[0mlines\u001b[0m \u001b[0;34m=\u001b[0m \u001b[0;34m[\u001b[0m\u001b[0;34m*\u001b[0m\u001b[0mself\u001b[0m\u001b[0;34m.\u001b[0m\u001b[0m_get_lines\u001b[0m\u001b[0;34m(\u001b[0m\u001b[0;34m*\u001b[0m\u001b[0margs\u001b[0m\u001b[0;34m,\u001b[0m \u001b[0mdata\u001b[0m\u001b[0;34m=\u001b[0m\u001b[0mdata\u001b[0m\u001b[0;34m,\u001b[0m \u001b[0;34m**\u001b[0m\u001b[0mkwargs\u001b[0m\u001b[0;34m)\u001b[0m\u001b[0;34m]\u001b[0m\u001b[0;34m\u001b[0m\u001b[0;34m\u001b[0m\u001b[0m\n\u001b[0m\u001b[1;32m   1689\u001b[0m         \u001b[0;32mfor\u001b[0m \u001b[0mline\u001b[0m \u001b[0;32min\u001b[0m \u001b[0mlines\u001b[0m\u001b[0;34m:\u001b[0m\u001b[0;34m\u001b[0m\u001b[0;34m\u001b[0m\u001b[0m\n\u001b[1;32m   1690\u001b[0m             \u001b[0mself\u001b[0m\u001b[0;34m.\u001b[0m\u001b[0madd_line\u001b[0m\u001b[0;34m(\u001b[0m\u001b[0mline\u001b[0m\u001b[0;34m)\u001b[0m\u001b[0;34m\u001b[0m\u001b[0;34m\u001b[0m\u001b[0m\n",
            "\u001b[0;32m/usr/local/lib/python3.9/dist-packages/matplotlib/axes/_base.py\u001b[0m in \u001b[0;36m__call__\u001b[0;34m(self, data, *args, **kwargs)\u001b[0m\n\u001b[1;32m    309\u001b[0m                 \u001b[0mthis\u001b[0m \u001b[0;34m+=\u001b[0m \u001b[0margs\u001b[0m\u001b[0;34m[\u001b[0m\u001b[0;36m0\u001b[0m\u001b[0;34m]\u001b[0m\u001b[0;34m,\u001b[0m\u001b[0;34m\u001b[0m\u001b[0;34m\u001b[0m\u001b[0m\n\u001b[1;32m    310\u001b[0m                 \u001b[0margs\u001b[0m \u001b[0;34m=\u001b[0m \u001b[0margs\u001b[0m\u001b[0;34m[\u001b[0m\u001b[0;36m1\u001b[0m\u001b[0;34m:\u001b[0m\u001b[0;34m]\u001b[0m\u001b[0;34m\u001b[0m\u001b[0;34m\u001b[0m\u001b[0m\n\u001b[0;32m--> 311\u001b[0;31m             yield from self._plot_args(\n\u001b[0m\u001b[1;32m    312\u001b[0m                 this, kwargs, ambiguous_fmt_datakey=ambiguous_fmt_datakey)\n\u001b[1;32m    313\u001b[0m \u001b[0;34m\u001b[0m\u001b[0m\n",
            "\u001b[0;32m/usr/local/lib/python3.9/dist-packages/matplotlib/axes/_base.py\u001b[0m in \u001b[0;36m_plot_args\u001b[0;34m(self, tup, kwargs, return_kwargs, ambiguous_fmt_datakey)\u001b[0m\n\u001b[1;32m    502\u001b[0m \u001b[0;34m\u001b[0m\u001b[0m\n\u001b[1;32m    503\u001b[0m         \u001b[0;32mif\u001b[0m \u001b[0mx\u001b[0m\u001b[0;34m.\u001b[0m\u001b[0mshape\u001b[0m\u001b[0;34m[\u001b[0m\u001b[0;36m0\u001b[0m\u001b[0;34m]\u001b[0m \u001b[0;34m!=\u001b[0m \u001b[0my\u001b[0m\u001b[0;34m.\u001b[0m\u001b[0mshape\u001b[0m\u001b[0;34m[\u001b[0m\u001b[0;36m0\u001b[0m\u001b[0;34m]\u001b[0m\u001b[0;34m:\u001b[0m\u001b[0;34m\u001b[0m\u001b[0;34m\u001b[0m\u001b[0m\n\u001b[0;32m--> 504\u001b[0;31m             raise ValueError(f\"x and y must have same first dimension, but \"\n\u001b[0m\u001b[1;32m    505\u001b[0m                              f\"have shapes {x.shape} and {y.shape}\")\n\u001b[1;32m    506\u001b[0m         \u001b[0;32mif\u001b[0m \u001b[0mx\u001b[0m\u001b[0;34m.\u001b[0m\u001b[0mndim\u001b[0m \u001b[0;34m>\u001b[0m \u001b[0;36m2\u001b[0m \u001b[0;32mor\u001b[0m \u001b[0my\u001b[0m\u001b[0;34m.\u001b[0m\u001b[0mndim\u001b[0m \u001b[0;34m>\u001b[0m \u001b[0;36m2\u001b[0m\u001b[0;34m:\u001b[0m\u001b[0;34m\u001b[0m\u001b[0;34m\u001b[0m\u001b[0m\n",
            "\u001b[0;31mValueError\u001b[0m: x and y must have same first dimension, but have shapes (20,) and (50,)"
          ]
        },
        {
          "output_type": "display_data",
          "data": {
            "text/plain": [
              "<Figure size 640x480 with 1 Axes>"
            ],
            "image/png": "[encoded data removed]"
          },
          "metadata": {}
        }
      ]
    },
    {
      "cell_type": "code",
      "source": [],
      "metadata": {
        "id": "bVAz6S1TMEXm"
      },
      "execution_count": null,
      "outputs": []
    },
    {
      "cell_type": "code",
      "source": [
        "# acc = res['accuracy']\n",
        "# val_acc = history.history['val_accuracy']\n",
        "# loss = history.history['loss']\n",
        "# val_loss = history.history['val_loss']\n",
        "epochs = range(1, len(res['loss']) + 1)\n",
        "\n",
        "#accuracy plot\n",
        "plt.plot(epochs, res['val_accuracy'], color='green', label='Resnet')\n",
        "plt.plot(epochs, v6['val_accuracy'], color='red', label='VGG16')\n",
        "plt.plot(epochs, v9['val_accuracy'], color='blue', label='VGG19')\n",
        "# plt.plot(epochs, val_acc, color='blue', label='Validation Accuracy')\n",
        "plt.title('Validation Accuracy Comparision')\n",
        "plt.ylabel('Accuracy')\n",
        "plt.xlabel('Epoch')\n",
        "plt.legend()\n",
        "\n",
        "# plt.figure()\n",
        "# #loss plot\n",
        "# plt.plot(epochs, loss, color='pink', label='Training Loss')\n",
        "# plt.plot(epochs, val_loss, color='red', label='Validation Loss')\n",
        "# plt.title('Training and Validation Loss for Alexnet')\n",
        "# plt.xlabel('Epoch')\n",
        "# plt.ylabel('Loss')\n",
        "# plt.legend()\n",
        "\n",
        "plt.show()"
      ],
      "metadata": {
        "colab": {
          "base_uri": "https://localhost:8080/",
          "height": 301
        },
        "id": "ed8TU9vjxIUP",
        "outputId": "2843783f-1744-4119-bcc9-07af5fb8d664"
      },
      "execution_count": null,
      "outputs": [
        {
          "output_type": "display_data",
          "data": {
            "text/plain": [
              "<Figure size 432x288 with 1 Axes>"
            ],
            "image/png": "[encoded data removed]"
          },
          "metadata": {}
        }
      ]
    },
    {
      "cell_type": "code",
      "source": [
        "ra=pd.read_csv('/content/drive/MyDrive/Thesis/model/resnet50/acc_report.csv')\n",
        "v6a=pd.read_csv('/content/drive/MyDrive/Thesis/model/vgg16/acc_report.csv')\n",
        "v9a=pd.read_csv('/content/drive/MyDrive/Thesis/model/vgg19/acc_report.csv')"
      ],
      "metadata": {
        "id": "AbHEOiLMyS2g"
      },
      "execution_count": null,
      "outputs": []
    },
    {
      "cell_type": "code",
      "source": [
        "ra=ra.transpose()\n",
        "v6a=v6a\n",
        "v9a=v9a"
      ],
      "metadata": {
        "id": "KxRPRfzH0Fo-"
      },
      "execution_count": null,
      "outputs": []
    },
    {
      "cell_type": "code",
      "source": [
        "\n",
        "y=np.array([ra['f1-score'].iat[0],v6a['f1-score'].iat[0],v9a['f1-score'].iat[0]])\n",
        "x=np.array(['resnet','VGG16','VGG19'])\n",
        "\n",
        "plt.bar(x,y,color = \"green\")\n",
        "\n",
        "plt.title('Accuracy Comparision')\n",
        "plt.ylabel('Accuracy')\n",
        "plt.xlabel('Models')\n",
        "plt.legend()\n",
        "\n",
        "\n",
        "plt.show()"
      ],
      "metadata": {
        "colab": {
          "base_uri": "https://localhost:8080/",
          "height": 318
        },
        "id": "-3qgr2imyJIm",
        "outputId": "e89dcfd5-9630-4059-aa7a-cc2483da3929"
      },
      "execution_count": null,
      "outputs": [
        {
          "output_type": "stream",
          "name": "stderr",
          "text": [
            "WARNING:matplotlib.legend:No handles with labels found to put in legend.\n"
          ]
        },
        {
          "output_type": "display_data",
          "data": {
            "text/plain": [
              "<Figure size 432x288 with 1 Axes>"
            ],
            "image/png": "[encoded data removed]"
          },
          "metadata": {}
        }
      ]
    },
    {
      "cell_type": "code",
      "source": [
        "y = np.array([1343, 372, 224])\n",
        "labels = [\"Train Data\", \"Test Data\", \"Validation\"]\n",
        "plt.pie(y,labels=labels)\n",
        "plt.title('Data split')\n",
        "plt.show() "
      ],
      "metadata": {
        "colab": {
          "base_uri": "https://localhost:8080/",
          "height": 264
        },
        "id": "YpouFitdxWHh",
        "outputId": "c758ece3-0f7a-4cf1-c5f4-0386d165f173"
      },
      "execution_count": null,
      "outputs": [
        {
          "output_type": "display_data",
          "data": {
            "text/plain": [
              "<Figure size 432x288 with 1 Axes>"
            ],
            "image/png": "[encoded data removed]"
          },
          "metadata": {}
        }
      ]
    },
    {
      "cell_type": "code",
      "source": [
        "ra"
      ],
      "metadata": {
        "colab": {
          "base_uri": "https://localhost:8080/",
          "height": 143
        },
        "id": "SamYRQcbthYd",
        "outputId": "2a2bc60d-af02-4c9a-e8e1-75d880246ef6"
      },
      "execution_count": null,
      "outputs": [
        {
          "output_type": "execute_result",
          "data": {
            "text/plain": [
              "     Unnamed: 0  precision    recall  f1-score     support\n",
              "0      accuracy   0.147321  0.147321  0.147321    0.147321\n",
              "1     macro avg   0.178839  0.144119  0.120518  224.000000\n",
              "2  weighted avg   0.184569  0.147321  0.120974  224.000000"
            ],
            "text/html": [
              "\n",
              "  <div id=\"df-a6fc67bf-335f-463f-9297-392f3c506b0c\">\n",
              "    <div class=\"colab-df-container\">\n",
              "      <div>\n",
              "<style scoped>\n",
              "    .dataframe tbody tr th:only-of-type {\n",
              "        vertical-align: middle;\n",
              "    }\n",
              "\n",
              "    .dataframe tbody tr th {\n",
              "        vertical-align: top;\n",
              "    }\n",
              "\n",
              "    .dataframe thead th {\n",
              "        text-align: right;\n",
              "    }\n",
              "</style>\n",
              "<table border=\"1\" class=\"dataframe\">\n",
              "  <thead>\n",
              "    <tr style=\"text-align: right;\">\n",
              "      <th></th>\n",
              "      <th>Unnamed: 0</th>\n",
              "      <th>precision</th>\n",
              "      <th>recall</th>\n",
              "      <th>f1-score</th>\n",
              "      <th>support</th>\n",
              "    </tr>\n",
              "  </thead>\n",
              "  <tbody>\n",
              "    <tr>\n",
              "      <th>0</th>\n",
              "      <td>accuracy</td>\n",
              "      <td>0.147321</td>\n",
              "      <td>0.147321</td>\n",
              "      <td>0.147321</td>\n",
              "      <td>0.147321</td>\n",
              "    </tr>\n",
              "    <tr>\n",
              "      <th>1</th>\n",
              "      <td>macro avg</td>\n",
              "      <td>0.178839</td>\n",
              "      <td>0.144119</td>\n",
              "      <td>0.120518</td>\n",
              "      <td>224.000000</td>\n",
              "    </tr>\n",
              "    <tr>\n",
              "      <th>2</th>\n",
              "      <td>weighted avg</td>\n",
              "      <td>0.184569</td>\n",
              "      <td>0.147321</td>\n",
              "      <td>0.120974</td>\n",
              "      <td>224.000000</td>\n",
              "    </tr>\n",
              "  </tbody>\n",
              "</table>\n",
              "</div>\n",
              "      <button class=\"colab-df-convert\" onclick=\"convertToInteractive('df-a6fc67bf-335f-463f-9297-392f3c506b0c')\"\n",
              "              title=\"Convert this dataframe to an interactive table.\"\n",
              "              style=\"display:none;\">\n",
              "        \n",
              "  <svg xmlns=\"http://www.w3.org/2000/svg\" height=\"24px\"viewBox=\"0 0 24 24\"\n",
              "       width=\"24px\">\n",
              "    <path d=\"M0 0h24v24H0V0z\" fill=\"none\"/>\n",
              "    <path d=\"M18.56 5.44l.94 2.06.94-2.06 2.06-.94-2.06-.94-.94-2.06-.94 2.06-2.06.94zm-11 1L8.5 8.5l.94-2.06 2.06-.94-2.06-.94L8.5 2.5l-.94 2.06-2.06.94zm10 10l.94 2.06.94-2.06 2.06-.94-2.06-.94-.94-2.06-.94 2.06-2.06.94z\"/><path d=\"M17.41 7.96l-1.37-1.37c-.4-.4-.92-.59-1.43-.59-.52 0-1.04.2-1.43.59L10.3 9.45l-7.72 7.72c-.78.78-.78 2.05 0 2.83L4 21.41c.39.39.9.59 1.41.59.51 0 1.02-.2 1.41-.59l7.78-7.78 2.81-2.81c.8-.78.8-2.07 0-2.86zM5.41 20L4 18.59l7.72-7.72 1.47 1.35L5.41 20z\"/>\n",
              "  </svg>\n",
              "      </button>\n",
              "      \n",
              "  <style>\n",
              "    .colab-df-container {\n",
              "      display:flex;\n",
              "      flex-wrap:wrap;\n",
              "      gap: 12px;\n",
              "    }\n",
              "\n",
              "    .colab-df-convert {\n",
              "      background-color: #E8F0FE;\n",
              "      border: none;\n",
              "      border-radius: 50%;\n",
              "      cursor: pointer;\n",
              "      display: none;\n",
              "      fill: #1967D2;\n",
              "      height: 32px;\n",
              "      padding: 0 0 0 0;\n",
              "      width: 32px;\n",
              "    }\n",
              "\n",
              "    .colab-df-convert:hover {\n",
              "      background-color: #E2EBFA;\n",
              "      box-shadow: 0px 1px 2px rgba(60, 64, 67, 0.3), 0px 1px 3px 1px rgba(60, 64, 67, 0.15);\n",
              "      fill: #174EA6;\n",
              "    }\n",
              "\n",
              "    [theme=dark] .colab-df-convert {\n",
              "      background-color: #3B4455;\n",
              "      fill: #D2E3FC;\n",
              "    }\n",
              "\n",
              "    [theme=dark] .colab-df-convert:hover {\n",
              "      background-color: #434B5C;\n",
              "      box-shadow: 0px 1px 3px 1px rgba(0, 0, 0, 0.15);\n",
              "      filter: drop-shadow(0px 1px 2px rgba(0, 0, 0, 0.3));\n",
              "      fill: #FFFFFF;\n",
              "    }\n",
              "  </style>\n",
              "\n",
              "      <script>\n",
              "        const buttonEl =\n",
              "          document.querySelector('#df-a6fc67bf-335f-463f-9297-392f3c506b0c button.colab-df-convert');\n",
              "        buttonEl.style.display =\n",
              "          google.colab.kernel.accessAllowed ? 'block' : 'none';\n",
              "\n",
              "        async function convertToInteractive(key) {\n",
              "          const element = document.querySelector('#df-a6fc67bf-335f-463f-9297-392f3c506b0c');\n",
              "          const dataTable =\n",
              "            await google.colab.kernel.invokeFunction('convertToInteractive',\n",
              "                                                     [key], {});\n",
              "          if (!dataTable) return;\n",
              "\n",
              "          const docLinkHtml = 'Like what you see? Visit the ' +\n",
              "            '<a target=\"_blank\" href=https://colab.research.google.com/notebooks/data_table.ipynb>data table notebook</a>'\n",
              "            + ' to learn more about interactive tables.';\n",
              "          element.innerHTML = '';\n",
              "          dataTable['output_type'] = 'display_data';\n",
              "          await google.colab.output.renderOutput(dataTable, element);\n",
              "          const docLink = document.createElement('div');\n",
              "          docLink.innerHTML = docLinkHtml;\n",
              "          element.appendChild(docLink);\n",
              "        }\n",
              "      </script>\n",
              "    </div>\n",
              "  </div>\n",
              "  "
            ]
          },
          "metadata": {},
          "execution_count": 20
        }
      ]
    }
  ],
  "metadata": {
    "colab": {
      "provenance": [],
      "collapsed_sections": [
        "QrQMW6KeUW6T"
      ],
      "include_colab_link": true
    },
    "gpuClass": "standard",
    "kernelspec": {
      "display_name": "Python 3",
      "name": "python3"
    },
    "language_info": {
      "name": "python"
    },
    "accelerator": "GPU"
  },
  "nbformat": 4,
  "nbformat_minor": 0
}